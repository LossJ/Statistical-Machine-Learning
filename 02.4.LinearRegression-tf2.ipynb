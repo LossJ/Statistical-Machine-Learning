{
 "cells": [
  {
   "cell_type": "code",
   "execution_count": 1,
   "metadata": {},
   "outputs": [
    {
     "name": "stdout",
     "output_type": "stream",
     "text": [
      "python version:  sys.version_info(major=3, minor=7, micro=2, releaselevel='final', serial=0)\n",
      "tensorflow 2.3.0\n",
      "tensorflow.keras 2.4.0\n"
     ]
    }
   ],
   "source": [
    "import os\n",
    "import sys\n",
    "import time\n",
    "import copy\n",
    "\n",
    "from LossJLearn.base import TFBaseEstimator\n",
    "from LossJLearn.datasets import load_linear_data, load_data_from_func\n",
    "from LossJLearn.utils.plot import (show_linear_point, \n",
    "                                   show_regressor_linear, \n",
    "                                   show_regressor_linear_sgd, \n",
    "                                   show_regression_line, \n",
    "                                   show_regressor_loss)\n",
    "from LossJLearn.preprocessing import NumpyMinMaxScaler\n",
    "\n",
    "import tensorflow as tf\n",
    "from tensorflow import keras\n",
    "from sklearn.datasets import load_boston\n",
    "from sklearn.model_selection import train_test_split\n",
    "%matplotlib inline\n",
    "\n",
    "\n",
    "print(\"python version: \", sys.version_info)\n",
    "print(tf.__name__, tf.__version__)\n",
    "print(keras.__name__, keras.__version__)"
   ]
  },
  {
   "cell_type": "markdown",
   "metadata": {},
   "source": [
    "## 1. TensorFlow2 实现Linear Regression"
   ]
  },
  {
   "cell_type": "markdown",
   "metadata": {},
   "source": [
    "### 1.1 TFRegressorMixin"
   ]
  },
  {
   "cell_type": "code",
   "execution_count": 2,
   "metadata": {},
   "outputs": [],
   "source": [
    "class TFRegressorMixin:\n",
    "    \"\"\"Regressor Mixin with tensorflow. Mainly realized the score method.\"\"\"\n",
    "\n",
    "    def score(self, X_test, y_test):\n",
    "        \"\"\"Use test dataset to evaluate the trained model.\n",
    "\n",
    "        Args:\n",
    "            X_test: A tf.Tensor matrix of (n_samples, n_features) shape.\n",
    "            y_test: A tf.Tensor array of (n_samples, ) shape. data type must be\n",
    "                discrete value.\n",
    "        Returns:\n",
    "            return R^2, a np.ndarray float number. R^2 = 1 - u / v.\n",
    "                u = sum((y_pred - y_true)^2), v = sum((y_true - y_true_mean)^2)\n",
    "        \"\"\"\n",
    "        X_test, y_test = self._score_validation(X_test, y_test)\n",
    "        y_pred = self.predict(X_test, _miss_valid=True)\n",
    "        y_true_mean = tf.reduce_mean(y_test, axis=0)\n",
    "        u = tf.reduce_sum(tf.square(y_pred - y_test))\n",
    "        v = tf.reduce_sum(tf.square(y_test - y_true_mean))\n",
    "        r_squared = 1 - u / v\n",
    "        return r_squared.numpy()"
   ]
  },
  {
   "cell_type": "markdown",
   "metadata": {},
   "source": [
    "### 1.2 TFBaseLinearRegressor"
   ]
  },
  {
   "cell_type": "code",
   "execution_count": 3,
   "metadata": {},
   "outputs": [],
   "source": [
    "class TFBaseLinearRegressor(TFBaseEstimator, TFRegressorMixin):\n",
    "    \"\"\"Linear regressor base class with tensorflow, explicitly inherits \n",
    "        from TFBaseEstimator and TFRegressorMixin already.\n",
    "    \n",
    "    Attributes:\n",
    "        _X_train:feature data for training. A tf.Tensor matrix of (n_samples, n_features) shape, \n",
    "            data type must be continuous value type. \n",
    "        _y_train:label data for training. A tf.Tensor array of (n_samples, ) shape, \n",
    "            data type must be continuous value.\n",
    "        coef_: coef of linear regressor. A tf.Tensor matrix of (n_features, 1) shape.\n",
    "        intercept_: intercept of regressor. A tf.Tensor integer if intercept_ is not None else None.\n",
    "    \"\"\"\n",
    "\n",
    "    def __init__(self, fit_intercept=True, random_state=None):\n",
    "        \"\"\"linear regressor init method.\n",
    "        \n",
    "        Args:\n",
    "            fit_intercept: Bool value. If use intercept in the linear regressor model.\n",
    "        \"\"\"\n",
    "        self._X_train = None\n",
    "        self._y_train = None\n",
    "        self.coef_ = None\n",
    "        if random_state:\n",
    "            assert isinstance(random_state, int)\n",
    "            tf.random.set_seed = random_state\n",
    "        self.intercept_ = tf.random.normal(shape=[]) if fit_intercept else None\n",
    "\n",
    "    def fit(self, X_train, y_train):\n",
    "        \"\"\"method for training model. \n",
    "        \n",
    "        Args:\n",
    "            X_train: A tf.Tensor matrix of (n_samples, n_features) shape, data type must be continuous value type. \n",
    "            y_train: A tf.Tensor array of (n_samples, ) shape.\n",
    "        \n",
    "        Returns:\n",
    "            self object.\n",
    "        \"\"\"\n",
    "        self._X_train, self._y_train = self._fit_validation(X_train, y_train)\n",
    "        if self.intercept_:\n",
    "            self._X_train = tf.concat(\n",
    "                [self._X_train, tf.ones([self._X_train.shape[0], 1])], axis=1\n",
    "            )\n",
    "        self._calculate_coef()\n",
    "        if self.intercept_:\n",
    "            self.intercept_ = self.coef_[-1][0]\n",
    "            self._X_train = self._X_train[:, :-1]\n",
    "            self.coef_ = self.coef_[:-1]\n",
    "        return self\n",
    "\n",
    "    def predict(self, X_test, _miss_valid=False):\n",
    "        \"\"\"predict test data.\n",
    "        \n",
    "        Args:\n",
    "            X_test: A tf.Tensor matrix of (n_samples, n_features) shape, \n",
    "                or a tf.Tensor array of (n_features, ) shape.\n",
    "        \n",
    "        Returns:\n",
    "            result of predict. A tf.Tensor array of (n_samples, ) shape.\n",
    "        \"\"\"\n",
    "        if not _miss_valid:\n",
    "            X_test = self._predict_validation(X_test)\n",
    "        product = X_test @ self.coef_\n",
    "        result =  product if self.intercept_ is None else product + self.intercept_\n",
    "        return tf.reshape(result, [-1])"
   ]
  },
  {
   "cell_type": "markdown",
   "metadata": {},
   "source": [
    "### 1.3 TFLinearRegressor"
   ]
  },
  {
   "cell_type": "code",
   "execution_count": 4,
   "metadata": {},
   "outputs": [],
   "source": [
    "class TFLinearRegressor(TFBaseLinearRegressor):\n",
    "    \"\"\"Linear regressor class with tensorflow, explicitly inherits from TFBaseLinearRegressor already.\n",
    "    \n",
    "    Attributes:\n",
    "        _X_train:feature data for training. A tf.Tensor matrix of (n_samples, n_features) shape, \n",
    "            data type must be continuous value type. \n",
    "        _y_train:label data for training. A tf.Tensor array of (n_samples, ) shape, \n",
    "            data type must be continuous value.\n",
    "        coef_: coef of linear regressor. A tf.Tensor matrix of (n_features, 1) shape.\n",
    "        intercept_: intercept of regressor. A tf.Tensor integer if intercept_ is not None else None.\n",
    "    \"\"\"\n",
    "\n",
    "    def _calculate_coef(self):\n",
    "        xtx = tf.transpose(self._X_train) @ self._X_train\n",
    "        try:\n",
    "            xtx_inv = tf.linalg.inv(xtx)\n",
    "        except tf.errors.InvalidArgumentError as ex:\n",
    "            raise ex\n",
    "        self.coef_ = (\n",
    "            tf.linalg.inv(xtx) \\\n",
    "            @ tf.transpose(self._X_train) \\\n",
    "            @ tf.reshape(self._y_train, [-1, 1])\n",
    "        )"
   ]
  },
  {
   "cell_type": "code",
   "execution_count": 5,
   "metadata": {},
   "outputs": [
    {
     "data": {
      "text/plain": [
       "((1000, 1), (1000,))"
      ]
     },
     "execution_count": 5,
     "metadata": {},
     "output_type": "execute_result"
    }
   ],
   "source": [
    "x, y = load_linear_data(1000)\n",
    "x.shape, y.shape"
   ]
  },
  {
   "cell_type": "code",
   "execution_count": 6,
   "metadata": {},
   "outputs": [
    {
     "data": {
      "text/plain": [
       "<__main__.TFLinearRegressor at 0x1035b9e10>"
      ]
     },
     "execution_count": 6,
     "metadata": {},
     "output_type": "execute_result"
    }
   ],
   "source": [
    "rgs = TFLinearRegressor()\n",
    "rgs.fit(x, y)"
   ]
  },
  {
   "cell_type": "code",
   "execution_count": 7,
   "metadata": {},
   "outputs": [
    {
     "data": {
      "text/plain": [
       "(<tf.Tensor: shape=(1, 1), dtype=float32, numpy=array([[0.5474339]], dtype=float32)>,\n",
       " <tf.Tensor: shape=(), dtype=float32, numpy=1.2160227>)"
      ]
     },
     "execution_count": 7,
     "metadata": {},
     "output_type": "execute_result"
    }
   ],
   "source": [
    "rgs.coef_, rgs.intercept_"
   ]
  },
  {
   "cell_type": "code",
   "execution_count": 8,
   "metadata": {},
   "outputs": [
    {
     "data": {
      "text/plain": [
       "(<tf.Tensor: shape=(1, 1), dtype=float32, numpy=array([[0.73182887]], dtype=float32)>,\n",
       " None)"
      ]
     },
     "execution_count": 8,
     "metadata": {},
     "output_type": "execute_result"
    }
   ],
   "source": [
    "rgs = TFLinearRegressor(fit_intercept=False)\n",
    "rgs.fit(x, y)\n",
    "rgs.coef_, rgs.intercept_"
   ]
  },
  {
   "cell_type": "code",
   "execution_count": 9,
   "metadata": {},
   "outputs": [
    {
     "data": {
      "image/png": "[encoded data removed]",
      "text/plain": [
       "<Figure size 720x360 with 1 Axes>"
      ]
     },
     "metadata": {
      "needs_background": "light"
     },
     "output_type": "display_data"
    }
   ],
   "source": [
    "show_regressor_linear(x, y, rgs.coef_, rgs.intercept_)"
   ]
  },
  {
   "cell_type": "code",
   "execution_count": 10,
   "metadata": {},
   "outputs": [
    {
     "data": {
      "text/plain": [
       "0.5907905"
      ]
     },
     "execution_count": 10,
     "metadata": {},
     "output_type": "execute_result"
    }
   ],
   "source": [
    "rgs.score(x, y)"
   ]
  },
  {
   "cell_type": "markdown",
   "metadata": {},
   "source": [
    "### 1.4 Ridge"
   ]
  },
  {
   "cell_type": "code",
   "execution_count": 11,
   "metadata": {},
   "outputs": [],
   "source": [
    "class TFRidge(TFBaseLinearRegressor):\n",
    "    \"\"\"Ridge regressor class with tensorflow, explicitly inherits from TFBaseLinearRegressor already.\n",
    "    \n",
    "    Attributes:\n",
    "        _X_train:feature data for training. A tf.Tensor matrix of (n_samples, n_features) shape, \n",
    "            data type must be continuous value type. \n",
    "        _y_train:label data for training. A tf.Tensor array of (n_samples, ) shape, \n",
    "            data type must be continuous value.\n",
    "        coef_: coef of linear regressor. A tf.Tensor matrix of (n_features, 1) shape.\n",
    "        intercept_: intercept of regressor. A tf.Tensor integer if intercept_ is not None else None.\n",
    "        alpha: the regularize rate. A positive float number, default = 1.0.\n",
    "    \"\"\"\n",
    "\n",
    "    def __init__(self, fit_intercept=True, alpha=1.0, random_state=None):\n",
    "        \"\"\"ridge object init method.\n",
    "        \n",
    "        Args:\n",
    "            fit_intercept: Bool value. If use intercept in the ridge model.\n",
    "            alpha: the regularize rate. A positive float number, default = 1.0.\n",
    "        \n",
    "        Raises:\n",
    "            AssertionError: Alpha value must be a number.\n",
    "            ValueError: Alpha value must be greater than 0.\n",
    "        \"\"\"\n",
    "        super().__init__(fit_intercept=fit_intercept, random_state=random_state)\n",
    "        assert isinstance(alpha, int) or isinstance(alpha, float)\n",
    "        if 0 < alpha:\n",
    "            self.alpha = alpha\n",
    "        else:\n",
    "            raise ValueError(\"Alpha value must be greater than 0! \")\n",
    "\n",
    "    def _calculate_coef(self):\n",
    "        xtx = tf.transpose(self._X_train) @ self._X_train\n",
    "        self.coef_ = (\n",
    "            tf.linalg.inv(xtx + self.alpha * tf.eye(self._X_train.shape[1])) \\\n",
    "            @ tf.transpose(self._X_train) \\\n",
    "            @ tf.reshape(self._y_train, [-1, 1])\n",
    "        )"
   ]
  },
  {
   "cell_type": "code",
   "execution_count": 12,
   "metadata": {},
   "outputs": [
    {
     "data": {
      "text/plain": [
       "(<tf.Tensor: shape=(1, 1), dtype=float32, numpy=array([[0.5480834]], dtype=float32)>,\n",
       " <tf.Tensor: shape=(), dtype=float32, numpy=1.2116275>)"
      ]
     },
     "execution_count": 12,
     "metadata": {},
     "output_type": "execute_result"
    }
   ],
   "source": [
    "rgs = TFRidge()\n",
    "rgs.fit(x, y)\n",
    "rgs.coef_, rgs.intercept_"
   ]
  },
  {
   "cell_type": "code",
   "execution_count": 13,
   "metadata": {},
   "outputs": [
    {
     "data": {
      "text/plain": [
       "0.6972269"
      ]
     },
     "execution_count": 13,
     "metadata": {},
     "output_type": "execute_result"
    }
   ],
   "source": [
    "rgs.score(x, y)"
   ]
  },
  {
   "cell_type": "markdown",
   "metadata": {},
   "source": [
    "## 2. TensorFlow2 实现 SGD Regression"
   ]
  },
  {
   "cell_type": "markdown",
   "metadata": {},
   "source": [
    "### 2.1 TFSGDRegressor"
   ]
  },
  {
   "cell_type": "markdown",
   "metadata": {},
   "source": [
    "#### 2.1.1 tf.GradientTape"
   ]
  },
  {
   "cell_type": "code",
   "execution_count": 14,
   "metadata": {},
   "outputs": [
    {
     "name": "stdout",
     "output_type": "stream",
     "text": [
      "w_grad: 3.0\n"
     ]
    }
   ],
   "source": [
    "x = tf.constant(3.0)\n",
    "w = tf.Variable(0., dtype=tf.float32)\n",
    "func = lambda x: w * x\n",
    "with tf.GradientTape() as tape:\n",
    "    y_pred = func(x)\n",
    "w_grad = tape.gradient(y_pred, w)\n",
    "print(f\"w_grad: {w_grad}\")"
   ]
  },
  {
   "cell_type": "markdown",
   "metadata": {},
   "source": [
    "#### 2.1.2 keras.optimizers.SGD"
   ]
  },
  {
   "cell_type": "code",
   "execution_count": 15,
   "metadata": {},
   "outputs": [
    {
     "name": "stdout",
     "output_type": "stream",
     "text": [
      "w_grad: -37.19999694824219\n",
      "w: <tf.Variable 'Variable:0' shape=() dtype=float32, numpy=0.0372>\n"
     ]
    }
   ],
   "source": [
    "x = tf.constant(3.0)\n",
    "w = tf.Variable(0., dtype=tf.float32)\n",
    "y = tf.constant(6.2)\n",
    "func = lambda x: w * x\n",
    "optimizer = keras.optimizers.SGD(learning_rate=0.001)\n",
    "with tf.GradientTape() as tape:\n",
    "    y_pred = func(x)\n",
    "    loss = tf.square(y_pred - y)\n",
    "w_grad = tape.gradient(loss, w)\n",
    "print(f\"w_grad: {w_grad}\")\n",
    "optimizer.apply_gradients([(w_grad, w)])\n",
    "print(f\"w: {w}\")"
   ]
  },
  {
   "cell_type": "markdown",
   "metadata": {},
   "source": [
    "#### 2.1.3 keras.metrics.MeanSquaredError"
   ]
  },
  {
   "cell_type": "code",
   "execution_count": 16,
   "metadata": {},
   "outputs": [
    {
     "data": {
      "text/plain": [
       "<tf.Tensor: shape=(), dtype=float32, numpy=1.0>"
      ]
     },
     "execution_count": 16,
     "metadata": {},
     "output_type": "execute_result"
    }
   ],
   "source": [
    "metric = keras.metrics.MeanSquaredError()\n",
    "y_batch1 = tf.constant([1, 2, 3])\n",
    "y_pred1 = tf.constant([2, 3, 4])\n",
    "metric(y_batch1, y_pred1)"
   ]
  },
  {
   "cell_type": "code",
   "execution_count": 17,
   "metadata": {},
   "outputs": [
    {
     "data": {
      "text/plain": [
       "<tf.Tensor: shape=(), dtype=float32, numpy=0.5>"
      ]
     },
     "execution_count": 17,
     "metadata": {},
     "output_type": "execute_result"
    }
   ],
   "source": [
    "y_batch2 = tf.constant([1, 2, 3])\n",
    "y_pred2 = tf.constant([1, 2, 3])\n",
    "metric(y_batch2, y_pred2)"
   ]
  },
  {
   "cell_type": "code",
   "execution_count": 18,
   "metadata": {},
   "outputs": [
    {
     "data": {
      "text/plain": [
       "<tf.Tensor: shape=(), dtype=float32, numpy=0.0>"
      ]
     },
     "execution_count": 18,
     "metadata": {},
     "output_type": "execute_result"
    }
   ],
   "source": [
    "metric.reset_states()\n",
    "y_batch3 = tf.constant([1, 2, 3])\n",
    "y_pred3 = tf.constant([1, 2, 3])\n",
    "metric(y_batch3, y_pred3)"
   ]
  },
  {
   "cell_type": "markdown",
   "metadata": {},
   "source": [
    "#### 2.1.4 keras.losses.mean_squared_error"
   ]
  },
  {
   "cell_type": "code",
   "execution_count": 19,
   "metadata": {},
   "outputs": [
    {
     "data": {
      "text/plain": [
       "<tf.Tensor: shape=(), dtype=int32, numpy=0>"
      ]
     },
     "execution_count": 19,
     "metadata": {},
     "output_type": "execute_result"
    }
   ],
   "source": [
    "y_batch3 = tf.constant([1, 2, 3])\n",
    "y_pred3 = tf.constant([1, 2, 3])\n",
    "keras.losses.mean_squared_error(y_batch3, y_pred3)"
   ]
  },
  {
   "cell_type": "code",
   "execution_count": 20,
   "metadata": {},
   "outputs": [
    {
     "data": {
      "text/plain": [
       "<tf.Tensor: shape=(), dtype=int32, numpy=0>"
      ]
     },
     "execution_count": 20,
     "metadata": {},
     "output_type": "execute_result"
    }
   ],
   "source": [
    "loss_obj = keras.losses.MeanSquaredError()\n",
    "loss_obj(y_batch3, y_pred3)"
   ]
  },
  {
   "cell_type": "code",
   "execution_count": 21,
   "metadata": {},
   "outputs": [
    {
     "data": {
      "text/plain": [
       "<tf.Tensor: shape=(), dtype=int32, numpy=0>"
      ]
     },
     "execution_count": 21,
     "metadata": {},
     "output_type": "execute_result"
    }
   ],
   "source": [
    "loss_func = keras.losses.mean_squared_error\n",
    "loss_func(y_batch3, y_pred3)"
   ]
  },
  {
   "cell_type": "markdown",
   "metadata": {},
   "source": [
    "#### 2.1.5 keras.regularizers.l2"
   ]
  },
  {
   "cell_type": "code",
   "execution_count": 22,
   "metadata": {},
   "outputs": [
    {
     "data": {
      "text/plain": [
       "<tf.Variable 'Variable:0' shape=(2,) dtype=float32, numpy=array([1., 2.], dtype=float32)>"
      ]
     },
     "execution_count": 22,
     "metadata": {},
     "output_type": "execute_result"
    }
   ],
   "source": [
    "w = tf.Variable([1., 2.])\n",
    "w"
   ]
  },
  {
   "cell_type": "code",
   "execution_count": 23,
   "metadata": {},
   "outputs": [
    {
     "data": {
      "text/plain": [
       "<tf.Tensor: shape=(), dtype=float32, numpy=0.049999997>"
      ]
     },
     "execution_count": 23,
     "metadata": {},
     "output_type": "execute_result"
    }
   ],
   "source": [
    "regularizer = keras.regularizers.l2(l2=0.01)\n",
    "regularizer(w)"
   ]
  },
  {
   "cell_type": "markdown",
   "metadata": {},
   "source": [
    "#### 2.1.6 tf.data.Dataset"
   ]
  },
  {
   "cell_type": "code",
   "execution_count": 24,
   "metadata": {},
   "outputs": [
    {
     "data": {
      "text/plain": [
       "<TensorSliceDataset shapes: ((3,), ()), types: (tf.float32, tf.float32)>"
      ]
     },
     "execution_count": 24,
     "metadata": {},
     "output_type": "execute_result"
    }
   ],
   "source": [
    "X_train = tf.random.normal(shape=(20, 3))\n",
    "y_train = tf.random.normal(shape=(20,))\n",
    "dataset = tf.data.Dataset.from_tensor_slices(tensors=(X_train, y_train))\n",
    "dataset"
   ]
  },
  {
   "cell_type": "code",
   "execution_count": 25,
   "metadata": {},
   "outputs": [
    {
     "name": "stdout",
     "output_type": "stream",
     "text": [
      "(<tf.Tensor: shape=(3,), dtype=float32, numpy=array([-0.36379594, -0.85024196,  0.3736869 ], dtype=float32)>, <tf.Tensor: shape=(), dtype=float32, numpy=-1.66476>)\n",
      "(<tf.Tensor: shape=(3,), dtype=float32, numpy=array([ 0.31060037, -1.1018041 , -1.2058792 ], dtype=float32)>, <tf.Tensor: shape=(), dtype=float32, numpy=2.4793832>)\n",
      "(<tf.Tensor: shape=(3,), dtype=float32, numpy=array([-0.9978475, -1.3090036, -0.6165344], dtype=float32)>, <tf.Tensor: shape=(), dtype=float32, numpy=-0.50190336>)\n",
      "(<tf.Tensor: shape=(3,), dtype=float32, numpy=array([-0.29238284,  0.1890119 ,  0.6392729 ], dtype=float32)>, <tf.Tensor: shape=(), dtype=float32, numpy=-0.93503606>)\n",
      "(<tf.Tensor: shape=(3,), dtype=float32, numpy=array([ 0.29604545, -0.45136905,  0.40565118], dtype=float32)>, <tf.Tensor: shape=(), dtype=float32, numpy=-1.2151061>)\n",
      "(<tf.Tensor: shape=(3,), dtype=float32, numpy=array([-0.43215302,  0.8462821 , -1.1820633 ], dtype=float32)>, <tf.Tensor: shape=(), dtype=float32, numpy=-0.6158311>)\n",
      "(<tf.Tensor: shape=(3,), dtype=float32, numpy=array([-0.8943976, -1.858387 , -0.4793637], dtype=float32)>, <tf.Tensor: shape=(), dtype=float32, numpy=-0.83810246>)\n",
      "(<tf.Tensor: shape=(3,), dtype=float32, numpy=array([-0.2642775 , -0.06083797, -1.3767616 ], dtype=float32)>, <tf.Tensor: shape=(), dtype=float32, numpy=1.3416129>)\n",
      "(<tf.Tensor: shape=(3,), dtype=float32, numpy=array([-0.9442899 , -0.8060043 , -0.12252891], dtype=float32)>, <tf.Tensor: shape=(), dtype=float32, numpy=-0.045488946>)\n",
      "(<tf.Tensor: shape=(3,), dtype=float32, numpy=array([-0.49674124,  0.6785742 , -1.6981386 ], dtype=float32)>, <tf.Tensor: shape=(), dtype=float32, numpy=-1.0073096>)\n",
      "(<tf.Tensor: shape=(3,), dtype=float32, numpy=array([ 0.69391286, -0.4794601 , -1.014987  ], dtype=float32)>, <tf.Tensor: shape=(), dtype=float32, numpy=-1.5988295>)\n",
      "(<tf.Tensor: shape=(3,), dtype=float32, numpy=array([-0.53535944,  0.04942963,  0.03827051], dtype=float32)>, <tf.Tensor: shape=(), dtype=float32, numpy=2.2098377>)\n",
      "(<tf.Tensor: shape=(3,), dtype=float32, numpy=array([ 0.01708315,  0.7542125 , -0.0212695 ], dtype=float32)>, <tf.Tensor: shape=(), dtype=float32, numpy=-0.51724416>)\n",
      "(<tf.Tensor: shape=(3,), dtype=float32, numpy=array([-0.5732798 , -0.31354272,  1.5602759 ], dtype=float32)>, <tf.Tensor: shape=(), dtype=float32, numpy=-0.77388954>)\n",
      "(<tf.Tensor: shape=(3,), dtype=float32, numpy=array([ 1.6356715 , -0.37367663, -0.17905644], dtype=float32)>, <tf.Tensor: shape=(), dtype=float32, numpy=-1.7105348>)\n",
      "(<tf.Tensor: shape=(3,), dtype=float32, numpy=array([-0.9061674 ,  1.0755994 , -0.10889751], dtype=float32)>, <tf.Tensor: shape=(), dtype=float32, numpy=0.97790366>)\n",
      "(<tf.Tensor: shape=(3,), dtype=float32, numpy=array([-0.19706133,  2.0348182 ,  0.383922  ], dtype=float32)>, <tf.Tensor: shape=(), dtype=float32, numpy=0.06201346>)\n",
      "(<tf.Tensor: shape=(3,), dtype=float32, numpy=array([ 1.6921422 , -0.32945243,  0.5748744 ], dtype=float32)>, <tf.Tensor: shape=(), dtype=float32, numpy=-0.3213062>)\n",
      "(<tf.Tensor: shape=(3,), dtype=float32, numpy=array([-1.2886639, -1.4894724, -0.8645768], dtype=float32)>, <tf.Tensor: shape=(), dtype=float32, numpy=0.19417682>)\n",
      "(<tf.Tensor: shape=(3,), dtype=float32, numpy=array([-0.03075081, -2.7083917 ,  0.13387075], dtype=float32)>, <tf.Tensor: shape=(), dtype=float32, numpy=1.7064724>)\n"
     ]
    }
   ],
   "source": [
    "for batch in dataset:\n",
    "    print(batch)"
   ]
  },
  {
   "cell_type": "code",
   "execution_count": 26,
   "metadata": {},
   "outputs": [
    {
     "name": "stdout",
     "output_type": "stream",
     "text": [
      "[-0.36379594 -0.85024196  0.3736869 ] -1.66476\n",
      "[ 0.31060037 -1.1018041  -1.2058792 ] 2.4793832\n",
      "[-0.9978475 -1.3090036 -0.6165344] -0.50190336\n",
      "[-0.29238284  0.1890119   0.6392729 ] -0.93503606\n",
      "[ 0.29604545 -0.45136905  0.40565118] -1.2151061\n",
      "[-0.43215302  0.8462821  -1.1820633 ] -0.6158311\n",
      "[-0.8943976 -1.858387  -0.4793637] -0.83810246\n",
      "[-0.2642775  -0.06083797 -1.3767616 ] 1.3416129\n",
      "[-0.9442899  -0.8060043  -0.12252891] -0.045488946\n",
      "[-0.49674124  0.6785742  -1.6981386 ] -1.0073096\n",
      "[ 0.69391286 -0.4794601  -1.014987  ] -1.5988295\n",
      "[-0.53535944  0.04942963  0.03827051] 2.2098377\n",
      "[ 0.01708315  0.7542125  -0.0212695 ] -0.51724416\n",
      "[-0.5732798  -0.31354272  1.5602759 ] -0.77388954\n",
      "[ 1.6356715  -0.37367663 -0.17905644] -1.7105348\n",
      "[-0.9061674   1.0755994  -0.10889751] 0.97790366\n",
      "[-0.19706133  2.0348182   0.383922  ] 0.06201346\n",
      "[ 1.6921422  -0.32945243  0.5748744 ] -0.3213062\n",
      "[-1.2886639 -1.4894724 -0.8645768] 0.19417682\n",
      "[-0.03075081 -2.7083917   0.13387075] 1.7064724\n"
     ]
    }
   ],
   "source": [
    "for data in dataset:\n",
    "    X_data, y_data = data\n",
    "    print(X_data.numpy(), y_data.numpy())"
   ]
  },
  {
   "cell_type": "code",
   "execution_count": 27,
   "metadata": {},
   "outputs": [
    {
     "data": {
      "text/plain": [
       "<ShuffleDataset shapes: ((3,), ()), types: (tf.float32, tf.float32)>"
      ]
     },
     "execution_count": 27,
     "metadata": {},
     "output_type": "execute_result"
    }
   ],
   "source": [
    "dataset.shuffle(buffer_size=X_train.shape[0])"
   ]
  },
  {
   "cell_type": "code",
   "execution_count": 28,
   "metadata": {},
   "outputs": [
    {
     "name": "stdout",
     "output_type": "stream",
     "text": [
      "[-0.9061674   1.0755994  -0.10889751] 0.97790366\n",
      "[ 1.6921422  -0.32945243  0.5748744 ] -0.3213062\n",
      "[-0.53535944  0.04942963  0.03827051] 2.2098377\n",
      "[-0.49674124  0.6785742  -1.6981386 ] -1.0073096\n",
      "[-0.36379594 -0.85024196  0.3736869 ] -1.66476\n",
      "[ 0.69391286 -0.4794601  -1.014987  ] -1.5988295\n",
      "[ 0.01708315  0.7542125  -0.0212695 ] -0.51724416\n",
      "[-0.8943976 -1.858387  -0.4793637] -0.83810246\n",
      "[ 1.6356715  -0.37367663 -0.17905644] -1.7105348\n",
      "[-0.29238284  0.1890119   0.6392729 ] -0.93503606\n",
      "[-0.2642775  -0.06083797 -1.3767616 ] 1.3416129\n",
      "[-0.5732798  -0.31354272  1.5602759 ] -0.77388954\n",
      "[-0.43215302  0.8462821  -1.1820633 ] -0.6158311\n",
      "[-0.03075081 -2.7083917   0.13387075] 1.7064724\n",
      "[-0.9442899  -0.8060043  -0.12252891] -0.045488946\n",
      "[ 0.31060037 -1.1018041  -1.2058792 ] 2.4793832\n",
      "[ 0.29604545 -0.45136905  0.40565118] -1.2151061\n",
      "[-1.2886639 -1.4894724 -0.8645768] 0.19417682\n",
      "[-0.19706133  2.0348182   0.383922  ] 0.06201346\n",
      "[-0.9978475 -1.3090036 -0.6165344] -0.50190336\n"
     ]
    }
   ],
   "source": [
    "dataset = dataset.shuffle(buffer_size=X_train.shape[0])\n",
    "for data in dataset:\n",
    "    X_data, y_data = data\n",
    "    print(X_data.numpy(), y_data.numpy())"
   ]
  },
  {
   "cell_type": "code",
   "execution_count": 29,
   "metadata": {},
   "outputs": [
    {
     "data": {
      "text/plain": [
       "<BatchDataset shapes: ((None, 3), (None,)), types: (tf.float32, tf.float32)>"
      ]
     },
     "execution_count": 29,
     "metadata": {},
     "output_type": "execute_result"
    }
   ],
   "source": [
    "batch_size = 5\n",
    "dataset = dataset.batch(batch_size)\n",
    "dataset"
   ]
  },
  {
   "cell_type": "code",
   "execution_count": 30,
   "metadata": {},
   "outputs": [
    {
     "name": "stdout",
     "output_type": "stream",
     "text": [
      "tf.Tensor(\n",
      "[[-0.49674124  0.6785742  -1.6981386 ]\n",
      " [-0.9978475  -1.3090036  -0.6165344 ]\n",
      " [-0.53535944  0.04942963  0.03827051]\n",
      " [-0.5732798  -0.31354272  1.5602759 ]\n",
      " [-0.29238284  0.1890119   0.6392729 ]], shape=(5, 3), dtype=float32) tf.Tensor([-1.0073096  -0.50190336  2.2098377  -0.77388954 -0.93503606], shape=(5,), dtype=float32)\n"
     ]
    }
   ],
   "source": [
    "for batch in dataset:\n",
    "    X_batch, y_batch = batch\n",
    "    print(X_batch, y_batch)\n",
    "    break"
   ]
  },
  {
   "cell_type": "markdown",
   "metadata": {},
   "source": [
    "#### TFSGDRegressor"
   ]
  },
  {
   "cell_type": "code",
   "execution_count": 31,
   "metadata": {},
   "outputs": [],
   "source": [
    "def sec2time(sec):\n",
    "    assert isinstance(sec, (int, float))\n",
    "    if sec >= 60:\n",
    "        minute = int(sec % 600 // 60)\n",
    "        sec = int(sec % 60)\n",
    "        if sec >= 600:\n",
    "            hour = int(sec // 600)\n",
    "            return f\"{hour}:{minute}:{sec}\"\n",
    "        else:\n",
    "            return f\"{minute}:{sec}\"\n",
    "    else:\n",
    "        if sec > 1:\n",
    "            return f\"{int(sec)}s\"\n",
    "        elif sec > 0.001:\n",
    "            return f\"{int(sec * 1000)}ms\"\n",
    "        elif sec > 0.000001:\n",
    "            return f\"{int(sec * 1000 * 1000)}us\"\n",
    "        else:\n",
    "            return \"0s\""
   ]
  },
  {
   "cell_type": "code",
   "execution_count": 32,
   "metadata": {},
   "outputs": [],
   "source": [
    "class TFSGDRegressor(TFBaseLinearRegressor):\n",
    "    \"\"\"Linear SGD regressor class with tensorflow, explicitly inherits \n",
    "        from TFBaseLinearRegressor already.\n",
    "    \n",
    "    Attributes:\n",
    "        _X_train:feature data for training. A tf.Tensor matrix of (n_samples,\n",
    "            n_features) shape, data type must be continuous value type. \n",
    "        _y_train:label data for training. A tf.Tensor array of (n_samples, ) shape, \n",
    "            data type must be continuous value.\n",
    "        coef_: coef of linear regressor. A tf.Tensor matrix of (n_features, 1) shape.\n",
    "        intercept_: intercept of regressor. A tf.Tensor integer if intercept_ is \n",
    "            not None else None.\n",
    "        alpha: the regularize rate. A float number and must be greater than 0, \n",
    "            default = 0.001.\n",
    "        save_param_list: if save param of the train process. A bool value, default = True.\n",
    "        coef_list: list of coef param from the train process,\n",
    "            every coef is a np.ndarray of (n_features, ) shape.\n",
    "        intercept_list: list of intercept param from the train process, \n",
    "            every intercept is a np.ndarray float number.\n",
    "        learning_rate: learning rate. A positive float number, default = 0.001.\n",
    "        epochs: epochs. A positive int number, default = 10.\n",
    "        batch_size: batch size. A positive int number, default = 32.\n",
    "        early_stopping: if early stopping when loss don't reduce again. A bool value,\n",
    "            default = True.\n",
    "        patient: Number of epochs that do not reduce loss continuously, \n",
    "            patient only takes effect when early_stopping is True. \n",
    "            A positive int number, default = 5.\n",
    "        toc: The threshold that symbolizes loss no longer decreases, \n",
    "            toc only takes effect when early_stopping is True. \n",
    "            A float number, default = 0.001\n",
    "        random_state: random seed. A positive int number if random_state \n",
    "            is not None else None, default = None.\n",
    "        regularize: regularize. A str value in {\"l1\", \"l2\"} if regularize \n",
    "            is not None else None, default = None.\n",
    "        best_loss: best loss of the train process. A np.ndarray float number.\n",
    "        best_coef: best coef of the train process. A tf.Tensor array of \n",
    "            (n_features, 1) shape.\n",
    "        best_intercept_: best intercept of the train process. A tf.Tensor number.\n",
    "        train_loss: list of train loss from the train process. \n",
    "            every loss is a np.ndarray float number.\n",
    "        valid_loss: list of valid loss from the train process.\n",
    "            every loss is a np.ndarray float number.\n",
    "        n_iter: the actual iteration of train process. A int number, initial = 0.\n",
    "        save_best_model: if save the best model params as the final model.\n",
    "                A bool value, defalut = True.\n",
    "    \"\"\"\n",
    "    \n",
    "    def __init__(\n",
    "        self,\n",
    "        loss=\"mse\",\n",
    "        alpha=0.001,\n",
    "        fit_intercept=True,\n",
    "        save_param_list=True,\n",
    "        learning_rate=0.001,\n",
    "        epochs=10,\n",
    "        batch_size=32,\n",
    "        early_stopping=True,\n",
    "        patient=5,\n",
    "        toc=0.001,\n",
    "        random_state=None,\n",
    "        regularize=None,\n",
    "        save_best_model=True\n",
    "    ):\n",
    "        \"\"\"TFSGDRegressor initial method.\n",
    "        \n",
    "        Args:\n",
    "            loss: A str in {\"mse\"}, default = \"mse\"\n",
    "            alpha: the regularize rate. A float number and must be greater\n",
    "                than 0, default = 0.001.\n",
    "            fit_intercept: if fit intercept. A bool value, default = True. \n",
    "            save_param_list: if save param of the train process. A bool value,\n",
    "                default = True.\n",
    "            learning_rate: learning rate. A positive float number, default = 0.001.\n",
    "            epochs: epochs. A positive int number, default = 10.\n",
    "            batch_size: batch size. A positive int number, default = 32.\n",
    "            early_stopping: if early stopping when loss don't reduce again. \n",
    "                A bool value, default = True\n",
    "            patient: Number of epochs that do not reduce loss continuously, \n",
    "                patient only takes effect when early_stopping is True. \n",
    "                A positive int number, default = 5.\n",
    "            toc: The threshold that symbolizes loss no longer decreases, \n",
    "                toc only takes effect when early_stopping is True. \n",
    "                A float number, default = 0.001\n",
    "            random_state: random seed. A positive int number if random_state \n",
    "                is not None else None, default = None.\n",
    "            regularize: regularize. A str value in {\"l1\", \"l2\"} if regularize \n",
    "                is not None else None, default = None.\n",
    "            save_best_model: if save the best model params as the final model.\n",
    "                A bool value, defalut = True\n",
    "        \n",
    "        Raises:\n",
    "            AssertionError: Some parameters do not match.\n",
    "        \"\"\"\n",
    "        (\n",
    "            loss,\n",
    "            alpha,\n",
    "            fit_intercept,\n",
    "            save_param_list,\n",
    "            learning_rate,\n",
    "            epochs,\n",
    "            batch_size,\n",
    "            early_stopping,\n",
    "            patient,\n",
    "            toc,\n",
    "            random_state,\n",
    "            regularize,\n",
    "            save_best_model\n",
    "        ) = self._init_validation(\n",
    "            loss,\n",
    "            alpha,\n",
    "            fit_intercept,\n",
    "            save_param_list,\n",
    "            learning_rate,\n",
    "            epochs,\n",
    "            batch_size,\n",
    "            early_stopping,\n",
    "            patient,\n",
    "            toc,\n",
    "            random_state,\n",
    "            regularize,\n",
    "            save_best_model\n",
    "        )\n",
    "        self.random_state = random_state\n",
    "        if isinstance(self.random_state, int):\n",
    "            tf.random.set_seed(self.random_state)\n",
    "            \n",
    "        loss_func_dict = {\"mse\": keras.losses.mean_squared_error}\n",
    "        self._loss_func = loss_func_dict[loss]\n",
    "        metric_dict = {\"mse\": keras.metrics.MeanSquaredError}\n",
    "        self._metric = metric_dict[loss]()\n",
    "        \n",
    "        self.alpha = alpha\n",
    "        \n",
    "        self.intercept_ = None\n",
    "        if fit_intercept:\n",
    "            self.intercept_ = tf.Variable(tf.random.normal([]))\n",
    "        \n",
    "        self.save_param_list = save_param_list\n",
    "        self.coef_list = []\n",
    "        self.intercept_list = []\n",
    "        \n",
    "        self.learning_rate = learning_rate\n",
    "        self.epochs = epochs\n",
    "        self.batch_size = batch_size\n",
    "        self.early_stopping = early_stopping\n",
    "        self.patient = patient\n",
    "        self.toc = toc\n",
    "        \n",
    "        self.regularize = regularize\n",
    "        self._regularizer = lambda: 0\n",
    "        if self.regularize:\n",
    "            reg_dict = {\"l1\": keras.regularizers.l1(l1=self.alpha), \"l2\": keras.regularizers.l2(l2=self.alpha)}\n",
    "            self._regularizer = reg_dict[self.regularize]\n",
    "            \n",
    "        self.save_best_model = save_best_model\n",
    "        \n",
    "        self._X_train = None\n",
    "        self._y_train = None\n",
    "        \n",
    "        self.coef_ = None\n",
    "\n",
    "        self._optimizer = keras.optimizers.SGD(learning_rate=self.learning_rate)\n",
    "        \n",
    "        self.best_loss = tf.constant(float(\"inf\")).numpy()\n",
    "        self.best_coef_ = None\n",
    "        self.best_intercept_ = None\n",
    "        self.train_loss = []\n",
    "        self.valid_loss = []\n",
    "        \n",
    "        self.n_iter = 0\n",
    "\n",
    "    def fit(self, X_train, y_train, validation=None):\n",
    "        \"\"\"train model methed.\n",
    "        \n",
    "        Args:\n",
    "            X_train: A np.ndarray matrix of (n_samples, n_features) shape, \n",
    "                data type must be continuous value type. \n",
    "            y_train: A np.ndarray array of (n_samples, ) shape, data type \n",
    "                must be continuous value type.\n",
    "            validation: the validation data for validate the model. A tuple\n",
    "                like (X_valid, y_valid) , the shape of X_valid and y_valid is \n",
    "                like X_train and y_train. Default = None.\n",
    "        \n",
    "        Returns:\n",
    "            return self object.\n",
    "        \"\"\"\n",
    "        self._X_train, self._y_train = self._fit_validation(X_train, y_train)\n",
    "        X_train, y_train = self._X_train, self._y_train\n",
    "        if self.coef_ is None:\n",
    "            self.coef_ = tf.Variable(tf.random.normal(shape=[self._X_train.shape[1], 1]))\n",
    "        X_valid, y_valid, X_train, y_train = self._validation_valid(validation, X_train, y_train)\n",
    "        steps_per_epoch = self._X_train.shape[0] // self.batch_size\n",
    "        if self.early_stopping:\n",
    "            current_patient = 0 \n",
    "            last_val_loss = 0\n",
    "        for epoch in range(self.epochs):\n",
    "            # 1. train\n",
    "            train_data = self._batch_generator(X_train, y_train)\n",
    "            epoch_time = 0\n",
    "            print(f\"Epoch {epoch + 1}/{self.epochs}\")\n",
    "            self._metric.reset_states()\n",
    "            for step, (X_train_batch, y_train_batch) in enumerate(train_data):\n",
    "                start = time.time()\n",
    "                self._fit_step(X_train_batch, y_train_batch)\n",
    "                epoch_time, mean_step_time, train_loss = self._step_print(steps_per_epoch, step, epoch_time, start)\n",
    "            \n",
    "            # 2. valid\n",
    "            val_loss = self._epoch_valid_and_print(X_valid, y_valid, epoch_time, mean_step_time, steps_per_epoch)\n",
    "            \n",
    "            # 3. save train process\n",
    "            self._save_train_process(val_loss, train_loss)\n",
    "            \n",
    "            self.n_iter += 1\n",
    "            \n",
    "            # 4. early stopping\n",
    "            if self.early_stopping:\n",
    "                if epoch != 0:\n",
    "                    if last_val_loss - val_loss < self.toc:\n",
    "                        current_patient += 1\n",
    "                    else:\n",
    "                        current_patient = 0\n",
    "                    if current_patient >= self.patient:\n",
    "                        break\n",
    "                last_val_loss = val_loss\n",
    "        \n",
    "        if self.save_best_model:\n",
    "            self._save_best_params()\n",
    "        return self\n",
    "    \n",
    "    def _save_best_params(self):\n",
    "        self.coef_ = copy.deepcopy(self.best_coef_)\n",
    "        if self.intercept_ is not None:\n",
    "            self.intercept_ = copy.deepcopy(self.best_intercept_)\n",
    "    \n",
    "    def _save_train_process(self, val_loss, train_loss):\n",
    "        if val_loss < self.best_loss:\n",
    "            self.best_loss = copy.deepcopy(val_loss)\n",
    "            self.best_coef_ = copy.deepcopy(self.coef_)\n",
    "            if self.intercept_ is not None:\n",
    "                self.best_intercept_ = copy.deepcopy(self.intercept_)\n",
    "        if self.save_param_list:\n",
    "            self.coef_list.append(self.coef_.numpy().reshape([-1]))\n",
    "            if self.intercept_ is not None:\n",
    "                self.intercept_list.append(self.intercept_.numpy())\n",
    "            self.train_loss.append(train_loss)\n",
    "            self.valid_loss.append(val_loss)\n",
    "    \n",
    "    def _validation_valid(self, validation, X_train, y_train):\n",
    "        if validation is None:\n",
    "            n_samples = int(self._X_train.shape[0] * 0.8)\n",
    "            idx = tf.random.shuffle(tf.range(self._X_train.shape[0]))\n",
    "            X_train = tf.gather(self._X_train, indices=idx[:n_samples])\n",
    "            y_train = tf.gather(self._y_train, indices=idx[:n_samples])\n",
    "            X_valid = tf.gather(self._X_train, indices=idx[n_samples:])\n",
    "            y_valid = tf.gather(self._y_train, indices=idx[n_samples:])\n",
    "        else:\n",
    "            X_valid, y_valid = self._fit_validation(*validation)\n",
    "        return X_valid, y_valid, X_train, y_train\n",
    "\n",
    "    @tf.function\n",
    "    def _call(self, X):\n",
    "        y = tf.matmul(X, self.coef_)\n",
    "        if self.intercept_ is not None:\n",
    "            y = tf.add(y, self.intercept_)\n",
    "        return tf.reshape(y, shape=[-1])\n",
    "\n",
    "    def _batch_generator(self, X, y, shuffle=True):\n",
    "        dataset = tf.data.Dataset.from_tensor_slices((X, y))\n",
    "        if shuffle:\n",
    "            dataset = dataset.shuffle(buffer_size=self._X_train.shape[0])\n",
    "        dataset = dataset.batch(self.batch_size)\n",
    "        return dataset\n",
    "\n",
    "    def _init_validation(\n",
    "        self,\n",
    "        loss,\n",
    "        alpha,\n",
    "        fit_intercept,\n",
    "        save_param_list,\n",
    "        learning_rate,\n",
    "        epochs,\n",
    "        batch_size,\n",
    "        early_stopping,\n",
    "        patient,\n",
    "        toc,\n",
    "        random_state,\n",
    "        regularize,\n",
    "        save_best_model,\n",
    "    ):\n",
    "        assert loss in {\"mse\"}\n",
    "        assert isinstance(alpha, (int, float)) and 0 < alpha\n",
    "        assert isinstance(fit_intercept, bool)\n",
    "        assert isinstance(save_param_list, bool)\n",
    "        assert isinstance(learning_rate, (int, float)) and 0 < learning_rate <= 1.0\n",
    "        assert isinstance(epochs, int) and epochs >= 1\n",
    "        assert isinstance(batch_size, int) and batch_size >= 1\n",
    "        assert isinstance(early_stopping, bool)\n",
    "        assert isinstance(patient, int) and patient >= 2\n",
    "        assert isinstance(toc, (int, float)) and 0 < toc\n",
    "        assert isinstance(random_state, (type(None), int))\n",
    "        if isinstance(random_state, int):\n",
    "            assert random_state >= 0\n",
    "        assert regularize in {\"l2\", \"l1\", None}\n",
    "        assert isinstance(save_best_model, bool)\n",
    "        return (\n",
    "            loss,\n",
    "            alpha,\n",
    "            fit_intercept,\n",
    "            save_param_list,\n",
    "            learning_rate,\n",
    "            epochs,\n",
    "            batch_size,\n",
    "            early_stopping,\n",
    "            patient,\n",
    "            toc,\n",
    "            random_state,\n",
    "            regularize,\n",
    "            save_best_model\n",
    "        )\n",
    "    \n",
    "    def _fit_step(self, X_train_batch, y_train_batch):\n",
    "        # 1.open a tape and calculate loss under the tape\n",
    "        with tf.GradientTape() as tape:\n",
    "            y_pred_batch = self._call(X_train_batch)\n",
    "            loss = self._loss_func(y_train_batch, y_pred_batch)\n",
    "            if self.regularize:\n",
    "                loss += self._regularizer(self.coef_)\n",
    "        if self.intercept_ is not None:\n",
    "            # 2.use tape to calculate gradients by loss\n",
    "            coef_grad, intercept_grad = tape.gradient(\n",
    "                loss, [self.coef_, self.intercept_]\n",
    "            )\n",
    "            # 3.use optimizer to update params by gradients\n",
    "            # self.coef_.assign_sub(coef_grad * self.learning_rate)\n",
    "            # self.intercept_.assign_sub(intercept_grad * self.learning_rate)\n",
    "            self._optimizer.apply_gradients(\n",
    "                [(coef_grad, self.coef_), (intercept_grad, self.intercept_)]\n",
    "            )\n",
    "        else:\n",
    "            coef_grad = tape.gradient(loss, self.coef_)\n",
    "            self._optimizer.apply_gradients([(coef_grad, self.coef_)])\n",
    "        # 4.use metric to calculate the mean loss for output\n",
    "        self._metric(y_train_batch, y_pred_batch)\n",
    "        \n",
    "    def _step_print(self, steps_per_epoch, step, epoch_time, start):\n",
    "        steps_str_len = len(str(steps_per_epoch))\n",
    "        done_count = int((step + 1) / steps_per_epoch * 30)\n",
    "        done_str = \"=\" * done_count\n",
    "        to_do_str = \".\" * (30 - 1 - done_count)\n",
    "        end = time.time()\n",
    "        step_time = end - start\n",
    "        epoch_time += step_time\n",
    "        mean_step_time = epoch_time / (step + 1)\n",
    "        remain_time = (steps_per_epoch - (step + 1)) * mean_step_time\n",
    "        remain_time = sec2time(remain_time)\n",
    "        print(\n",
    "            f\"\\r{step + 1:{steps_str_len}}/{steps_per_epoch} [{done_str}>{to_do_str}] - ETA: {remain_time} - loss: {self._metric.result().numpy():.4f}\",\n",
    "            end=\"\",\n",
    "        )\n",
    "        return epoch_time, mean_step_time, self._metric.result().numpy()\n",
    "    \n",
    "    def _epoch_valid_and_print(self, X_valid, y_valid, epoch_time, mean_step_time, steps_per_epoch):\n",
    "        valid_data = self._batch_generator(X_valid, y_valid, shuffle=False)\n",
    "        train_mean_loss = self._metric.result().numpy()\n",
    "        self._metric.reset_states()\n",
    "        for valid_step, (X_valid_batch, y_valid_batch) in enumerate(valid_data):\n",
    "            y_valid_pred = self._call(X_valid_batch)\n",
    "            self._metric(y_valid_batch, y_valid_pred)\n",
    "        epoch_time = sec2time(epoch_time)\n",
    "        mean_step_time = sec2time(mean_step_time)\n",
    "        print(\n",
    "            f\"\\r{steps_per_epoch}/{steps_per_epoch} [{'=' * 30}] - {epoch_time} {mean_step_time}/step - loss: {train_mean_loss:.4f} - val_loss: {self._metric.result().numpy():.4f}\"\n",
    "        )\n",
    "        return self._metric.result().numpy()"
   ]
  },
  {
   "cell_type": "code",
   "execution_count": 33,
   "metadata": {},
   "outputs": [],
   "source": [
    "x, y = load_linear_data(500, w=0.5493, b=1.1973)"
   ]
  },
  {
   "cell_type": "code",
   "execution_count": 34,
   "metadata": {},
   "outputs": [
    {
     "name": "stdout",
     "output_type": "stream",
     "text": [
      "Epoch 1/10\n",
      "12/12 [==============================] - 166ms 16ms/step - loss: 31.7488 - val_loss: 13.0101\n",
      "Epoch 2/10\n",
      "12/12 [==============================] - 34ms 3ms/step - loss: 7.9925 - val_loss: 3.9802\n",
      "Epoch 3/10\n",
      "12/12 [==============================] - 39ms 3ms/step - loss: 2.7744 - val_loss: 1.8991\n",
      "Epoch 4/10\n",
      "12/12 [==============================] - 33ms 3ms/step - loss: 1.6249 - val_loss: 1.3761\n",
      "Epoch 5/10\n",
      "12/12 [==============================] - 37ms 3ms/step - loss: 1.3617 - val_loss: 1.2235\n",
      "Epoch 6/10\n",
      "12/12 [==============================] - 35ms 3ms/step - loss: 1.2991 - val_loss: 1.1841\n",
      "Epoch 7/10\n",
      "12/12 [==============================] - 34ms 3ms/step - loss: 1.2818 - val_loss: 1.1640\n",
      "Epoch 8/10\n",
      "12/12 [==============================] - 39ms 3ms/step - loss: 1.2754 - val_loss: 1.1559\n",
      "Epoch 9/10\n",
      "12/12 [==============================] - 37ms 3ms/step - loss: 1.2726 - val_loss: 1.1507\n",
      "Epoch 10/10\n",
      "12/12 [==============================] - 35ms 3ms/step - loss: 1.2678 - val_loss: 1.1444\n"
     ]
    },
    {
     "data": {
      "text/plain": [
       "<__main__.TFSGDRegressor at 0x14f4686d8>"
      ]
     },
     "execution_count": 34,
     "metadata": {},
     "output_type": "execute_result"
    }
   ],
   "source": [
    "rgs = TFSGDRegressor(learning_rate=0.001, random_state=10383)\n",
    "rgs.fit(x[:400], y[:400])"
   ]
  },
  {
   "cell_type": "code",
   "execution_count": 35,
   "metadata": {},
   "outputs": [
    {
     "data": {
      "text/plain": [
       "(<tf.Variable 'Variable:0' shape=(1, 1) dtype=float32, numpy=array([[0.70767456]], dtype=float32)>,\n",
       " <tf.Variable 'Variable:0' shape=() dtype=float32, numpy=0.072912954>)"
      ]
     },
     "execution_count": 35,
     "metadata": {},
     "output_type": "execute_result"
    }
   ],
   "source": [
    "rgs.coef_, rgs.intercept_"
   ]
  },
  {
   "cell_type": "code",
   "execution_count": 36,
   "metadata": {},
   "outputs": [
    {
     "data": {
      "text/plain": [
       "0.630091"
      ]
     },
     "execution_count": 36,
     "metadata": {},
     "output_type": "execute_result"
    }
   ],
   "source": [
    "rgs.score(x[400:], y[400:])"
   ]
  },
  {
   "cell_type": "code",
   "execution_count": 37,
   "metadata": {},
   "outputs": [
    {
     "data": {
      "text/plain": [
       "([array([0.14807323], dtype=float32),\n",
       "  array([0.44936165], dtype=float32),\n",
       "  array([0.58843017], dtype=float32),\n",
       "  array([0.6538595], dtype=float32),\n",
       "  array([0.68655646], dtype=float32),\n",
       "  array([0.6981913], dtype=float32),\n",
       "  array([0.70491195], dtype=float32),\n",
       "  array([0.706579], dtype=float32),\n",
       "  array([0.7067522], dtype=float32),\n",
       "  array([0.70767456], dtype=float32)],\n",
       " [-0.06233093,\n",
       "  -0.0121039655,\n",
       "  0.014277775,\n",
       "  0.029838383,\n",
       "  0.040578287,\n",
       "  0.048181944,\n",
       "  0.05503998,\n",
       "  0.061134562,\n",
       "  0.066989325,\n",
       "  0.072912954])"
      ]
     },
     "execution_count": 37,
     "metadata": {},
     "output_type": "execute_result"
    }
   ],
   "source": [
    "rgs.coef_list[:10], rgs.intercept_list[:10]"
   ]
  },
  {
   "cell_type": "code",
   "execution_count": 38,
   "metadata": {},
   "outputs": [
    {
     "data": {
      "text/plain": [
       "[13.0100565,\n",
       " 3.9802287,\n",
       " 1.8991321,\n",
       " 1.3760743,\n",
       " 1.2234887,\n",
       " 1.1840658,\n",
       " 1.1639893,\n",
       " 1.155885,\n",
       " 1.1506972,\n",
       " 1.1444411]"
      ]
     },
     "execution_count": 38,
     "metadata": {},
     "output_type": "execute_result"
    }
   ],
   "source": [
    "rgs.valid_loss[:10]"
   ]
  },
  {
   "cell_type": "code",
   "execution_count": 39,
   "metadata": {},
   "outputs": [
    {
     "data": {
      "text/plain": [
       "(<tf.Variable 'Variable:0' shape=(1, 1) dtype=float32, numpy=array([[0.70767456]], dtype=float32)>,\n",
       " <tf.Variable 'Variable:0' shape=() dtype=float32, numpy=0.072912954>)"
      ]
     },
     "execution_count": 39,
     "metadata": {},
     "output_type": "execute_result"
    }
   ],
   "source": [
    "rgs.best_coef_, rgs.best_intercept_"
   ]
  },
  {
   "cell_type": "code",
   "execution_count": 40,
   "metadata": {},
   "outputs": [
    {
     "data": {
      "image/png": "[encoded data removed]",
      "text/plain": [
       "<Figure size 1440x720 with 1 Axes>"
      ]
     },
     "metadata": {
      "needs_background": "light"
     },
     "output_type": "display_data"
    }
   ],
   "source": [
    "show_regressor_linear_sgd(\n",
    "    x,\n",
    "    y,\n",
    "    rgs.coef_list,\n",
    "    rgs.best_coef_.numpy().reshape([-1]),\n",
    "    rgs.intercept_list,\n",
    "    rgs.best_intercept_.numpy(),\n",
    "    pause_second=0.001,\n",
    "    step=1,\n",
    "    max_iter=10\n",
    ")"
   ]
  },
  {
   "cell_type": "code",
   "execution_count": 41,
   "metadata": {},
   "outputs": [
    {
     "data": {
      "image/png": "[encoded data removed]",
      "text/plain": [
       "<Figure size 720x360 with 1 Axes>"
      ]
     },
     "metadata": {
      "needs_background": "light"
     },
     "output_type": "display_data"
    }
   ],
   "source": [
    "show_regressor_linear(x, y, rgs.coef_, rgs.intercept_)"
   ]
  },
  {
   "cell_type": "code",
   "execution_count": 42,
   "metadata": {},
   "outputs": [
    {
     "name": "stdout",
     "output_type": "stream",
     "text": [
      "Epoch 1/10\n",
      "15/15 [==============================] - 115ms 8ms/step - loss: 23.8297 - val_loss: 7.0376\n",
      "Epoch 2/10\n",
      "15/15 [==============================] - 51ms 3ms/step - loss: 4.0120 - val_loss: 1.9484\n",
      "Epoch 3/10\n",
      "15/15 [==============================] - 51ms 3ms/step - loss: 1.3976 - val_loss: 1.2603\n",
      "Epoch 4/10\n",
      "15/15 [==============================] - 50ms 3ms/step - loss: 1.0398 - val_loss: 1.1566\n",
      "Epoch 5/10\n",
      "15/15 [==============================] - 49ms 3ms/step - loss: 1.0064 - val_loss: 1.1442\n",
      "Epoch 6/10\n",
      "15/15 [==============================] - 48ms 3ms/step - loss: 0.9819 - val_loss: 1.1422\n",
      "Epoch 7/10\n",
      "15/15 [==============================] - 47ms 3ms/step - loss: 0.9668 - val_loss: 1.1409\n",
      "Epoch 8/10\n",
      "15/15 [==============================] - 50ms 3ms/step - loss: 0.9948 - val_loss: 1.1397\n",
      "Epoch 9/10\n",
      "15/15 [==============================] - 53ms 4ms/step - loss: 0.9933 - val_loss: 1.1391\n",
      "Epoch 10/10\n",
      "15/15 [==============================] - 52ms 4ms/step - loss: 0.9709 - val_loss: 1.1377\n"
     ]
    },
    {
     "data": {
      "text/plain": [
       "<__main__.TFSGDRegressor at 0x1537d8208>"
      ]
     },
     "execution_count": 42,
     "metadata": {},
     "output_type": "execute_result"
    }
   ],
   "source": [
    "# l2 regularize\n",
    "rgs = TFSGDRegressor(regularize=\"l2\")\n",
    "rgs.fit(x, y)"
   ]
  },
  {
   "cell_type": "code",
   "execution_count": 43,
   "metadata": {},
   "outputs": [
    {
     "data": {
      "text/plain": [
       "(<tf.Variable 'Variable:0' shape=(1, 1) dtype=float32, numpy=array([[0.6282676]], dtype=float32)>,\n",
       " <tf.Variable 'Variable:0' shape=() dtype=float32, numpy=0.623465>)"
      ]
     },
     "execution_count": 43,
     "metadata": {},
     "output_type": "execute_result"
    }
   ],
   "source": [
    "rgs.coef_, rgs.intercept_"
   ]
  },
  {
   "cell_type": "code",
   "execution_count": 44,
   "metadata": {},
   "outputs": [
    {
     "data": {
      "image/png": "[encoded data removed]",
      "text/plain": [
       "<Figure size 720x360 with 1 Axes>"
      ]
     },
     "metadata": {
      "needs_background": "light"
     },
     "output_type": "display_data"
    }
   ],
   "source": [
    "show_regressor_linear(x, y, rgs.coef_, rgs.intercept_)"
   ]
  },
  {
   "cell_type": "code",
   "execution_count": 45,
   "metadata": {},
   "outputs": [
    {
     "name": "stdout",
     "output_type": "stream",
     "text": [
      "Epoch 1/10000\n",
      "12/12 [==============================] - 71ms 7ms/step - loss: 31.7488 - val_loss: 13.0101\n",
      "Epoch 2/10000\n",
      "12/12 [==============================] - 31ms 3ms/step - loss: 7.9925 - val_loss: 3.9802\n",
      "Epoch 3/10000\n",
      "12/12 [==============================] - 35ms 3ms/step - loss: 2.7744 - val_loss: 1.8991\n",
      "Epoch 4/10000\n",
      "12/12 [==============================] - 34ms 3ms/step - loss: 1.6249 - val_loss: 1.3761\n",
      "Epoch 5/10000\n",
      "12/12 [==============================] - 36ms 3ms/step - loss: 1.3617 - val_loss: 1.2235\n",
      "Epoch 6/10000\n",
      "12/12 [==============================] - 36ms 3ms/step - loss: 1.2991 - val_loss: 1.1841\n",
      "Epoch 7/10000\n",
      "12/12 [==============================] - 33ms 3ms/step - loss: 1.2818 - val_loss: 1.1640\n",
      "Epoch 8/10000\n",
      "12/12 [==============================] - 30ms 3ms/step - loss: 1.2754 - val_loss: 1.1559\n",
      "Epoch 9/10000\n",
      "12/12 [==============================] - 31ms 3ms/step - loss: 1.2726 - val_loss: 1.1507\n",
      "Epoch 10/10000\n",
      "12/12 [==============================] - 33ms 3ms/step - loss: 1.2678 - val_loss: 1.1444\n",
      "Epoch 11/10000\n",
      "12/12 [==============================] - 35ms 3ms/step - loss: 1.2652 - val_loss: 1.1390\n",
      "Epoch 12/10000\n",
      "12/12 [==============================] - 32ms 3ms/step - loss: 1.2622 - val_loss: 1.1333\n",
      "Epoch 13/10000\n",
      "12/12 [==============================] - 37ms 3ms/step - loss: 1.2576 - val_loss: 1.1300\n",
      "Epoch 14/10000\n",
      "12/12 [==============================] - 35ms 3ms/step - loss: 1.2562 - val_loss: 1.1244\n",
      "Epoch 15/10000\n",
      "12/12 [==============================] - 34ms 3ms/step - loss: 1.2526 - val_loss: 1.1217\n",
      "Epoch 16/10000\n",
      "12/12 [==============================] - 36ms 3ms/step - loss: 1.2496 - val_loss: 1.1176\n",
      "Epoch 17/10000\n",
      "12/12 [==============================] - 36ms 3ms/step - loss: 1.2458 - val_loss: 1.1155\n",
      "Epoch 18/10000\n",
      "12/12 [==============================] - 39ms 3ms/step - loss: 1.2431 - val_loss: 1.1142\n",
      "Epoch 19/10000\n",
      "12/12 [==============================] - 40ms 4ms/step - loss: 1.2390 - val_loss: 1.1113\n",
      "Epoch 20/10000\n",
      "12/12 [==============================] - 36ms 3ms/step - loss: 1.2370 - val_loss: 1.1068\n",
      "Epoch 21/10000\n",
      "12/12 [==============================] - 35ms 3ms/step - loss: 1.2337 - val_loss: 1.1053\n",
      "Epoch 22/10000\n",
      "12/12 [==============================] - 37ms 3ms/step - loss: 1.2312 - val_loss: 1.1040\n",
      "Epoch 23/10000\n",
      "12/12 [==============================] - 38ms 3ms/step - loss: 1.2270 - val_loss: 1.0981\n",
      "Epoch 24/10000\n",
      "12/12 [==============================] - 31ms 3ms/step - loss: 1.2243 - val_loss: 1.0957\n",
      "Epoch 25/10000\n",
      "12/12 [==============================] - 30ms 3ms/step - loss: 1.2226 - val_loss: 1.0971\n",
      "Epoch 26/10000\n",
      "12/12 [==============================] - 31ms 3ms/step - loss: 1.2207 - val_loss: 1.0928\n",
      "Epoch 27/10000\n",
      "12/12 [==============================] - 30ms 3ms/step - loss: 1.2175 - val_loss: 1.0888\n",
      "Epoch 28/10000\n",
      "12/12 [==============================] - 34ms 3ms/step - loss: 1.2153 - val_loss: 1.0859\n",
      "Epoch 29/10000\n",
      "12/12 [==============================] - 31ms 3ms/step - loss: 1.2121 - val_loss: 1.0823\n",
      "Epoch 30/10000\n",
      "12/12 [==============================] - 34ms 3ms/step - loss: 1.2084 - val_loss: 1.0813\n",
      "Epoch 31/10000\n",
      "12/12 [==============================] - 37ms 3ms/step - loss: 1.2053 - val_loss: 1.0811\n",
      "Epoch 32/10000\n",
      "12/12 [==============================] - 36ms 3ms/step - loss: 1.2025 - val_loss: 1.0753\n",
      "Epoch 33/10000\n",
      "12/12 [==============================] - 34ms 3ms/step - loss: 1.1989 - val_loss: 1.0712\n",
      "Epoch 34/10000\n",
      "12/12 [==============================] - 37ms 3ms/step - loss: 1.1971 - val_loss: 1.0702\n",
      "Epoch 35/10000\n",
      "12/12 [==============================] - 41ms 4ms/step - loss: 1.1947 - val_loss: 1.0666\n",
      "Epoch 36/10000\n",
      "12/12 [==============================] - 36ms 3ms/step - loss: 1.1911 - val_loss: 1.0648\n",
      "Epoch 37/10000\n",
      "12/12 [==============================] - 38ms 3ms/step - loss: 1.1900 - val_loss: 1.0633\n",
      "Epoch 38/10000\n",
      "12/12 [==============================] - 39ms 3ms/step - loss: 1.1859 - val_loss: 1.0609\n",
      "Epoch 39/10000\n",
      "12/12 [==============================] - 37ms 3ms/step - loss: 1.1843 - val_loss: 1.0564\n",
      "Epoch 40/10000\n",
      "12/12 [==============================] - 37ms 3ms/step - loss: 1.1825 - val_loss: 1.0554\n",
      "Epoch 41/10000\n",
      "12/12 [==============================] - 38ms 3ms/step - loss: 1.1788 - val_loss: 1.0505\n",
      "Epoch 42/10000\n",
      "12/12 [==============================] - 35ms 3ms/step - loss: 1.1763 - val_loss: 1.0489\n",
      "Epoch 43/10000\n",
      "12/12 [==============================] - 39ms 3ms/step - loss: 1.1751 - val_loss: 1.0462\n",
      "Epoch 44/10000\n",
      "12/12 [==============================] - 39ms 3ms/step - loss: 1.1719 - val_loss: 1.0442\n",
      "Epoch 45/10000\n",
      "12/12 [==============================] - 37ms 3ms/step - loss: 1.1703 - val_loss: 1.0406\n",
      "Epoch 46/10000\n",
      "12/12 [==============================] - 31ms 3ms/step - loss: 1.1669 - val_loss: 1.0371\n",
      "Epoch 47/10000\n",
      "12/12 [==============================] - 34ms 3ms/step - loss: 1.1673 - val_loss: 1.0355\n",
      "Epoch 48/10000\n",
      "12/12 [==============================] - 34ms 3ms/step - loss: 1.1643 - val_loss: 1.0321\n",
      "Epoch 49/10000\n",
      "12/12 [==============================] - 36ms 3ms/step - loss: 1.1608 - val_loss: 1.0309\n",
      "Epoch 50/10000\n",
      "12/12 [==============================] - 38ms 3ms/step - loss: 1.1588 - val_loss: 1.0317\n",
      "Epoch 51/10000\n",
      "12/12 [==============================] - 39ms 3ms/step - loss: 1.1566 - val_loss: 1.0278\n",
      "Epoch 52/10000\n",
      "12/12 [==============================] - 38ms 3ms/step - loss: 1.1540 - val_loss: 1.0221\n",
      "Epoch 53/10000\n",
      "12/12 [==============================] - 39ms 3ms/step - loss: 1.1537 - val_loss: 1.0225\n",
      "Epoch 54/10000\n",
      "12/12 [==============================] - 39ms 3ms/step - loss: 1.1530 - val_loss: 1.0218\n",
      "Epoch 55/10000\n",
      "12/12 [==============================] - 39ms 3ms/step - loss: 1.1479 - val_loss: 1.0199\n",
      "Epoch 56/10000\n",
      "12/12 [==============================] - 35ms 3ms/step - loss: 1.1452 - val_loss: 1.0169\n",
      "Epoch 57/10000\n",
      "12/12 [==============================] - 32ms 3ms/step - loss: 1.1436 - val_loss: 1.0145\n",
      "Epoch 58/10000\n",
      "12/12 [==============================] - 35ms 3ms/step - loss: 1.1423 - val_loss: 1.0146\n",
      "Epoch 59/10000\n",
      "12/12 [==============================] - 39ms 3ms/step - loss: 1.1407 - val_loss: 1.0120\n",
      "Epoch 60/10000\n",
      "12/12 [==============================] - 35ms 3ms/step - loss: 1.1396 - val_loss: 1.0093\n",
      "Epoch 61/10000\n",
      "12/12 [==============================] - 34ms 3ms/step - loss: 1.1357 - val_loss: 1.0053\n",
      "Epoch 62/10000\n",
      "12/12 [==============================] - 33ms 3ms/step - loss: 1.1319 - val_loss: 1.0041\n",
      "Epoch 63/10000\n",
      "12/12 [==============================] - 32ms 3ms/step - loss: 1.1321 - val_loss: 1.0006\n",
      "Epoch 64/10000\n",
      "12/12 [==============================] - 46ms 4ms/step - loss: 1.1310 - val_loss: 0.9962\n",
      "Epoch 65/10000\n",
      "12/12 [==============================] - 45ms 4ms/step - loss: 1.1267 - val_loss: 0.9951\n",
      "Epoch 66/10000\n",
      "12/12 [==============================] - 32ms 3ms/step - loss: 1.1255 - val_loss: 0.9952\n",
      "Epoch 67/10000\n",
      "12/12 [==============================] - 42ms 4ms/step - loss: 1.1267 - val_loss: 0.9911\n",
      "Epoch 68/10000\n",
      "12/12 [==============================] - 35ms 3ms/step - loss: 1.1208 - val_loss: 0.9881\n",
      "Epoch 69/10000\n",
      "12/12 [==============================] - 33ms 3ms/step - loss: 1.1208 - val_loss: 0.9881\n",
      "Epoch 70/10000\n",
      "12/12 [==============================] - 41ms 4ms/step - loss: 1.1180 - val_loss: 0.9854\n",
      "Epoch 71/10000\n",
      "12/12 [==============================] - 40ms 4ms/step - loss: 1.1158 - val_loss: 0.9834\n",
      "Epoch 72/10000\n",
      "12/12 [==============================] - 35ms 3ms/step - loss: 1.1157 - val_loss: 0.9845\n",
      "Epoch 73/10000\n",
      "12/12 [==============================] - 37ms 3ms/step - loss: 1.1122 - val_loss: 0.9839\n",
      "Epoch 74/10000\n",
      "12/12 [==============================] - 34ms 3ms/step - loss: 1.1100 - val_loss: 0.9829\n",
      "Epoch 75/10000\n",
      "12/12 [==============================] - 36ms 3ms/step - loss: 1.1086 - val_loss: 0.9801\n",
      "Epoch 76/10000\n",
      "12/12 [==============================] - 32ms 3ms/step - loss: 1.1078 - val_loss: 0.9797\n",
      "Epoch 77/10000\n",
      "12/12 [==============================] - 36ms 3ms/step - loss: 1.1047 - val_loss: 0.9749\n",
      "Epoch 78/10000\n",
      "12/12 [==============================] - 40ms 4ms/step - loss: 1.1034 - val_loss: 0.9743\n",
      "Epoch 79/10000\n",
      "12/12 [==============================] - 38ms 3ms/step - loss: 1.1030 - val_loss: 0.9706\n",
      "Epoch 80/10000\n",
      "12/12 [==============================] - 34ms 3ms/step - loss: 1.0997 - val_loss: 0.9689\n",
      "Epoch 81/10000\n",
      "12/12 [==============================] - 29ms 2ms/step - loss: 1.0984 - val_loss: 0.9674\n",
      "Epoch 82/10000\n",
      "12/12 [==============================] - 29ms 2ms/step - loss: 1.0975 - val_loss: 0.9670\n",
      "Epoch 83/10000\n",
      "12/12 [==============================] - 28ms 2ms/step - loss: 1.0954 - val_loss: 0.9646\n",
      "Epoch 84/10000\n",
      "12/12 [==============================] - 30ms 3ms/step - loss: 1.0935 - val_loss: 0.9625\n",
      "Epoch 85/10000\n",
      "12/12 [==============================] - 29ms 2ms/step - loss: 1.0918 - val_loss: 0.9604\n",
      "Epoch 86/10000\n",
      "12/12 [==============================] - 30ms 3ms/step - loss: 1.0900 - val_loss: 0.9592\n",
      "Epoch 87/10000\n",
      "12/12 [==============================] - 26ms 2ms/step - loss: 1.0901 - val_loss: 0.9589\n",
      "Epoch 88/10000\n",
      "12/12 [==============================] - 26ms 2ms/step - loss: 1.0863 - val_loss: 0.9590\n",
      "Epoch 89/10000\n",
      "12/12 [==============================] - 25ms 2ms/step - loss: 1.0874 - val_loss: 0.9591\n",
      "Epoch 90/10000\n",
      "12/12 [==============================] - 27ms 2ms/step - loss: 1.0841 - val_loss: 0.9579\n",
      "Epoch 91/10000\n",
      "12/12 [==============================] - 29ms 2ms/step - loss: 1.0841 - val_loss: 0.9527\n",
      "Epoch 92/10000\n",
      "12/12 [==============================] - 33ms 3ms/step - loss: 1.0811 - val_loss: 0.9493\n",
      "Epoch 93/10000\n",
      "12/12 [==============================] - 35ms 3ms/step - loss: 1.0804 - val_loss: 0.9499\n",
      "Epoch 94/10000\n",
      "12/12 [==============================] - 30ms 3ms/step - loss: 1.0782 - val_loss: 0.9486\n",
      "Epoch 95/10000\n",
      "12/12 [==============================] - 26ms 2ms/step - loss: 1.0763 - val_loss: 0.9453\n",
      "Epoch 96/10000\n",
      "12/12 [==============================] - 28ms 2ms/step - loss: 1.0754 - val_loss: 0.9430\n",
      "Epoch 97/10000\n",
      "12/12 [==============================] - 26ms 2ms/step - loss: 1.0748 - val_loss: 0.9425\n",
      "Epoch 98/10000\n",
      "12/12 [==============================] - 25ms 2ms/step - loss: 1.0739 - val_loss: 0.9382\n",
      "Epoch 99/10000\n",
      "12/12 [==============================] - 25ms 2ms/step - loss: 1.0718 - val_loss: 0.9410\n",
      "Epoch 100/10000\n",
      "12/12 [==============================] - 31ms 3ms/step - loss: 1.0706 - val_loss: 0.9388\n",
      "Epoch 101/10000\n",
      "12/12 [==============================] - 33ms 3ms/step - loss: 1.0680 - val_loss: 0.9380\n",
      "Epoch 102/10000\n",
      "12/12 [==============================] - 33ms 3ms/step - loss: 1.0678 - val_loss: 0.9346\n",
      "Epoch 103/10000\n",
      "12/12 [==============================] - 34ms 3ms/step - loss: 1.0665 - val_loss: 0.9326\n",
      "Epoch 104/10000\n",
      "12/12 [==============================] - 32ms 3ms/step - loss: 1.0640 - val_loss: 0.9311\n",
      "Epoch 105/10000\n",
      "12/12 [==============================] - 32ms 3ms/step - loss: 1.0624 - val_loss: 0.9287\n",
      "Epoch 106/10000\n",
      "12/12 [==============================] - 29ms 2ms/step - loss: 1.0613 - val_loss: 0.9286\n",
      "Epoch 107/10000\n",
      "12/12 [==============================] - 32ms 3ms/step - loss: 1.0595 - val_loss: 0.9262\n",
      "Epoch 108/10000\n",
      "12/12 [==============================] - 31ms 3ms/step - loss: 1.0586 - val_loss: 0.9275\n",
      "Epoch 109/10000\n",
      "12/12 [==============================] - 31ms 3ms/step - loss: 1.0572 - val_loss: 0.9252\n",
      "Epoch 110/10000\n",
      "12/12 [==============================] - 33ms 3ms/step - loss: 1.0563 - val_loss: 0.9254\n",
      "Epoch 111/10000\n",
      "12/12 [==============================] - 34ms 3ms/step - loss: 1.0548 - val_loss: 0.9235\n",
      "Epoch 112/10000\n",
      "12/12 [==============================] - 33ms 3ms/step - loss: 1.0553 - val_loss: 0.9238\n",
      "Epoch 113/10000\n",
      "12/12 [==============================] - 35ms 3ms/step - loss: 1.0530 - val_loss: 0.9236\n",
      "Epoch 114/10000\n",
      "12/12 [==============================] - 33ms 3ms/step - loss: 1.0511 - val_loss: 0.9223\n",
      "Epoch 115/10000\n",
      "12/12 [==============================] - 47ms 4ms/step - loss: 1.0494 - val_loss: 0.9213\n",
      "Epoch 116/10000\n",
      "12/12 [==============================] - 36ms 3ms/step - loss: 1.0487 - val_loss: 0.9178\n",
      "Epoch 117/10000\n",
      "12/12 [==============================] - 35ms 3ms/step - loss: 1.0473 - val_loss: 0.9181\n",
      "Epoch 118/10000\n",
      "12/12 [==============================] - 43ms 4ms/step - loss: 1.0466 - val_loss: 0.9163\n",
      "Epoch 119/10000\n",
      "12/12 [==============================] - 47ms 4ms/step - loss: 1.0462 - val_loss: 0.9124\n",
      "Epoch 120/10000\n",
      "12/12 [==============================] - 41ms 4ms/step - loss: 1.0435 - val_loss: 0.9107\n",
      "Epoch 121/10000\n",
      "12/12 [==============================] - 42ms 4ms/step - loss: 1.0463 - val_loss: 0.9103\n",
      "Epoch 122/10000\n",
      "12/12 [==============================] - 39ms 3ms/step - loss: 1.0424 - val_loss: 0.9081\n",
      "Epoch 123/10000\n",
      "12/12 [==============================] - 37ms 3ms/step - loss: 1.0408 - val_loss: 0.9081\n",
      "Epoch 124/10000\n",
      "12/12 [==============================] - 53ms 5ms/step - loss: 1.0390 - val_loss: 0.9091\n",
      "Epoch 125/10000\n",
      "12/12 [==============================] - 42ms 4ms/step - loss: 1.0395 - val_loss: 0.9082\n",
      "Epoch 126/10000\n",
      "12/12 [==============================] - 35ms 3ms/step - loss: 1.0402 - val_loss: 0.9067\n",
      "Epoch 127/10000\n",
      "12/12 [==============================] - 36ms 3ms/step - loss: 1.0369 - val_loss: 0.9074\n",
      "Epoch 128/10000\n",
      "12/12 [==============================] - 41ms 4ms/step - loss: 1.0346 - val_loss: 0.9041\n",
      "Epoch 129/10000\n",
      "12/12 [==============================] - 43ms 4ms/step - loss: 1.0348 - val_loss: 0.9028\n",
      "Epoch 130/10000\n",
      "12/12 [==============================] - 48ms 4ms/step - loss: 1.0336 - val_loss: 0.9046\n",
      "Epoch 131/10000\n",
      "12/12 [==============================] - 35ms 3ms/step - loss: 1.0320 - val_loss: 0.9004\n",
      "Epoch 132/10000\n",
      "12/12 [==============================] - 41ms 4ms/step - loss: 1.0312 - val_loss: 0.8984\n",
      "Epoch 133/10000\n",
      "12/12 [==============================] - 41ms 4ms/step - loss: 1.0302 - val_loss: 0.8967\n",
      "Epoch 134/10000\n",
      "12/12 [==============================] - 41ms 4ms/step - loss: 1.0294 - val_loss: 0.8963\n",
      "Epoch 135/10000\n",
      "12/12 [==============================] - 36ms 3ms/step - loss: 1.0304 - val_loss: 0.8961\n",
      "Epoch 136/10000\n",
      "12/12 [==============================] - 42ms 4ms/step - loss: 1.0281 - val_loss: 0.8959\n",
      "Epoch 137/10000\n",
      "12/12 [==============================] - 40ms 4ms/step - loss: 1.0278 - val_loss: 0.8937\n",
      "Epoch 138/10000\n",
      "12/12 [==============================] - 41ms 4ms/step - loss: 1.0257 - val_loss: 0.8926\n",
      "Epoch 139/10000\n",
      "12/12 [==============================] - 40ms 4ms/step - loss: 1.0255 - val_loss: 0.8923\n",
      "Epoch 140/10000\n",
      "12/12 [==============================] - 35ms 3ms/step - loss: 1.0231 - val_loss: 0.8922\n",
      "Epoch 141/10000\n",
      "12/12 [==============================] - 41ms 4ms/step - loss: 1.0241 - val_loss: 0.8908\n",
      "Epoch 142/10000\n",
      "12/12 [==============================] - 39ms 3ms/step - loss: 1.0209 - val_loss: 0.8903\n",
      "Epoch 143/10000\n",
      "12/12 [==============================] - 43ms 4ms/step - loss: 1.0211 - val_loss: 0.8897\n",
      "Epoch 144/10000\n",
      "12/12 [==============================] - 42ms 4ms/step - loss: 1.0193 - val_loss: 0.8899\n",
      "Epoch 145/10000\n",
      "12/12 [==============================] - 37ms 3ms/step - loss: 1.0203 - val_loss: 0.8874\n",
      "Epoch 146/10000\n",
      "12/12 [==============================] - 44ms 4ms/step - loss: 1.0169 - val_loss: 0.8866\n",
      "Epoch 147/10000\n",
      "12/12 [==============================] - 41ms 4ms/step - loss: 1.0166 - val_loss: 0.8835\n",
      "Epoch 148/10000\n",
      "12/12 [==============================] - 40ms 4ms/step - loss: 1.0175 - val_loss: 0.8832\n",
      "Epoch 149/10000\n",
      "12/12 [==============================] - 39ms 3ms/step - loss: 1.0172 - val_loss: 0.8822\n",
      "Epoch 150/10000\n",
      "12/12 [==============================] - 36ms 3ms/step - loss: 1.0157 - val_loss: 0.8834\n",
      "Epoch 151/10000\n",
      "12/12 [==============================] - 43ms 4ms/step - loss: 1.0142 - val_loss: 0.8814\n",
      "Epoch 152/10000\n",
      "12/12 [==============================] - 37ms 3ms/step - loss: 1.0133 - val_loss: 0.8807\n",
      "Epoch 153/10000\n",
      "12/12 [==============================] - 38ms 3ms/step - loss: 1.0150 - val_loss: 0.8815\n",
      "Epoch 154/10000\n",
      "12/12 [==============================] - 37ms 3ms/step - loss: 1.0116 - val_loss: 0.8794\n",
      "Epoch 155/10000\n",
      "12/12 [==============================] - 38ms 3ms/step - loss: 1.0113 - val_loss: 0.8778\n",
      "Epoch 156/10000\n",
      "12/12 [==============================] - 40ms 4ms/step - loss: 1.0097 - val_loss: 0.8783\n",
      "Epoch 157/10000\n",
      "12/12 [==============================] - 43ms 4ms/step - loss: 1.0087 - val_loss: 0.8772\n",
      "Epoch 158/10000\n",
      "12/12 [==============================] - 43ms 4ms/step - loss: 1.0102 - val_loss: 0.8772\n",
      "Epoch 159/10000\n",
      "12/12 [==============================] - 35ms 3ms/step - loss: 1.0071 - val_loss: 0.8758\n",
      "Epoch 160/10000\n",
      "12/12 [==============================] - 38ms 3ms/step - loss: 1.0063 - val_loss: 0.8726\n",
      "Epoch 161/10000\n",
      "12/12 [==============================] - 38ms 3ms/step - loss: 1.0063 - val_loss: 0.8747\n",
      "Epoch 162/10000\n",
      "12/12 [==============================] - 32ms 3ms/step - loss: 1.0061 - val_loss: 0.8735\n",
      "Epoch 163/10000\n",
      "12/12 [==============================] - 28ms 2ms/step - loss: 1.0050 - val_loss: 0.8715\n",
      "Epoch 164/10000\n",
      "12/12 [==============================] - 27ms 2ms/step - loss: 1.0056 - val_loss: 0.8697\n",
      "Epoch 165/10000\n",
      "12/12 [==============================] - 30ms 3ms/step - loss: 1.0028 - val_loss: 0.8691\n",
      "Epoch 166/10000\n",
      "12/12 [==============================] - 36ms 3ms/step - loss: 1.0019 - val_loss: 0.8687\n",
      "Epoch 167/10000\n",
      "12/12 [==============================] - 40ms 4ms/step - loss: 1.0009 - val_loss: 0.8681\n",
      "Epoch 168/10000\n",
      "12/12 [==============================] - 40ms 4ms/step - loss: 1.0017 - val_loss: 0.8665\n",
      "Epoch 169/10000\n",
      "12/12 [==============================] - 45ms 4ms/step - loss: 1.0021 - val_loss: 0.8674\n",
      "Epoch 170/10000\n",
      "12/12 [==============================] - 40ms 4ms/step - loss: 0.9980 - val_loss: 0.8665\n",
      "Epoch 171/10000\n",
      "12/12 [==============================] - 39ms 3ms/step - loss: 0.9989 - val_loss: 0.8665\n",
      "Epoch 172/10000\n",
      "12/12 [==============================] - 37ms 3ms/step - loss: 0.9989 - val_loss: 0.8654\n",
      "Epoch 173/10000\n",
      "12/12 [==============================] - 38ms 3ms/step - loss: 0.9967 - val_loss: 0.8626\n",
      "Epoch 174/10000\n",
      "12/12 [==============================] - 40ms 4ms/step - loss: 0.9957 - val_loss: 0.8618\n",
      "Epoch 175/10000\n",
      "12/12 [==============================] - 33ms 3ms/step - loss: 0.9951 - val_loss: 0.8619\n",
      "Epoch 176/10000\n",
      "12/12 [==============================] - 42ms 4ms/step - loss: 0.9940 - val_loss: 0.8614\n",
      "Epoch 177/10000\n",
      "12/12 [==============================] - 42ms 4ms/step - loss: 0.9950 - val_loss: 0.8620\n",
      "Epoch 178/10000\n",
      "12/12 [==============================] - 40ms 4ms/step - loss: 0.9946 - val_loss: 0.8626\n"
     ]
    },
    {
     "data": {
      "text/plain": [
       "<__main__.TFSGDRegressor at 0x1542396d8>"
      ]
     },
     "execution_count": 45,
     "metadata": {},
     "output_type": "execute_result"
    }
   ],
   "source": [
    "# valid early stopping\n",
    "rgs = TFSGDRegressor(learning_rate=0.001, random_state=10383, epochs=10000)\n",
    "rgs.fit(x[:400], y[:400])"
   ]
  },
  {
   "cell_type": "code",
   "execution_count": 46,
   "metadata": {},
   "outputs": [
    {
     "data": {
      "text/plain": [
       "178"
      ]
     },
     "execution_count": 46,
     "metadata": {},
     "output_type": "execute_result"
    }
   ],
   "source": [
    "rgs.n_iter"
   ]
  },
  {
   "cell_type": "code",
   "execution_count": 47,
   "metadata": {},
   "outputs": [],
   "source": [
    "X_data, y_data = load_boston(return_X_y=True)\n",
    "X_train, X_test, y_train, y_test = train_test_split(X_data, y_data, random_state=10393)"
   ]
  },
  {
   "cell_type": "code",
   "execution_count": 48,
   "metadata": {},
   "outputs": [
    {
     "name": "stdout",
     "output_type": "stream",
     "text": [
      "Epoch 1/10\n",
      "11/11 [==============================] - 120ms 12ms/step - loss: inf - val_loss: inf54712064.0000\n",
      "Epoch 2/10\n",
      "11/11 [==============================] - 42ms 4ms/step - loss: nan - val_loss: nan\n",
      "Epoch 3/10\n",
      "11/11 [==============================] - 44ms 4ms/step - loss: nan - val_loss: nan\n",
      "Epoch 4/10\n",
      "11/11 [==============================] - 41ms 4ms/step - loss: nan - val_loss: nan\n",
      "Epoch 5/10\n",
      "11/11 [==============================] - 42ms 4ms/step - loss: nan - val_loss: nan\n",
      "Epoch 6/10\n",
      "11/11 [==============================] - 38ms 3ms/step - loss: nan - val_loss: nan\n",
      "Epoch 7/10\n",
      "11/11 [==============================] - 39ms 3ms/step - loss: nan - val_loss: nan\n",
      "Epoch 8/10\n",
      "11/11 [==============================] - 38ms 3ms/step - loss: nan - val_loss: nan\n",
      "Epoch 9/10\n",
      "11/11 [==============================] - 38ms 3ms/step - loss: nan - val_loss: nan\n",
      "Epoch 10/10\n",
      "11/11 [==============================] - 36ms 3ms/step - loss: nan - val_loss: nan\n"
     ]
    },
    {
     "data": {
      "text/plain": [
       "<__main__.TFSGDRegressor at 0x154231a20>"
      ]
     },
     "execution_count": 48,
     "metadata": {},
     "output_type": "execute_result"
    }
   ],
   "source": [
    "rgs = TFSGDRegressor(learning_rate=0.001, epochs=10)\n",
    "rgs.fit(X_train, y_train)"
   ]
  },
  {
   "cell_type": "code",
   "execution_count": 49,
   "metadata": {},
   "outputs": [],
   "source": [
    "scaler = NumpyMinMaxScaler()\n",
    "X_train_scaler = scaler.fit_transform(X_train)\n",
    "X_test_scaler = scaler.transform(X_test)"
   ]
  },
  {
   "cell_type": "code",
   "execution_count": 50,
   "metadata": {},
   "outputs": [
    {
     "name": "stdout",
     "output_type": "stream",
     "text": [
      "Epoch 1/10\n",
      "11/11 [==============================] - 125ms 12ms/step - loss: 137.5302 - val_loss: 55.6120\n",
      "Epoch 2/10\n",
      "11/11 [==============================] - 45ms 4ms/step - loss: 58.6631 - val_loss: 46.1243\n",
      "Epoch 3/10\n",
      "11/11 [==============================] - 37ms 3ms/step - loss: 44.8885 - val_loss: 42.0271\n",
      "Epoch 4/10\n",
      "11/11 [==============================] - 37ms 3ms/step - loss: 41.4892 - val_loss: 46.2876\n",
      "Epoch 5/10\n",
      "11/11 [==============================] - 34ms 3ms/step - loss: 39.5966 - val_loss: 35.7099\n",
      "Epoch 6/10\n",
      "11/11 [==============================] - 43ms 4ms/step - loss: 40.3813 - val_loss: 48.9018\n",
      "Epoch 7/10\n",
      "11/11 [==============================] - 40ms 4ms/step - loss: 39.8612 - val_loss: 33.8038\n",
      "Epoch 8/10\n",
      "11/11 [==============================] - 35ms 3ms/step - loss: 33.4643 - val_loss: 33.0794\n",
      "Epoch 9/10\n",
      "11/11 [==============================] - 29ms 2ms/step - loss: 36.0855 - val_loss: 32.7658\n",
      "Epoch 10/10\n",
      "11/11 [==============================] - 27ms 2ms/step - loss: 32.2708 - val_loss: 53.3411\n"
     ]
    },
    {
     "data": {
      "text/plain": [
       "<__main__.TFSGDRegressor at 0x154297d30>"
      ]
     },
     "execution_count": 50,
     "metadata": {},
     "output_type": "execute_result"
    }
   ],
   "source": [
    "# 归一化后\n",
    "rgs = TFSGDRegressor(learning_rate=0.2, epochs=10, random_state=10382)\n",
    "rgs.fit(X_train_scaler, y_train)"
   ]
  },
  {
   "cell_type": "code",
   "execution_count": 51,
   "metadata": {},
   "outputs": [
    {
     "data": {
      "text/plain": [
       "0.6398372"
      ]
     },
     "execution_count": 51,
     "metadata": {},
     "output_type": "execute_result"
    }
   ],
   "source": [
    "rgs.score(X_test_scaler, y_test)"
   ]
  },
  {
   "cell_type": "code",
   "execution_count": 52,
   "metadata": {},
   "outputs": [
    {
     "name": "stdout",
     "output_type": "stream",
     "text": [
      "Epoch 1/10\n",
      "11/11 [==============================] - 93ms 9ms/step - loss: 137.5632 - val_loss: 55.5582\n",
      "Epoch 2/10\n",
      "11/11 [==============================] - 30ms 3ms/step - loss: 58.6987 - val_loss: 46.1044\n",
      "Epoch 3/10\n",
      "11/11 [==============================] - 35ms 3ms/step - loss: 44.9296 - val_loss: 42.0207\n",
      "Epoch 4/10\n",
      "11/11 [==============================] - 35ms 3ms/step - loss: 41.5326 - val_loss: 46.3386\n",
      "Epoch 5/10\n",
      "11/11 [==============================] - 38ms 3ms/step - loss: 39.6951 - val_loss: 35.7306\n",
      "Epoch 6/10\n",
      "11/11 [==============================] - 44ms 4ms/step - loss: 40.5040 - val_loss: 48.8611\n",
      "Epoch 7/10\n",
      "11/11 [==============================] - 44ms 4ms/step - loss: 39.9702 - val_loss: 33.8847\n",
      "Epoch 8/10\n",
      "11/11 [==============================] - 44ms 4ms/step - loss: 33.6091 - val_loss: 33.1446\n",
      "Epoch 9/10\n",
      "11/11 [==============================] - 44ms 4ms/step - loss: 36.2926 - val_loss: 32.8881\n",
      "Epoch 10/10\n",
      "11/11 [==============================] - 43ms 4ms/step - loss: 32.4481 - val_loss: 53.5975\n"
     ]
    },
    {
     "data": {
      "text/plain": [
       "<__main__.TFSGDRegressor at 0x1542d0c50>"
      ]
     },
     "execution_count": 52,
     "metadata": {},
     "output_type": "execute_result"
    }
   ],
   "source": [
    "# 归一化后 + l2正则\n",
    "rgs = TFSGDRegressor(learning_rate=0.2, epochs=10, random_state=10382, regularize=\"l2\")\n",
    "rgs.fit(X_train_scaler, y_train)"
   ]
  },
  {
   "cell_type": "code",
   "execution_count": 53,
   "metadata": {},
   "outputs": [
    {
     "data": {
      "text/plain": [
       "0.6373894"
      ]
     },
     "execution_count": 53,
     "metadata": {},
     "output_type": "execute_result"
    }
   ],
   "source": [
    "rgs.score(X_test_scaler, y_test)"
   ]
  },
  {
   "cell_type": "code",
   "execution_count": 54,
   "metadata": {},
   "outputs": [
    {
     "data": {
      "image/png": "[encoded data removed]",
      "text/plain": [
       "<Figure size 720x360 with 1 Axes>"
      ]
     },
     "metadata": {
      "needs_background": "light"
     },
     "output_type": "display_data"
    }
   ],
   "source": [
    "show_regressor_loss(rgs.train_loss, rgs.valid_loss)"
   ]
  },
  {
   "cell_type": "markdown",
   "metadata": {},
   "source": [
    "### 2.2 tf.keras"
   ]
  },
  {
   "cell_type": "code",
   "execution_count": 55,
   "metadata": {},
   "outputs": [],
   "source": [
    "model = keras.models.Sequential(keras.layers.Dense(1, input_shape=[1,]))"
   ]
  },
  {
   "cell_type": "code",
   "execution_count": 56,
   "metadata": {},
   "outputs": [],
   "source": [
    "model.compile(loss=\"mse\", optimizer=\"sgd\")"
   ]
  },
  {
   "cell_type": "code",
   "execution_count": 57,
   "metadata": {},
   "outputs": [
    {
     "name": "stdout",
     "output_type": "stream",
     "text": [
      "Epoch 1/10\n",
      "16/16 [==============================] - 0s 614us/step - loss: 11.0413\n",
      "Epoch 2/10\n",
      "16/16 [==============================] - 0s 616us/step - loss: 1.1410\n",
      "Epoch 3/10\n",
      "16/16 [==============================] - 0s 608us/step - loss: 1.0836\n",
      "Epoch 4/10\n",
      "16/16 [==============================] - 0s 634us/step - loss: 1.0591\n",
      "Epoch 5/10\n",
      "16/16 [==============================] - 0s 628us/step - loss: 1.0632\n",
      "Epoch 6/10\n",
      "16/16 [==============================] - 0s 650us/step - loss: 1.0133\n",
      "Epoch 7/10\n",
      "16/16 [==============================] - 0s 656us/step - loss: 1.0212\n",
      "Epoch 8/10\n",
      "16/16 [==============================] - 0s 638us/step - loss: 1.0050\n",
      "Epoch 9/10\n",
      "16/16 [==============================] - 0s 611us/step - loss: 0.9942\n",
      "Epoch 10/10\n",
      "16/16 [==============================] - 0s 674us/step - loss: 0.9733\n"
     ]
    },
    {
     "data": {
      "text/plain": [
       "<tensorflow.python.keras.callbacks.History at 0x15444c668>"
      ]
     },
     "execution_count": 57,
     "metadata": {},
     "output_type": "execute_result"
    }
   ],
   "source": [
    "model.fit(x, y, epochs=10)"
   ]
  },
  {
   "cell_type": "code",
   "execution_count": 58,
   "metadata": {},
   "outputs": [
    {
     "name": "stdout",
     "output_type": "stream",
     "text": [
      "Model: \"sequential\"\n",
      "_________________________________________________________________\n",
      "Layer (type)                 Output Shape              Param #   \n",
      "=================================================================\n",
      "dense (Dense)                (None, 1)                 2         \n",
      "=================================================================\n",
      "Total params: 2\n",
      "Trainable params: 2\n",
      "Non-trainable params: 0\n",
      "_________________________________________________________________\n"
     ]
    }
   ],
   "source": [
    "model.summary()"
   ]
  },
  {
   "cell_type": "code",
   "execution_count": 59,
   "metadata": {},
   "outputs": [
    {
     "data": {
      "text/plain": [
       "[<tf.Variable 'dense/kernel:0' shape=(1, 1) dtype=float32, numpy=array([[0.5740624]], dtype=float32)>,\n",
       " <tf.Variable 'dense/bias:0' shape=(1,) dtype=float32, numpy=array([0.79904777], dtype=float32)>]"
      ]
     },
     "execution_count": 59,
     "metadata": {},
     "output_type": "execute_result"
    }
   ],
   "source": [
    "model.layers[0].weights"
   ]
  },
  {
   "cell_type": "code",
   "execution_count": 60,
   "metadata": {},
   "outputs": [
    {
     "data": {
      "image/png": "[encoded data removed]",
      "text/plain": [
       "<Figure size 720x360 with 1 Axes>"
      ]
     },
     "metadata": {
      "needs_background": "light"
     },
     "output_type": "display_data"
    }
   ],
   "source": [
    "show_linear_point(x, y)"
   ]
  },
  {
   "cell_type": "code",
   "execution_count": 61,
   "metadata": {},
   "outputs": [],
   "source": [
    "weights = model.layers[0].weights\n",
    "pred_coef = weights[0].numpy()[0]\n",
    "pred_intercept = weights[1].numpy()[0]"
   ]
  },
  {
   "cell_type": "code",
   "execution_count": 62,
   "metadata": {},
   "outputs": [
    {
     "data": {
      "text/plain": [
       "(array([0.5740624], dtype=float32), 0.79904777)"
      ]
     },
     "execution_count": 62,
     "metadata": {},
     "output_type": "execute_result"
    }
   ],
   "source": [
    "pred_coef, pred_intercept"
   ]
  },
  {
   "cell_type": "code",
   "execution_count": 63,
   "metadata": {},
   "outputs": [
    {
     "data": {
      "image/png": "[encoded data removed]",
      "text/plain": [
       "<Figure size 720x360 with 1 Axes>"
      ]
     },
     "metadata": {
      "needs_background": "light"
     },
     "output_type": "display_data"
    }
   ],
   "source": [
    "show_regressor_linear(x, y, pred_coef, pred_intercept)"
   ]
  },
  {
   "cell_type": "markdown",
   "metadata": {},
   "source": [
    "## 3. TensorFlow2 实现LWLR"
   ]
  },
  {
   "cell_type": "markdown",
   "metadata": {},
   "source": [
    "$\\begin{align}\n",
    "w(i, i)=\\exp \\left(\\frac{||x^{(i)}-x||_{2} ^ 2}{-2 k^{2}}\\right)\n",
    "\\end{align}$\n",
    "\n",
    "$\n",
    "\\begin{align}\n",
    "J(a, b)= \\sum_{i=1}^{N} w_{i}\\left(y_{i}-a x_{i}-b\\right)^{2}\n",
    "\\end{align}\n",
    "$  \n",
    "\n",
    "$\\begin{align}\n",
    "\\hat{a}^*=\\left( X ^{ T } W X \\right)^{-1} X ^{ T } W y\n",
    "\\end{align}$"
   ]
  },
  {
   "cell_type": "code",
   "execution_count": 64,
   "metadata": {},
   "outputs": [],
   "source": [
    "class TFLWLR(TFBaseLinearRegressor):\n",
    "    \"\"\"Locally Weighted Linear Regression model with TensorFlow, explicitly inherits \n",
    "        from TFBaseLinearRegressor already.\n",
    "    \n",
    "    Attributes:\n",
    "        _X_train: feature data for training. A tf.Tensor matrix of (n_samples, n_features)\n",
    "            shape, data type must be continuous value type. \n",
    "        _y_train: label data for training. A tf.Tensor array of (n_samples, ) shape, \n",
    "            data type must be continuous value.\n",
    "        k: the k of gaussian kernal. A float number not 0, default = 1.0\n",
    "    \"\"\"\n",
    "    def __init__(self, k=1.0, fit_intercept=True, random_state=None):\n",
    "        \"\"\"TFLWLR initial method\n",
    "        \n",
    "        Args:\n",
    "            k: the k of gaussian kernal. A float number, default = 1.0\n",
    "            fit_intercept: if fit intercept. A bool value, default = True.\n",
    "            random_state: random seed. A int number if random_state is \n",
    "                not None else None, default = None.\n",
    "        \"\"\"\n",
    "        super().__init__(fit_intercept=fit_intercept, random_state=random_state)\n",
    "        self.k = self._init_validation_self(k)\n",
    "    \n",
    "    def fit(self, X_train, y_train):\n",
    "        \"\"\"method for training model. \n",
    "        \n",
    "        Args:\n",
    "            X_train: A np.ndarray matrix of (n_samples, n_features) shape, data type\n",
    "                must be continuous value type. \n",
    "            y_train: A np.ndarray array of (n_samples, ) shape.\n",
    "            \n",
    "        Returns:\n",
    "            self object.\n",
    "        \"\"\"\n",
    "        self._X_train, self._y_train = self._fit_validation(X_train, y_train)\n",
    "        return self\n",
    "    \n",
    "    def predict(self, X_test, _miss_valid=False):\n",
    "        \"\"\"predict test data.\n",
    "        \n",
    "        Args:\n",
    "            X_test: A np.ndarray matrix of (n_samples, n_features) shape, \n",
    "                or a np.ndarray array of (n_features, ) shape.\n",
    "        \n",
    "        Returns:\n",
    "            result of predict. A tf.Tensor array of (n_samples, ) shape, \n",
    "                or a float number.\n",
    "        \"\"\"\n",
    "        if not _miss_valid:\n",
    "            X_test = self._predict_validation(X_test)\n",
    "        if self.intercept_ is not None:\n",
    "            self._X_train = tf.concat([self._X_train, tf.ones(shape=(self._X_train.shape[0], 1))], axis=1)\n",
    "            X_test = tf.concat([X_test, tf.ones(shape=(X_test.shape[0], 1))], axis=1)\n",
    "        if X_test.ndim == 1:\n",
    "            result = self._predict_one(X_test)\n",
    "            if self.intercept_ is not None:\n",
    "                self._X_train = self._X_train[:, :-1]\n",
    "            return result\n",
    "        else:\n",
    "            results = []\n",
    "            for x_test in X_test:\n",
    "                results.append(self._predict_one(x_test).numpy())\n",
    "            if self.intercept_ is not None:\n",
    "                self._X_train = self._X_train[:, :-1]\n",
    "            return tf.constant(results)\n",
    "    \n",
    "    def _predict_one(self, x_test):\n",
    "        w = self._calculate_weight(x_test)\n",
    "        xtx = tf.transpose(self._X_train) @ (w @ self._X_train)\n",
    "        try:\n",
    "            xtx_inv = np.linalg.inv(xtx)\n",
    "        except np.linalg.LinAlgError as ex:\n",
    "            raise ex\n",
    "        self.coef_ = xtx_inv @ tf.transpose(self._X_train) @ w @ tf.reshape(self._y_train, shape=[-1, 1])\n",
    "        return tf.reshape(tf.reshape(x_test, [1, -1]) @ self.coef_, [])\n",
    "    \n",
    "    def _init_validation_self(self, k):\n",
    "        assert isinstance(k, (int, float))\n",
    "        return k\n",
    "    \n",
    "    def _calculate_weight(self, x_test):\n",
    "        w = tf.Variable(tf.eye(self._X_train.shape[0]))\n",
    "        for i in range(self._X_train.shape[0]):\n",
    "            diff = self._X_train[i] - x_test\n",
    "            w[i, i].assign(tf.exp(tf.reduce_sum(tf.square(diff)) / (-2 * self.k * 2)))\n",
    "        return w"
   ]
  },
  {
   "cell_type": "code",
   "execution_count": 65,
   "metadata": {},
   "outputs": [],
   "source": [
    "import numpy as np\n",
    "x, y = load_data_from_func(func=lambda x: 10 * np.sin(x) - 0.134 * x*2 + 4.0872 * x, scale=1, random_state=1091)\n",
    "X_train, X_test, y_train, y_test = train_test_split(x, y, random_state=1930)"
   ]
  },
  {
   "cell_type": "code",
   "execution_count": 66,
   "metadata": {},
   "outputs": [],
   "source": [
    "rgs = TFLWLR(k=0.1).fit(X_train, y_train)"
   ]
  },
  {
   "cell_type": "code",
   "execution_count": 67,
   "metadata": {},
   "outputs": [],
   "source": [
    "y_pred = rgs.predict(X_test)"
   ]
  },
  {
   "cell_type": "code",
   "execution_count": 68,
   "metadata": {},
   "outputs": [
    {
     "data": {
      "image/png": "[encoded data removed]",
      "text/plain": [
       "<Figure size 720x360 with 1 Axes>"
      ]
     },
     "metadata": {
      "needs_background": "light"
     },
     "output_type": "display_data"
    }
   ],
   "source": [
    "show_regression_line(X_test, y_test, y_pred.numpy())"
   ]
  },
  {
   "cell_type": "markdown",
   "metadata": {},
   "source": [
    "## 总结"
   ]
  },
  {
   "cell_type": "markdown",
   "metadata": {},
   "source": [
    "1. 高阶API\n",
    "    > * 1.1 自动求导 \n",
    "        >> * 要用tf的自动求导机制，需要将模型的参数设置为tf.Variable   \n",
    "        >> * 然后打开一个tf.GradientTape对象，在它下面计算预测值和loss  \n",
    "        >> * 调用tape的gradient方法求得导数  \n",
    "        >> * tape.gradient接收target和sources两个参数，  \n",
    "        >> * target就是loss损失值，sources是要求导的参数（如果是多个参数就用list打包，单个就直接填） \n",
    "        >> ```python\n",
    "        self.coef_ = tf.Variable(\n",
    "            tf.random.normal(shape=(self._X_train.shape[1], 1))) \n",
    "        with tf.GradientTape() as tape:  \n",
    "            y_batch_pred = self._call(X_train_batch)  \n",
    "            loss = self._loss_func(y_train_batch, y_batch_pred)  \n",
    "        coef_grad, intercept_grad = tape.gradient(loss, [self.coef_, self.intercept_])  \n",
    "        >>  ```\n",
    "        >> * 默认tape只能使用一次，若要多次使用，with tf.GradientTape(persistent=True) as tape:\n",
    "    > * 1.2 优化器optimiser  \n",
    "        >> * 优化器类放在keras.optimizers下，常用SGD   \n",
    "        >> * 实例化optimizer，参数learning_rate  \n",
    "        >> * 可以调用optimizer.apply_gradients方法，利用导数更新参数  \n",
    "        >> * apply_gradients方法接收一个list，list里都是tuple，tuple包含**导数**和**参数**  \n",
    "        >> ```python\n",
    "        self._optimizer = keras.optimizers.SGD(learning_rate=self.learning_rate)\n",
    "        self._optimizer.apply_gradients([(coef_grad, self.coef_), (intercept_grad, self.intercept_)])\n",
    "        >> ```  \n",
    "     > * 1.3 损失计算方法  \n",
    "        >> * 放在keras.losses下  \n",
    "        >> * 可以直接调用mean_squared_error()方法，也可以实例化一个MeanSquaredError对象，也可以实例化一个mean_squared_error函数具柄  \n",
    "        >> ```python  \n",
    "        '''调用mean_squared_error方法'''\n",
    "        loss = keras.losses.mean_squared_error(y_batch, y_pred)\n",
    "        '''实例化MeanSquaredError对象'''\n",
    "        mse = keras.losses.MeanSquaredError()\n",
    "        loss = mse(y_batch, y_pred)\n",
    "        '''实例化mean_squared_error函数具柄'''\n",
    "        loss_func = keras.losses.mean_squared_error\n",
    "        loss = loss_func(y_batch, y_pred)  \n",
    "        >> ```\n",
    "        >> * 累计损失平均值用metric，可以自动求平均loss  \n",
    "        >> * 放在keras.metrics下，常用MeanSquaredError  \n",
    "        >> * 重置平均值，调用metric的reset_states方法\n",
    "        >> ```python  \n",
    "        metric = keras.metrics.MeanSquaredError()\n",
    "        mean_loss = metric(y_batch, y_pred) # 计算平均损失\n",
    "        metric.reset_states() # 重置metric平均值，一般放在每个epoch的开始执行\n",
    "        >> ```  \n",
    "    > * 1.4 正则化\n",
    "        >> * 放在keras.regularizers下  \n",
    "        >> * l2正则器接收正则率参数l2, l1正则器接收正则率参数l1  \n",
    "        >> * 将需要正则化的参数传给实例化的正则器，并加在loss中\n",
    "        >> ```python\n",
    "        self._regularizer = keras.regularizers.l2(l2=0.01)\n",
    "        with tf.GradientTape() as tape:\n",
    "            y_pred_batch = self._call(X_train_batch)\n",
    "            loss = self._loss_func(y_train_batch, y_pred_batch) + self._regularizer(w)\n",
    "        ...\n",
    "        >> ```\n",
    "    > * 1.5 dataset\n",
    "        >> * tensorflow中使用tf.data.Dataset构建数据集  \n",
    "        >> * tf.data.Dataset.from_tensor_slices(tensors)  \n",
    "        >> numpy数据生成Dataset  \n",
    "        >> * dataset.shuffle(buffer_size).batch(batch_size)   \n",
    "        >> 调用shuffle等方法返回Dataset，可直接叠加方法（batch返回BatchDataset）  \n",
    "        >> ```python\n",
    "        def _batch_generator(self, X, y, shuffle=True):\n",
    "            dataset = tf.data.Dataset.from_tensor_slices((X, y))\n",
    "            if shuffle:\n",
    "                dataset = dataset.shuffle(buffer_size=self._X_train.shape[0])\n",
    "            dataset = dataset.batch(self.batch_size)\n",
    "            return dataset\n",
    "        >> ```\n",
    " \n",
    "2. 基础API\n",
    "    > * 2.1 tf.concat(values, axis)  \n",
    "        >> 合并多个张量，values用list打包，每个张量的axis维度必须相同  \n",
    "    > * 2.2 tf.random.set_seed(seed)  \n",
    "        >> 设置random seed。和numpy不同，seed可以为负数\n",
    "    > * 2.3 tf.random.normal(shape, mean=0.0, stddev=1.0, dtype=tf.float32, seed=None)   \n",
    "        >> 高斯分布初始化参数  \n",
    "    > * 2.4 tf.Variable().assign()   \n",
    "        >> assign方法修改tf.Variable对象的值\n",
    "    > * 2.5 tf.linalg.inv()    \n",
    "        >> 求逆矩阵  \n",
    "    > * 2.6 tf.matmul()\n",
    "        >> 矩阵乘法，或者用@运算符\n",
    " \n",
    "3. 坑\n",
    "    > * 3.1 tensorflow不支持一维张量做矩阵乘法\n",
    "        >> 所有要参与矩阵乘法的一维张量（self.coef_, y）都要初始化为shape为（\\_, 1）的二维向量  \n",
    "    > * 3.2 tensorflow不支持直接索引修改指定值  \n",
    "        >> tf.Tensor常量不能修改\n",
    "        >> 必须初始化为tf.Variable，调用assign方法修改\n",
    "        >> ```python\n",
    "        w = tf.Variable(tf.eye(self._X_train.shape[0]))\n",
    "        w[i, i].assign(tf.exp(tf.reduce_sum(tf.square(diff)) / (-2 * self.k * 2)))\n",
    "        >> ```\n",
    "    > * 3.3 tf.Tensor不支持reshape方法，必须调用tf.reshape(tensor, shape)\n",
    "    > * 3.4 tf.Tensorf不支持.T转置属性，必须调用tf.transpose(a)\n",
    "    \n",
    "4. SGD流程\n",
    "    >```python\n",
    "    \"\"\"\n",
    "    for epoch in arange(epoch):\n",
    "        for batch in batch_ganerator(X_train, y_train):\n",
    "            1. 计算预测值y_pred_batch\n",
    "            2. 计算loss\n",
    "            3. 通过loss获取导数\n",
    "            4. 计算累计平均损失，并输出\n",
    "            5. 更新参数\n",
    "        for batch in batch_ganerator(X_valid, y_valid, shuffle=False):\n",
    "            1. 计算valid累计平均损失\n",
    "        1. 输出valid的累计平均损失  \n",
    "        2. 保存最优参数  \n",
    "        3. 判断early stopping  \n",
    "    \"\"\"\n",
    "    > ```"
   ]
  },
  {
   "cell_type": "markdown",
   "metadata": {},
   "source": [
    "## 作业\n",
    "\n",
    "1. 手敲两遍，第一遍  \n",
    "2. 搞懂每个API的输入和输出  \n",
    "3. 尝试用TensorFlow实现多项式回归  "
   ]
  },
  {
   "cell_type": "markdown",
   "metadata": {},
   "source": [
    "## 相关链接   \n",
    "\n",
    "<a href=\"./02.1.LinearRegression.ipynb\" style=\"\"> 2.1 线性回归、岭回归、Lasso、SGD、局部加权线性回归原理</a>    \n",
    "<a href=\"./02.2.LinearRegression-sklearn.ipynb\" style=\"\"> 2.2 sklearn中使用线性回归、岭回归、Lasso、SGD、多项式回归  </a>  \n",
    "<a href=\"./02.3.LinearRegression-numpy.ipynb\" style=\"\"> 2.3 numpy实现线性回归、岭回归、SGD回归、LWLR</a>  \n",
    "\n",
    "<a href=\"./02.5.LinearRegression-torch1.ipynb\"> 2.5 PyTorch1实现线性回归、岭回归、SGD回归、LWLR </a>  "
   ]
  },
  {
   "cell_type": "markdown",
   "metadata": {},
   "source": [
    "## 项目源码  \n",
    "\n",
    "https://github.com/LossJ     \n",
    "进入后点击Statistic-Machine-Learning"
   ]
  }
 ],
 "metadata": {
  "kernelspec": {
   "display_name": "Python 3",
   "language": "python",
   "name": "python3"
  },
  "language_info": {
   "codemirror_mode": {
    "name": "ipython",
    "version": 3
   },
   "file_extension": ".py",
   "mimetype": "text/x-python",
   "name": "python",
   "nbconvert_exporter": "python",
   "pygments_lexer": "ipython3",
   "version": "3.7.2"
  }
 },
 "nbformat": 4,
 "nbformat_minor": 4
}
