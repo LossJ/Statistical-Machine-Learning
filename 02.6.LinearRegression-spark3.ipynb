{
 "cells": [
  {
   "cell_type": "code",
   "execution_count": 1,
   "metadata": {},
   "outputs": [],
   "source": [
    "from LossJLearn.datasets import load_linear_data\n",
    "\n",
    "from pyspark.sql import SparkSession\n",
    "from pyspark.mllib.regression import (\n",
    "    LinearRegressionModel, \n",
    "    LinearRegressionWithSGD, \n",
    "    LassoModel, \n",
    "    LassoWithSGD, \n",
    "    RidgeRegressionModel, \n",
    "    RidgeRegressionWithSGD,\n",
    "    StreamingLinearRegressionWithSGD\n",
    ")\n",
    "import pandas as pd\n",
    "from sklearn.model_selection import train_test_split\n",
    "from sklearn.datasets import fetch_california_housing"
   ]
  },
  {
   "cell_type": "code",
   "execution_count": 2,
   "metadata": {},
   "outputs": [],
   "source": [
    "app_name = \"LossJ_App\"\n",
    "spark=SparkSession.builder.appName(app_name).getOrCreate()\n",
    "sc = spark.sparkContext"
   ]
  },
  {
   "cell_type": "code",
   "execution_count": 3,
   "metadata": {},
   "outputs": [],
   "source": [
    "X_data, y_data = load_linear_data(point_count=500, w=0.5493, b=1.1973)\n",
    "X_data = pd.DataFrame(X_data)\n",
    "y_data = pd.Series(y_data)\n",
    "X_train, X_test, y_train, y_test = train_test_split(X_data, y_data, random_state=10931)"
   ]
  },
  {
   "cell_type": "code",
   "execution_count": 4,
   "metadata": {},
   "outputs": [
    {
     "name": "stdout",
     "output_type": "stream",
     "text": [
      "+-------------------+\n",
      "|                 x1|\n",
      "+-------------------+\n",
      "|0.11238734326584399|\n",
      "|  2.950171432847808|\n",
      "|  1.757147996342373|\n",
      "|  4.541132254115442|\n",
      "|  6.845564764842714|\n",
      "|  7.913716349355536|\n",
      "|  7.430887172985887|\n",
      "|  6.762860363460668|\n",
      "|  5.785119710771597|\n",
      "|  5.727850170681408|\n",
      "|  3.139783973413748|\n",
      "| 2.6874903548908344|\n",
      "| 2.0892399660384564|\n",
      "|  5.706364389031959|\n",
      "| 4.3918451863329455|\n",
      "|  3.806344337385913|\n",
      "| 0.6291490227452012|\n",
      "|  7.921551966085375|\n",
      "|   4.64296964956401|\n",
      "|  4.063968945047954|\n",
      "+-------------------+\n",
      "only showing top 20 rows\n",
      "\n"
     ]
    }
   ],
   "source": [
    "X_train_df = spark.createDataFrame(X_train, schema=[\"x1\"])\n",
    "X_train_df.show()"
   ]
  },
  {
   "cell_type": "code",
   "execution_count": 5,
   "metadata": {},
   "outputs": [
    {
     "data": {
      "text/plain": [
       "375"
      ]
     },
     "execution_count": 5,
     "metadata": {},
     "output_type": "execute_result"
    }
   ],
   "source": [
    "X_train_df.count()"
   ]
  },
  {
   "cell_type": "code",
   "execution_count": 6,
   "metadata": {},
   "outputs": [
    {
     "data": {
      "text/plain": [
       "['x1']"
      ]
     },
     "execution_count": 6,
     "metadata": {},
     "output_type": "execute_result"
    }
   ],
   "source": [
    "X_train_df.columns"
   ]
  },
  {
   "cell_type": "code",
   "execution_count": null,
   "metadata": {},
   "outputs": [],
   "source": []
  }
 ],
 "metadata": {
  "kernelspec": {
   "display_name": "Python 3",
   "language": "python",
   "name": "python3"
  },
  "language_info": {
   "codemirror_mode": {
    "name": "ipython",
    "version": 3
   },
   "file_extension": ".py",
   "mimetype": "text/x-python",
   "name": "python",
   "nbconvert_exporter": "python",
   "pygments_lexer": "ipython3",
   "version": "3.7.2"
  }
 },
 "nbformat": 4,
 "nbformat_minor": 4
}
