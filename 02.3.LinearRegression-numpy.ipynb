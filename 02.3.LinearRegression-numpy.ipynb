{
 "cells": [
  {
   "cell_type": "code",
   "execution_count": 1,
   "metadata": {},
   "outputs": [
    {
     "name": "stdout",
     "output_type": "stream",
     "text": [
      "python version:  sys.version_info(major=3, minor=7, micro=2, releaselevel='final', serial=0)\n",
      "numpy 1.17.0\n"
     ]
    }
   ],
   "source": [
    "import copy\n",
    "import sys\n",
    "from collections.abc import Iterable\n",
    "from functools import reduce\n",
    "\n",
    "%matplotlib inline\n",
    "import numpy as np\n",
    "from matplotlib import pyplot as plt\n",
    "from sklearn.datasets import load_boston\n",
    "from sklearn.model_selection import train_test_split\n",
    "\n",
    "print(\"python version: \", sys.version_info)\n",
    "print(np.__name__, np.__version__)"
   ]
  },
  {
   "cell_type": "markdown",
   "metadata": {},
   "source": [
    "## 1. Numpy实现Linear Regressor"
   ]
  },
  {
   "cell_type": "markdown",
   "metadata": {},
   "source": [
    "$w=\\left(X^{\\top} X\\right)^{-1} X^{\\top} Y$  "
   ]
  },
  {
   "cell_type": "markdown",
   "metadata": {},
   "source": [
    "### 1.1 NumpyBaseEstimator"
   ]
  },
  {
   "cell_type": "code",
   "execution_count": 2,
   "metadata": {},
   "outputs": [],
   "source": [
    "class NumpyBaseEstimator:\n",
    "    \"\"\"Numpy estimator base class for all numpy estimator.\"\"\"\n",
    "\n",
    "    def _fit_validation(self, X, y):\n",
    "        \"\"\"valid fit method's params\n",
    "\n",
    "        Args:\n",
    "            X: feature data for training. A np.ndarray matrix of (n_samples,\n",
    "                n_features) shape, data type must be continuous value type.\n",
    "            y: label data for training. A np.ndarray array of (n_samples, ) shape.\n",
    "\n",
    "        Returns:\n",
    "            np.ndarray type data of X and y.\n",
    "\n",
    "        Raises:\n",
    "            AssertionError: Error type of X or y, or mismatched shape for X or y.\n",
    "        \"\"\"\n",
    "        assert isinstance(X, Iterable) and isinstance(y, Iterable)\n",
    "        assert len(X) == len(y)\n",
    "        X = X if isinstance(X, np.ndarray) else np.array(X)\n",
    "        y = y if isinstance(y, np.ndarray) else np.array(y)\n",
    "        if X.ndim != 2:\n",
    "            raise ValueError(f\"X dim must be 2, got {X.ndim} dim of X! \")\n",
    "        return X, y\n",
    "\n",
    "    def _predict_validation(self, X_test):\n",
    "        \"\"\"valid predict method's params\n",
    "\n",
    "        Args:\n",
    "            X_test: feature data for predicting. A np.ndarray matrix of (n_samples,\n",
    "                n_features) shape, data type must be continuous value type.\n",
    "\n",
    "        Returns:\n",
    "            np.ndarray type data of X_test.\n",
    "\n",
    "        Raises:\n",
    "            AssertionError: Error type of X_test.\n",
    "            ValueError: Mismatched shape for X_test.\n",
    "        \"\"\"\n",
    "        assert isinstance(X_test, Iterable)\n",
    "        X_test = X_test if isinstance(X_test, np.ndarray) else np.array(X_test)\n",
    "        error_text = f\"Mismatched shape for X_test! Get {X_test.shape}, only\" \\\n",
    "                     f\" ({self._X_train.shape[1]}, ) or (_, {self._X_train.shape[1]}) \" \\\n",
    "                     f\"X_test can be.\"\n",
    "        if X_test.ndim == 1:\n",
    "            if X_test.shape[0] != self._X_train.shape[1]:\n",
    "                raise ValueError(error_text)\n",
    "        elif X_test.ndim == 2:\n",
    "            if X_test.shape[1] != self._X_train.shape[1]:\n",
    "                raise ValueError(error_text)\n",
    "        else:\n",
    "            raise ValueError(f\"X_test with the {X_test.ndim} dim! Only 1 or 2 dim X_test can be.\")\n",
    "        return X_test\n",
    "\n",
    "    def _score_validation(self, X_test, y_test):\n",
    "        \"\"\"valid score method's params\n",
    "\n",
    "        Args:\n",
    "            X_test: feature data for training. A np.ndarray matrix of (n_samples,\n",
    "                n_features) shape, data type must be continuous value type.\n",
    "            y_test: label data for training. A np.ndarray array of (n_samples, ) shape.\n",
    "\n",
    "        Returns:\n",
    "            np.ndarray type data of X_test and y_test.\n",
    "\n",
    "        Raises:\n",
    "            AssertionError: Error type of X_test or y_test.\n",
    "            ValueError: Mismatched shape for X_test or y_test.\n",
    "        \"\"\"\n",
    "        X_test = self._predict_validation(X_test)\n",
    "        is_valid = True\n",
    "        if isinstance(y_test, Iterable):\n",
    "            if X_test.shape[0] != len(y_test):\n",
    "                is_valid = False\n",
    "            elif X_test.ndim == 1:\n",
    "                is_valid = False\n",
    "        else:\n",
    "            assert isinstance(y_test, int) or isinstance(y_test, float)\n",
    "            if X_test.ndim != 1:\n",
    "                is_valid = False\n",
    "        y_test = np.array(y_test)\n",
    "        if not is_valid:\n",
    "            raise ValueError(f\"Mismatched shape for y_test! X_test with {X_test.shape} shape, but \"\n",
    "                             f\"y_test's shape is {y_test.shape}\")\n",
    "        return X_test, y_test"
   ]
  },
  {
   "cell_type": "markdown",
   "metadata": {},
   "source": [
    "### 1.2 NumpyRegressorMixin"
   ]
  },
  {
   "cell_type": "code",
   "execution_count": 3,
   "metadata": {},
   "outputs": [],
   "source": [
    "class NumpyRegressorMixin:\n",
    "    \"\"\"Regressor Mixin with numpy. Mainly realized the score method.\"\"\"\n",
    "\n",
    "    def score(self, X_test, y_test):\n",
    "        \"\"\"Use test dataset to evaluate the trained model.\n",
    "\n",
    "        Args:\n",
    "            X_test: A np.ndarray matrix of (n_samples, n_features) shape.\n",
    "            y_test: A np.ndarray array of (n_samples, ) shape. data type must be\n",
    "                discrete value.\n",
    "        Returns:\n",
    "            return R^2, R^2 = 1 - u / v. u = sum((y_pred - y_true)^2), v = sum((y_true - y_true_mean)^2)\n",
    "        \"\"\"\n",
    "        X_test, y_test = self._score_validation(X_test, y_test)\n",
    "        y_pred = self.predict(X_test, _miss_valid=True)\n",
    "        y_true_mean = np.mean(y_test, axis=0)\n",
    "        u = np.sum(np.square(y_pred - y_test))\n",
    "        v = np.sum(np.square(y_test - y_true_mean))\n",
    "        r_squared = 1 - u / v\n",
    "        return r_squared"
   ]
  },
  {
   "cell_type": "markdown",
   "metadata": {},
   "source": [
    "### 1.3 NumpyBaseLinearRegressor"
   ]
  },
  {
   "cell_type": "code",
   "execution_count": 4,
   "metadata": {},
   "outputs": [],
   "source": [
    "class NumpyBaseLinearRegressor(NumpyBaseEstimator, NumpyRegressorMixin):\n",
    "    \"\"\"Linear regressor base class with numpy, explicitly inherits from NumpyBaseEstimator\n",
    "        and NumpyRegressorMixin already.\n",
    "    \n",
    "    Attributes:\n",
    "        _X_train:feature data for training. A np.ndarray matrix of (n_samples, \n",
    "            n_features) shape, data type must be continuous value type. \n",
    "        _y_train:label data for training. A np.ndarray array of (n_samples, ) shape, \n",
    "            data type must be continuous value.\n",
    "        coef_: coef of linear regressor. A np.ndarray array of (n_features, ) shape.\n",
    "        intercept_: intercept of regressor. A np.ndarray integer.\n",
    "    \"\"\"\n",
    "\n",
    "    def __init__(self, fit_intercept=True, random_state=None):\n",
    "        \"\"\"linear regressor init method.\n",
    "        \n",
    "        Args:\n",
    "            fit_intercept: Bool value. If use intercept in the linear regressor model.\n",
    "        \"\"\"\n",
    "        fit_intercept, random_state = self._init_validation(fit_intercept, random_state)\n",
    "        self._X_train = None\n",
    "        self._y_train = None\n",
    "        self.coef_ = None\n",
    "        if random_state is not None:\n",
    "            np.random.seed(random_state)\n",
    "        self.intercept_ = np.random.randn() if fit_intercept else None\n",
    "\n",
    "    def fit(self, X_train, y_train):\n",
    "        \"\"\"method for training model. \n",
    "        \n",
    "        Args:\n",
    "            X_train: A np.ndarray matrix of (n_samples, n_features) shape, \n",
    "                data type must be continuous value type. \n",
    "            y_train: A np.ndarray array of (n_samples, ) shape.\n",
    "        \n",
    "        Returns:\n",
    "            self object.\n",
    "        \"\"\"\n",
    "        self._X_train, self._y_train = self._fit_validation(X_train, y_train)\n",
    "        if self.intercept_ is not None:\n",
    "            self._X_train = np.c_[self._X_train, np.ones((self._X_train.shape[0], 1))]\n",
    "        self._calculate_coef()\n",
    "        if self.intercept_ is not None:\n",
    "            self.intercept_ = self.coef_[-1]\n",
    "            self.coef_ = np.delete(self.coef_, -1)\n",
    "            self._X_train = np.delete(self._X_train, -1, axis=1)\n",
    "        return self\n",
    "\n",
    "    def predict(self, X_test, _miss_valid=False):\n",
    "        \"\"\"predict test data.\n",
    "        \n",
    "        Args:\n",
    "            X_test: A np.ndarray matrix of (n_samples, n_features) shape, \n",
    "                or a np.ndarray array of (n_features, ) shape.\n",
    "        \"\"\"\n",
    "        if not _miss_valid:\n",
    "            X_test = self._predict_validation(X_test)\n",
    "        product = X_test @ self.coef_\n",
    "        return product if self.intercept_ is None else product + self.intercept_\n",
    "    \n",
    "    def _init_validation(self, fit_intercept, random_state):\n",
    "        assert isinstance(fit_intercept, bool)\n",
    "        assert isinstance(random_state, (int, type(None)))\n",
    "        return fit_intercept, random_state"
   ]
  },
  {
   "cell_type": "markdown",
   "metadata": {},
   "source": [
    "### 1.4 NumpyLinearRegressor"
   ]
  },
  {
   "cell_type": "code",
   "execution_count": 5,
   "metadata": {},
   "outputs": [],
   "source": [
    "class NumpyLinearRegressor(NumpyBaseLinearRegressor):\n",
    "    \"\"\"Linear regressor class with numpy, explicitly inherits from NumpyBaseLinearRegressor already.\n",
    "    \n",
    "    Attributes:\n",
    "        _X_train:feature data for training. A np.ndarray matrix of (n_samples, n_features) shape, \n",
    "            data type must be continuous value type. \n",
    "        _y_train:label data for training. A np.ndarray array of (n_samples, ) shape, \n",
    "            data type must be continuous value.\n",
    "        coef_: coef of linear regressor. A np.ndarray array of (n_features, ) shape.\n",
    "        intercept_: intercept of regressor. A np.ndarray integer.\n",
    "    \"\"\"\n",
    "\n",
    "    def _calculate_coef(self):\n",
    "        xtx = self._X_train.T @ self._X_train\n",
    "        try:\n",
    "            xtx_inv = np.linalg.inv(xtx)\n",
    "        except np.linalg.LinAlgError as ex:\n",
    "            raise ex\n",
    "        self.coef_ = xtx_inv @ self._X_train.T @ self._y_train"
   ]
  },
  {
   "cell_type": "markdown",
   "metadata": {},
   "source": [
    "### 1.5 生成数据"
   ]
  },
  {
   "cell_type": "code",
   "execution_count": 6,
   "metadata": {},
   "outputs": [],
   "source": [
    "def load_linear_data(point_count=100, min_=0., max_=10., w=0.5493, b=1.1973, random_state=None, scale=1.0, loc=0.0):\n",
    "    \"\"\"load linear data\n",
    "\n",
    "    Args:\n",
    "        point_count: a integer number, default = 100.\n",
    "        min_: bottom range of x data, a float number, default = 0.0.\n",
    "        max_: top range of x data, a float number, default = 10.0.\n",
    "        w: the coef of linear, a float number, default = 0.5493.\n",
    "        b: the intercept of linear, a float number, default = 1.1973.\n",
    "        random_state: random seed, a int number, default = None.\n",
    "        scale: noise's scale. A float number, default = 1.0.\n",
    "        loc: noise's loc. A float number, default = 0.0\n",
    "\n",
    "    Returns:\n",
    "        A tuple. (x, y). the shape of x is (point_count, 1), the shape\n",
    "            of y is (point_count, ).\n",
    "\n",
    "    Raises:\n",
    "        AssertionError: random_state is not a integer.\n",
    "    \"\"\"\n",
    "    if random_state is not None:\n",
    "        assert isinstance(random_state, int)\n",
    "        np.random.seed(random_state)\n",
    "\n",
    "    x = np.random.uniform(min_, max_, point_count)\n",
    "    noise = np.random.normal(scale=scale, loc=loc, size=[point_count])\n",
    "    y = w * x + b + noise\n",
    "    return x.reshape([-1, 1]), y"
   ]
  },
  {
   "cell_type": "code",
   "execution_count": 7,
   "metadata": {},
   "outputs": [],
   "source": [
    "x, y = load_linear_data(1000)"
   ]
  },
  {
   "cell_type": "code",
   "execution_count": 8,
   "metadata": {},
   "outputs": [
    {
     "data": {
      "text/plain": [
       "(1000, 1)"
      ]
     },
     "execution_count": 8,
     "metadata": {},
     "output_type": "execute_result"
    }
   ],
   "source": [
    "x.shape"
   ]
  },
  {
   "cell_type": "code",
   "execution_count": 9,
   "metadata": {},
   "outputs": [
    {
     "data": {
      "image/png": "[encoded data removed]",
      "text/plain": [
       "<Figure size 720x360 with 1 Axes>"
      ]
     },
     "metadata": {
      "needs_background": "light"
     },
     "output_type": "display_data"
    }
   ],
   "source": [
    "plt.figure(figsize=[10, 5])\n",
    "plt.xlabel(\"x\")\n",
    "plt.ylabel(\"y\")\n",
    "plt.scatter(x, y, s=8)\n",
    "plt.show()"
   ]
  },
  {
   "cell_type": "code",
   "execution_count": 10,
   "metadata": {},
   "outputs": [
    {
     "data": {
      "text/plain": [
       "(array([0.56199546]), 1.1418439527206572)"
      ]
     },
     "execution_count": 10,
     "metadata": {},
     "output_type": "execute_result"
    }
   ],
   "source": [
    "rgs = NumpyLinearRegressor(fit_intercept=True)\n",
    "rgs.fit(x, y)\n",
    "rgs.coef_, rgs.intercept_"
   ]
  },
  {
   "cell_type": "markdown",
   "metadata": {},
   "source": [
    "### 1.6 绘制回归拟合直线"
   ]
  },
  {
   "cell_type": "code",
   "execution_count": 11,
   "metadata": {},
   "outputs": [],
   "source": [
    "def show_regressor_linear(X_data, y_data, pred_coef, pred_intercept=0):\n",
    "    \"\"\"show the regression linear and data point.\n",
    "    \n",
    "    Args:\n",
    "        X_data: A np.ndarray matrix of (point_count, 1) shape, \n",
    "            data type must be continuous value type. \n",
    "        y_data: A np.ndarray array of (point_count, ) shape.\n",
    "        pred_coef: prediction coef. A np.ndarray matrix of (1, ) shape.\n",
    "        pred_intercept: prediction coef. A np.ndarray integer or interge, default = 0.\n",
    "    \"\"\"\n",
    "    if pred_intercept is None:\n",
    "        pred_intercept = 0\n",
    "    plt.figure(figsize=[10, 5])\n",
    "    plt.xlabel(\"x\")\n",
    "    plt.ylabel(\"y\")\n",
    "    plt.scatter(X_data, y_data, label=\"true\", s=12)\n",
    "    pred_y = pred_coef * X_data + pred_intercept\n",
    "    plt.plot(X_data, pred_y, label=\"pred\", color=\"darkorange\")\n",
    "    plt.legend()\n",
    "    plt.show()"
   ]
  },
  {
   "cell_type": "code",
   "execution_count": 12,
   "metadata": {},
   "outputs": [
    {
     "data": {
      "image/png": "[encoded data removed]",
      "text/plain": [
       "<Figure size 720x360 with 1 Axes>"
      ]
     },
     "metadata": {
      "needs_background": "light"
     },
     "output_type": "display_data"
    }
   ],
   "source": [
    "show_regressor_linear(\n",
    "    X_data=x, y_data=y, pred_coef=rgs.coef_, pred_intercept=rgs.intercept_\n",
    ")"
   ]
  },
  {
   "cell_type": "markdown",
   "metadata": {},
   "source": [
    "## 2. Numpy实现Ridge"
   ]
  },
  {
   "cell_type": "markdown",
   "metadata": {},
   "source": [
    "$\\hat{w}=\\arg \\min _{w} J(w)=\\left(X^{\\top} x+\\lambda I\\right)^{-1} x^{\\top} Y$"
   ]
  },
  {
   "cell_type": "code",
   "execution_count": 13,
   "metadata": {},
   "outputs": [],
   "source": [
    "class NumpyRidge(NumpyBaseLinearRegressor):\n",
    "    \"\"\"Ridge class with numpy. explicitly inherits from NumpyBaseLinearRegressor already.\n",
    "    \n",
    "    Attributes:\n",
    "        _X_train:feature data for training. A np.ndarray matrix of (n_samples, n_features) shape, \n",
    "            data type must be continuous value type. \n",
    "        _y_train:label data for training. A np.ndarray array of (n_samples, ) shape, \n",
    "            data type must be continuous value.\n",
    "        coef_: coef of linear regressor. A np.ndarray array of (n_features, ) shape.\n",
    "        intercept_: intercept of regressor. A np.ndarray integer.\n",
    "        alpha: the regularize rate. A positive float number, default = 1.0.\n",
    "    \"\"\"\n",
    "\n",
    "    def __init__(self, fit_intercept=True, alpha=1.0, random_state=None):\n",
    "        \"\"\"ridge object init method.\n",
    "        \n",
    "        Args:\n",
    "            fit_intercept: Bool value. If use intercept in the ridge model.\n",
    "            alpha: the regularize rate. A positive float number, default = 1.0.\n",
    "        \n",
    "        Raises:\n",
    "            AssertionError: Alpha value must be a number.\n",
    "            ValueError: Alpha value must be greater than 0.\n",
    "        \"\"\"\n",
    "        super().__init__(fit_intercept=fit_intercept, random_state=random_state)\n",
    "        assert isinstance(alpha, int) or isinstance(alpha, float)\n",
    "        if 0 < alpha:\n",
    "            self.alpha = alpha\n",
    "        else:\n",
    "            raise ValueError(\"Alpha value must be greater than 0! \")\n",
    "\n",
    "    def _calculate_coef(self):\n",
    "        xtx = self._X_train.T @ self._X_train\n",
    "        self.coef_ = (\n",
    "            np.linalg.inv(xtx + self.alpha * np.identity(self._X_train.shape[1])) \\\n",
    "            @ self._X_train.T \\\n",
    "            @ self._y_train\n",
    "        )"
   ]
  },
  {
   "cell_type": "code",
   "execution_count": 14,
   "metadata": {},
   "outputs": [
    {
     "data": {
      "text/plain": [
       "(array([0.5622924]), 1.1397567567796922)"
      ]
     },
     "execution_count": 14,
     "metadata": {},
     "output_type": "execute_result"
    }
   ],
   "source": [
    "rgs = NumpyRidge(fit_intercept=True, alpha=0.5, random_state=12)\n",
    "rgs.fit(x, y)\n",
    "rgs.coef_, rgs.intercept_"
   ]
  },
  {
   "cell_type": "code",
   "execution_count": 15,
   "metadata": {},
   "outputs": [
    {
     "data": {
      "image/png": "[encoded data removed]",
      "text/plain": [
       "<Figure size 720x360 with 1 Axes>"
      ]
     },
     "metadata": {
      "needs_background": "light"
     },
     "output_type": "display_data"
    }
   ],
   "source": [
    "show_regressor_linear(\n",
    "    X_data=x, y_data=y, pred_coef=rgs.coef_, pred_intercept=rgs.intercept_\n",
    ")"
   ]
  },
  {
   "cell_type": "markdown",
   "metadata": {},
   "source": [
    "## 3. Numpy实现SGD Regressor"
   ]
  },
  {
   "cell_type": "markdown",
   "metadata": {},
   "source": [
    "$\\frac{\\partial \\mathcal{L}}{\\partial w}= \\frac{2}{n} \\sum_{i=1}^{n}\\left(w x^{(i)}+b-y^{(i)}\\right) \\cdot x^{(i)}$"
   ]
  },
  {
   "cell_type": "markdown",
   "metadata": {},
   "source": [
    "$\\frac{\\partial \\mathcal{L}}{\\partial b} =\\frac{2}{n} \\sum_{i=1}^{n}\\left(w x^{(i)}+b-y^{(i)}\\right)$"
   ]
  },
  {
   "cell_type": "markdown",
   "metadata": {},
   "source": [
    "### 3.1 NumpySGDBaseEstimator"
   ]
  },
  {
   "cell_type": "code",
   "execution_count": 16,
   "metadata": {},
   "outputs": [],
   "source": [
    "class NumpySGDBaseEstimator:\n",
    "    \"\"\"SGD Estimator Base class with numpy.\n",
    "    \n",
    "    Attributes:\n",
    "        _X_train:feature data for training. A np.ndarray matrix of (n_samples,\n",
    "            n_features) shape, data type must be continuous value type. \n",
    "        _y_train:label data for training. A np.ndarray array of (n_samples, ) shape, \n",
    "            data type must be continuous value.\n",
    "        coef_: coef of linear regressor. A np.ndarray matrix of (n_features, ) shape.\n",
    "        intercept_: intercept of regressor. A np.ndarray integer if intercept_ is \n",
    "            not None else None.\n",
    "        alpha: the regularize rate. A float number and must be greater than 0, \n",
    "            default = 0.001.\n",
    "        save_param_list: if save param of the train process. A bool value, default = True.\n",
    "        coef_list: list of coef param from the train process,\n",
    "            every coef is a np.ndarray of (n_features, ) shape.\n",
    "        intercept_list: list of intercept param from the train process, \n",
    "            every intercept is a np.ndarray float number.\n",
    "        learning_rate: learning rate. A positive float number, default = 0.001.\n",
    "        epochs: epochs. A positive int number, default = 10.\n",
    "        batch_size: batch size. A positive int number, default = 32.\n",
    "        early_stopping: if early stopping when loss don't reduce again. A bool value,\n",
    "            default = True.\n",
    "        patient: Number of epochs that do not reduce loss continuously, \n",
    "            patient only takes effect when early_stopping is True. \n",
    "            A positive int number, default = 5.\n",
    "        toc: The threshold that symbolizes loss no longer decreases, \n",
    "            toc only takes effect when early_stopping is True. \n",
    "            A float number, default = 0.001\n",
    "        random_state: random seed. A positive int number if random_state \n",
    "            is not None else None, default = None.\n",
    "        regularize: regularize. A str value in {\"l1\", \"l2\"} if regularize \n",
    "            is not None else None, default = None.\n",
    "        best_loss: best loss of the train process. A np.ndarray float number.\n",
    "        best_coef: best coef of the train process. A np.ndarray array of \n",
    "            (n_features, 1) shape.\n",
    "        best_intercept_: best intercept of the train process. A np.ndarray number.\n",
    "        train_loss: list of train loss from the train process. \n",
    "            every loss is a np.ndarray float number.\n",
    "        valid_loss: list of valid loss from the train process.\n",
    "            every loss is a np.ndarray float number.\n",
    "        n_iter: the actual iteration of train process. A int number, initial = 0.\n",
    "        save_best_model: if save the best model params as the final model.\n",
    "                A bool value, defalut = True.\n",
    "    \"\"\"\n",
    "\n",
    "    def __init__(\n",
    "        self,\n",
    "        loss=\"mse\",\n",
    "        alpha=0.0001,\n",
    "        fit_intercept=True,\n",
    "        save_param_list=True,\n",
    "        learning_rate=0.0001,\n",
    "        epochs=10,\n",
    "        batch_size=32,\n",
    "        print_step=1,\n",
    "        early_stopping=True,\n",
    "        patient=5,\n",
    "        toc=0.0001,\n",
    "        random_state=None,\n",
    "        regularize=None,\n",
    "        shuffle=True,\n",
    "        save_best_model=True\n",
    "    ):\n",
    "        \"\"\"NumpySGDBaseEstimator initial method.\n",
    "        \n",
    "        Args:\n",
    "            loss: A str in {\"mse\"}, default = \"mse\"\n",
    "            alpha: the regularize rate. A float number and must be greater\n",
    "                than 0, default = 0.001.\n",
    "            fit_intercept: if fit intercept. A bool value, default = True. \n",
    "            save_param_list: if save param of the train process. A bool value,\n",
    "                default = True.\n",
    "            learning_rate: learning rate. A positive float number, default = 0.001.\n",
    "            epochs: epochs. A positive int number, default = 10.\n",
    "            batch_size: batch size. A positive int number, default = 32.\n",
    "            early_stopping: if early stopping when loss don't reduce again. \n",
    "                A bool value, default = True\n",
    "            patient: Number of epochs that do not reduce loss continuously, \n",
    "                patient only takes effect when early_stopping is True. \n",
    "                A positive int number, default = 5.\n",
    "            toc: The threshold that symbolizes loss no longer decreases, \n",
    "                toc only takes effect when early_stopping is True. \n",
    "                A float number, default = 0.001\n",
    "            random_state: random seed. A positive int number if random_state \n",
    "                is not None else None, default = None.\n",
    "            regularize: regularize. A str value in {\"l2\"} if regularize \n",
    "                is not None else None, default = None.\n",
    "            shuffle: if shuffle the train data. A bool value, default = True.\n",
    "            save_best_model: if save the best model params as the final model.\n",
    "                A bool value, defalut = True.\n",
    "        \n",
    "        Raises:\n",
    "            AssertionError: Some parameters do not match.\n",
    "        \"\"\"\n",
    "        \n",
    "        (\n",
    "            loss,\n",
    "            alpha,\n",
    "            fit_intercept,\n",
    "            save_param_list,\n",
    "            learning_rate,\n",
    "            epochs,\n",
    "            batch_size,\n",
    "            print_step,\n",
    "            early_stopping,\n",
    "            patient,\n",
    "            toc,\n",
    "            random_state,\n",
    "            regularize,\n",
    "            shuffle,\n",
    "            save_best_model\n",
    "        ) = self._init_validation(\n",
    "            loss,\n",
    "            alpha,\n",
    "            fit_intercept,\n",
    "            save_param_list,\n",
    "            learning_rate,\n",
    "            epochs,\n",
    "            batch_size,\n",
    "            print_step,\n",
    "            early_stopping,\n",
    "            patient,\n",
    "            toc,\n",
    "            random_state,\n",
    "            regularize,\n",
    "            shuffle,\n",
    "            save_best_model\n",
    "        )\n",
    "        self.random_state = None\n",
    "        if random_state:\n",
    "            self.random_state = random_state\n",
    "            np.random.seed(self.random_state)\n",
    "        loss_func_dict = {\"mse\": self._mse}\n",
    "        loss_gradient_func_dict = {\"mse\": self._mse_gradient}\n",
    "        self._loss_func = loss_func_dict[loss]\n",
    "        self._gradient_func = loss_gradient_func_dict[loss]\n",
    "        self.alpha = alpha\n",
    "        self.intercept_ = None\n",
    "        if fit_intercept:\n",
    "            self.intercept_ = np.random.randn()\n",
    "        self.save_param_list = save_param_list\n",
    "        self.learning_rate = learning_rate\n",
    "        self.epochs = epochs\n",
    "        self.batch_size = batch_size\n",
    "        self._print_step = print_step\n",
    "        self.early_stopping = early_stopping\n",
    "        self.patient = patient\n",
    "        self.toc = toc\n",
    "        self.regularize = regularize\n",
    "        self.shuffle = shuffle\n",
    "        self.save_best_model = save_best_model\n",
    "        \n",
    "        self._X_train = None\n",
    "        self._y_train = None\n",
    "        self.n_iter_ = 0\n",
    "        self.coef_ = None\n",
    "        self.best_loss = float(\"inf\")\n",
    "        self.best_coef_ = None\n",
    "        self.best_intercept_ = None\n",
    "        self.best_epoch = 1\n",
    "        self.coef_list = []\n",
    "        self.intercept_list = []\n",
    "        self.valid_loss = []\n",
    "        self.train_loss = []\n",
    "\n",
    "    def fit(self, X_train, y_train, validation_data=None):\n",
    "        \"\"\"train model methed.\n",
    "        \n",
    "        Args:\n",
    "            X_train: A np.ndarray matrix of (n_samples, n_features) shape, \n",
    "                data type must be continuous value type. \n",
    "            y_train: A np.ndarray array of (n_samples, ) shape, data type \n",
    "                must be continuous value type.\n",
    "            validation: the validation data for validate the model. A tuple\n",
    "                like (X_valid, y_valid) , the shape of X_valid and y_valid is \n",
    "                like X_train and y_train. Default = None.\n",
    "        \"\"\"\n",
    "        self._X_train, self._y_train = self._fit_validation(X_train, y_train)\n",
    "        X_valid, y_valid = self._validation_data_valid(validation_data)\n",
    "        if self.coef_ is None:\n",
    "            self.coef_ = np.random.randn(self._X_train.shape[1])\n",
    "        current_patient = 0\n",
    "        last_valid_loss = None\n",
    "        self.coef_list.append(copy.deepcopy(self.coef_))\n",
    "        self.intercept_list.append(self.intercept_)\n",
    "        for epoch in range(self.epochs):\n",
    "            # train model\n",
    "            self._fit_train()\n",
    "\n",
    "            # validate model\n",
    "            valid_mean_loss = self._fit_valid(X_valid, y_valid, epoch)\n",
    "\n",
    "            self.n_iter_ += 1\n",
    "\n",
    "            # early stopping\n",
    "            if self.early_stopping and epoch != 0:\n",
    "                if last_valid_loss - valid_mean_loss < self.toc:\n",
    "                    current_patient += 1\n",
    "                else:\n",
    "                    current_patient = 0\n",
    "                if current_patient >= self.patient:\n",
    "                    break\n",
    "            last_valid_loss = valid_mean_loss\n",
    "        if self.save_best_model:\n",
    "            self.coef_ = self.best_coef_\n",
    "            self.intercept_ = self.best_intercept_\n",
    "        self._final_print()\n",
    "        return self\n",
    "\n",
    "    def _final_print(self):\n",
    "        print(\n",
    "            f\"Actual iter epoch: {self.n_iter_}, best epoch: {self.best_epoch}, \"\n",
    "            f\"best loss: {self.best_loss}, best coef: {self.best_coef_}, \"\n",
    "            f\"best intercept: {self.best_intercept_}\"\n",
    "        )\n",
    "    \n",
    "    def _fit_train(self):\n",
    "        train_data = self._batch_generator(self._X_train, self._y_train, self.shuffle)\n",
    "        for X_batch, y_batch in train_data:\n",
    "            y_pred = self.predict(X_batch, _miss_valid=True)\n",
    "            coef_gradient, intercept_gradient = self._gradient_func(\n",
    "                y_batch, y_pred, X_batch\n",
    "            )\n",
    "            self.coef_ -= self.learning_rate * coef_gradient\n",
    "            if self.intercept_:\n",
    "                self.intercept_ -= self.learning_rate * intercept_gradient\n",
    "        train_loss_last_batch = self._loss_func(y_batch, y_pred)\n",
    "        self.train_loss.append(train_loss_last_batch)\n",
    "\n",
    "    def _fit_valid(self, X_valid, y_valid, epoch):\n",
    "        valid_data = self._batch_generator(X_valid, y_valid, self.shuffle)\n",
    "        valid_sum_loss = 0\n",
    "        for X_valid_batch, y_valid_batch in valid_data:\n",
    "            valid_batch_pred = self.predict(X_valid_batch)\n",
    "            loss = self._loss_func(y_valid_batch, valid_batch_pred)\n",
    "            valid_sum_loss += loss\n",
    "        valid_mean_loss = valid_sum_loss / (X_valid.shape[0] // self.batch_size)\n",
    "        if valid_mean_loss < self.best_loss:\n",
    "            self.best_loss = valid_mean_loss\n",
    "            self.best_coef_ = self.coef_\n",
    "            self.best_intercept_ = self.intercept_\n",
    "            self.best_epoch = epoch + 1\n",
    "        if self.save_param_list:\n",
    "            self.coef_list.append(copy.deepcopy(self.coef_))\n",
    "            self.intercept_list.append(self.intercept_)\n",
    "        if (epoch + 1) % self._print_step == 0:\n",
    "            print(f\"Epoch {epoch + 1}: valid_data loss: {valid_mean_loss}\")\n",
    "        self.valid_loss.append(valid_mean_loss)\n",
    "        return valid_mean_loss\n",
    "\n",
    "    def _validation_data_valid(self, validation_data):\n",
    "        if validation_data:\n",
    "            assert isinstance(validation_data, tuple) and len(validation_data) == 2\n",
    "            X_valid, y_valid = validation_data\n",
    "            X_valid, y_valid = self._fit_validation(X_valid, y_valid)\n",
    "        else:\n",
    "            X_train_len = int(self._X_train.shape[0] * 0.25)\n",
    "            X_valid = self._X_train[X_train_len:]\n",
    "            y_valid = self._y_train[X_train_len:]\n",
    "            self._X_train = self._X_train[:X_train_len]\n",
    "            self._y_train = self._y_train[:X_train_len]\n",
    "        return X_valid, y_valid\n",
    "\n",
    "    def _batch_generator(self, X_data, y_data, shuffle=True):\n",
    "        step = 0\n",
    "        steps_per_epoch = X_data.shape[0] // self.batch_size\n",
    "        while steps_per_epoch > step:\n",
    "            if shuffle:\n",
    "                index = np.random.choice(X_data.shape[0], self.batch_size)\n",
    "            else:\n",
    "                index = np.arange(self.batch_size * step, self.batch_size * (step + 1))\n",
    "            yield X_data[index], y_data[index]\n",
    "            step += 1\n",
    "            \n",
    "    def _regularize_gradient(self, coef_gradient):\n",
    "        if self.regularize is None:\n",
    "            return coef_gradient\n",
    "        elif self.regularize == \"l2\":\n",
    "            return coef_gradient + 2 * self.alpha * self.coef_\n",
    "\n",
    "    def _init_validation(\n",
    "        self,\n",
    "        loss,\n",
    "        alpha,\n",
    "        fit_intercept,\n",
    "        save_param_list,\n",
    "        learning_rate,\n",
    "        epochs,\n",
    "        batch_size,\n",
    "        print_step,\n",
    "        early_stopping,\n",
    "        patient,\n",
    "        toc,\n",
    "        random_state,\n",
    "        regularize,\n",
    "        shuffle,\n",
    "        save_best_model\n",
    "    ):\n",
    "        loss_key_set = {\"mse\", \"cross_entropy\"}\n",
    "        assert loss in loss_key_set\n",
    "        assert isinstance(alpha, (int, float))\n",
    "        assert 0 < alpha\n",
    "        assert isinstance(fit_intercept, bool)\n",
    "        assert isinstance(save_param_list, bool)\n",
    "        assert isinstance(learning_rate, (int, float))\n",
    "        assert 0 < learning_rate\n",
    "        assert isinstance(epochs, int) and epochs >= 1\n",
    "        assert isinstance(batch_size, int) and batch_size >= 1\n",
    "        assert isinstance(print_step, int) and print_step >= 1\n",
    "        assert isinstance(early_stopping, bool)\n",
    "        assert isinstance(patient, int) and patient >= 2\n",
    "        assert isinstance(toc, (int, float)) and toc > 0.0\n",
    "        assert (random_state is None) or isinstance(random_state, int)\n",
    "        regularize_key_set = {None, \"l2\"}\n",
    "        assert regularize in regularize_key_set\n",
    "        assert isinstance(shuffle, bool)\n",
    "        assert isinstance(save_best_model, bool)\n",
    "        return (\n",
    "            loss,\n",
    "            alpha,\n",
    "            fit_intercept,\n",
    "            save_param_list,\n",
    "            learning_rate,\n",
    "            epochs,\n",
    "            batch_size,\n",
    "            print_step,\n",
    "            early_stopping,\n",
    "            patient,\n",
    "            toc,\n",
    "            random_state,\n",
    "            regularize,\n",
    "            shuffle,\n",
    "            save_best_model\n",
    "        )"
   ]
  },
  {
   "cell_type": "markdown",
   "metadata": {},
   "source": [
    "### 3.2 NumpySGDRegressor"
   ]
  },
  {
   "cell_type": "code",
   "execution_count": 17,
   "metadata": {},
   "outputs": [],
   "source": [
    "class NumpySGDRegressor(NumpySGDBaseEstimator, NumpyBaseLinearRegressor):\n",
    "    \"\"\"SGD Regressor model with numpy, explicitly inherits \n",
    "        from NumpyBaseLinearRegression and NumpySGDBaseEstimator already.\n",
    "    \n",
    "    Attributes:\n",
    "        _X_train:feature data for training. A np.ndarray matrix of (n_samples,\n",
    "            n_features) shape, data type must be continuous value type. \n",
    "        _y_train:label data for training. A np.ndarray array of (n_samples, ) shape, \n",
    "            data type must be continuous value.\n",
    "        coef_: coef of linear regressor. A np.ndarray matrix of (n_features, ) shape.\n",
    "        intercept_: intercept of regressor. A np.ndarray integer if intercept_ is \n",
    "            not None else None.\n",
    "        alpha: the regularize rate. A float number and must be greater than 0, \n",
    "            default = 0.001.\n",
    "        save_param_list: if save param of the train process. A bool value, default = True.\n",
    "        coef_list: list of coef param from the train process,\n",
    "            every coef is a np.ndarray of (n_features, ) shape.\n",
    "        intercept_list: list of intercept param from the train process, \n",
    "            every intercept is a np.ndarray float number.\n",
    "        learning_rate: learning rate. A positive float number, default = 0.001.\n",
    "        epochs: epochs. A positive int number, default = 10.\n",
    "        batch_size: batch size. A positive int number, default = 32.\n",
    "        early_stopping: if early stopping when loss don't reduce again. A bool value,\n",
    "            default = True.\n",
    "        patient: Number of epochs that do not reduce loss continuously, \n",
    "            patient only takes effect when early_stopping is True. \n",
    "            A positive int number, default = 5.\n",
    "        toc: The threshold that symbolizes loss no longer decreases, \n",
    "            toc only takes effect when early_stopping is True. \n",
    "            A float number, default = 0.001\n",
    "        random_state: random seed. A positive int number if random_state \n",
    "            is not None else None, default = None.\n",
    "        regularize: regularize. A str value in {\"l1\", \"l2\"} if regularize \n",
    "            is not None else None, default = None.\n",
    "        best_loss: best loss of the train process. A np.ndarray float number.\n",
    "        best_coef: best coef of the train process. A np.ndarray array of \n",
    "            (n_features, 1) shape.\n",
    "        best_intercept_: best intercept of the train process. A np.ndarray number.\n",
    "        train_loss: list of train loss from the train process. \n",
    "            every loss is a np.ndarray float number.\n",
    "        valid_loss: list of valid loss from the train process.\n",
    "            every loss is a np.ndarray float number.\n",
    "        n_iter: the actual iteration of train process. A int number, initial = 0.\n",
    "    \"\"\"\n",
    "\n",
    "    def __init__(\n",
    "        self,\n",
    "        loss=\"mse\",\n",
    "        alpha=0.0001,\n",
    "        fit_intercept=True,\n",
    "        save_param_list=True,\n",
    "        learning_rate=0.0001,\n",
    "        epochs=10,\n",
    "        batch_size=32,\n",
    "        print_step=1,\n",
    "        early_stopping=True,\n",
    "        patient=5,\n",
    "        toc=0.0001,\n",
    "        random_state=None,\n",
    "        regularize=None,\n",
    "        shuffle=True\n",
    "    ):\n",
    "        \"\"\"NumpySGDRegressor initial method.\n",
    "        \n",
    "        Args:\n",
    "            loss: A str in {\"mse\"}, default = \"mse\"\n",
    "            alpha: the regularize rate. A float number and must be greater\n",
    "                than 0, default = 0.001.\n",
    "            fit_intercept: if fit intercept. A bool value, default = True. \n",
    "            save_param_list: if save param of the train process. A bool value,\n",
    "                default = True.\n",
    "            learning_rate: learning rate. A positive float number, default = 0.001.\n",
    "            epochs: epochs. A positive int number, default = 10.\n",
    "            batch_size: batch size. A positive int number, default = 32.\n",
    "            early_stopping: if early stopping when loss don't reduce again. \n",
    "                A bool value, default = True\n",
    "            patient: Number of epochs that do not reduce loss continuously, \n",
    "                patient only takes effect when early_stopping is True. \n",
    "                A positive int number, default = 5.\n",
    "            toc: The threshold that symbolizes loss no longer decreases, \n",
    "                toc only takes effect when early_stopping is True. \n",
    "                A float number, default = 0.001\n",
    "            random_state: random seed. A positive int number if random_state \n",
    "                is not None else None, default = None.\n",
    "            regularize: regularize. A str value in {\"l2\"} if regularize \n",
    "                is not None else None, default = None.\n",
    "            shuffle: if shuffle the train data. A bool value, default = True.\n",
    "            save_best_model: if save the best model params as the final model.\n",
    "                A bool value, defalut = True\n",
    "        \n",
    "        Raises:\n",
    "            AssertionError: Some parameters do not match.\n",
    "        \"\"\"\n",
    "        super().__init__(\n",
    "            loss=loss,\n",
    "            alpha=alpha,\n",
    "            fit_intercept=fit_intercept,\n",
    "            save_param_list=save_param_list,\n",
    "            learning_rate=learning_rate,\n",
    "            epochs=epochs,\n",
    "            batch_size=batch_size,\n",
    "            print_step=print_step,\n",
    "            early_stopping=early_stopping,\n",
    "            patient=patient,\n",
    "            toc=toc,\n",
    "            random_state=random_state,\n",
    "            regularize=regularize,\n",
    "            shuffle=shuffle\n",
    "        )\n",
    "\n",
    "    def _mse_gradient(self, y_true, y_pred, x):\n",
    "        difference_y = y_pred - y_true\n",
    "        intercept_gradient = None\n",
    "        if self.intercept_:\n",
    "            intercept_gradient = np.sum(difference_y) * 2 / self.batch_size\n",
    "        coef_gradient = (\n",
    "            np.sum(difference_y.reshape([-1, 1]) * x, axis=0) * 2 / self.batch_size\n",
    "        )\n",
    "        coef_gradient = self._regularize_gradient(coef_gradient)\n",
    "        return coef_gradient, intercept_gradient\n",
    "\n",
    "    def _mse(self, y, pred):\n",
    "        return np.sum(np.square(y - pred)) / y.shape[0]"
   ]
  },
  {
   "cell_type": "code",
   "execution_count": 18,
   "metadata": {},
   "outputs": [],
   "source": [
    "x, y = load_linear_data(1000, w=-9.753, b=10.927)"
   ]
  },
  {
   "cell_type": "code",
   "execution_count": 19,
   "metadata": {},
   "outputs": [],
   "source": [
    "rgs = NumpySGDRegressor(\n",
    "    learning_rate=0.0001,\n",
    "    fit_intercept=True,\n",
    "    early_stopping=False,\n",
    "    epochs=10000,\n",
    "    print_step=1000,\n",
    ")"
   ]
  },
  {
   "cell_type": "code",
   "execution_count": 20,
   "metadata": {},
   "outputs": [
    {
     "name": "stdout",
     "output_type": "stream",
     "text": [
      "Epoch 1000: valid_data loss: 15.050865787807764\n",
      "Epoch 2000: valid_data loss: 8.517291952159212\n",
      "Epoch 3000: valid_data loss: 4.881540187056461\n",
      "Epoch 4000: valid_data loss: 2.6245360296196414\n",
      "Epoch 5000: valid_data loss: 1.5896360683947095\n",
      "Epoch 6000: valid_data loss: 1.3056168296976929\n",
      "Epoch 7000: valid_data loss: 1.11776256577783\n",
      "Epoch 8000: valid_data loss: 0.9089626870802631\n",
      "Epoch 9000: valid_data loss: 0.9065325141271627\n",
      "Epoch 10000: valid_data loss: 0.9743970635866697\n",
      "Actual iter epoch: 10000, best epoch: 9710, best loss: 0.7603488972220416, best coef: [-9.75995812], best intercept: 10.869592657702968\n"
     ]
    },
    {
     "data": {
      "text/plain": [
       "<__main__.NumpySGDRegressor at 0x12333a278>"
      ]
     },
     "execution_count": 20,
     "metadata": {},
     "output_type": "execute_result"
    }
   ],
   "source": [
    "rgs.fit(x, y)"
   ]
  },
  {
   "cell_type": "markdown",
   "metadata": {},
   "source": [
    "### 3.3 绘制训练过程参数变化图"
   ]
  },
  {
   "cell_type": "code",
   "execution_count": 21,
   "metadata": {},
   "outputs": [],
   "source": [
    "def show_regressor_linear_sgd(X_data, y_data, coef_list, best_coef, intercept_list=None, best_intercept=None,\n",
    "                              pause_second=0.001, step=1, max_iter=50):\n",
    "    \"\"\"show the params' change of the train process.\n",
    "\n",
    "    Args:\n",
    "        X_data: A np.ndarray matrix of (point_count, 1) shape,\n",
    "            data type must be continuous value type.\n",
    "        y_data: A np.ndarray array of (point_count, ) shape.\n",
    "        coef_list: list with coef param( A np.ndarray array of (n_features, ) shape)\n",
    "            for every epochs.\n",
    "        best_coef: the best coef param. A np.ndarray array of (n_features, ) shape.\n",
    "        intercept_list: list with intercept param(A np.ndarray float number)\n",
    "            for every epochs. default = None.\n",
    "        best_intercept: the best intercept param. A np.ndarray float number.\n",
    "            default = None.\n",
    "        pause_second: pause second. A positive float number, default = 0.001.\n",
    "        step: epoch params update step.A positive int number.default = 1.\n",
    "        max_iter: max epoch iter. A positive int number. default = 50.\n",
    "    \"\"\"\n",
    "    from IPython import display\n",
    "\n",
    "    y_bottom = np.min(y_data) - 1\n",
    "    y_top = np.max(y_data) + 1\n",
    "    x_bottom = np.min(X_data) - 1\n",
    "    x_top = np.max(X_data) + 1\n",
    "\n",
    "    if not intercept_list or intercept_list == [None] * len(intercept_list):\n",
    "        intercept_list = [0] * len(coef_list)\n",
    "    if not best_intercept:\n",
    "        best_intercept = 0\n",
    "\n",
    "    max_iter = max_iter * step\n",
    "    if max_iter > len(coef_list):\n",
    "        max_iter = len(coef_list)\n",
    "\n",
    "    first_coef = None\n",
    "    first_intercept = None\n",
    "    for idx in range(0, max_iter, step):\n",
    "        plt.figure(figsize=[20, 10])\n",
    "        plt.ylim(y_bottom, y_top)\n",
    "        plt.xlim(x_bottom, x_top)\n",
    "        plt.xlabel(\"x\")\n",
    "        plt.ylabel(\"y\")\n",
    "        plt.scatter(X_data, y_data, label=\"true\", s=12)\n",
    "\n",
    "        if idx == 0:\n",
    "            first_coef = coef_list[idx]\n",
    "            first_intercept = intercept_list[idx]\n",
    "        else:\n",
    "            first_pred_y = first_coef * X_data + first_intercept\n",
    "            plt.plot(\n",
    "                X_data,\n",
    "                first_pred_y,\n",
    "                linewidth=1,\n",
    "                linestyle=\"-\",\n",
    "                label=\"first_pred\",\n",
    "                color=\"yellowgreen\",\n",
    "            )\n",
    "\n",
    "        if idx == (len(coef_list) - 1) or idx + step >= max_iter:\n",
    "            best_pred_y = best_coef * X_data + best_intercept\n",
    "            plt.plot(X_data, best_pred_y, label=\"best_pred\", color=\"firebrick\")\n",
    "\n",
    "        pred_y = coef_list[idx] * X_data + intercept_list[idx]\n",
    "        plt.plot(X_data, pred_y, label=\"pred\", color=\"darkorange\")\n",
    "        plt.legend()\n",
    "        plt.show()\n",
    "        plt.pause(pause_second)\n",
    "        display.clear_output(wait=True)"
   ]
  },
  {
   "cell_type": "code",
   "execution_count": 22,
   "metadata": {},
   "outputs": [
    {
     "data": {
      "text/plain": [
       "(array([-9.75995812]), 10.869592657702968)"
      ]
     },
     "execution_count": 22,
     "metadata": {},
     "output_type": "execute_result"
    }
   ],
   "source": [
    "rgs.coef_, rgs.intercept_"
   ]
  },
  {
   "cell_type": "code",
   "execution_count": 23,
   "metadata": {},
   "outputs": [
    {
     "data": {
      "text/plain": [
       "(array([-9.75995812]), 10.869592657702968)"
      ]
     },
     "execution_count": 23,
     "metadata": {},
     "output_type": "execute_result"
    }
   ],
   "source": [
    "rgs.best_coef_, rgs.best_intercept_"
   ]
  },
  {
   "cell_type": "code",
   "execution_count": 24,
   "metadata": {},
   "outputs": [
    {
     "data": {
      "text/plain": [
       "9710"
      ]
     },
     "execution_count": 24,
     "metadata": {},
     "output_type": "execute_result"
    }
   ],
   "source": [
    "rgs.best_epoch"
   ]
  },
  {
   "cell_type": "code",
   "execution_count": 25,
   "metadata": {},
   "outputs": [
    {
     "data": {
      "text/plain": [
       "[array([0.09607744]), array([-0.25766583])]"
      ]
     },
     "execution_count": 25,
     "metadata": {},
     "output_type": "execute_result"
    }
   ],
   "source": [
    "rgs.coef_list[:2]"
   ]
  },
  {
   "cell_type": "code",
   "execution_count": 26,
   "metadata": {},
   "outputs": [
    {
     "data": {
      "image/png": "[encoded data removed]",
      "text/plain": [
       "<Figure size 1440x720 with 1 Axes>"
      ]
     },
     "metadata": {
      "needs_background": "light"
     },
     "output_type": "display_data"
    }
   ],
   "source": [
    "show_regressor_linear_sgd(\n",
    "    x,\n",
    "    y,\n",
    "    rgs.coef_list,\n",
    "    rgs.best_coef_,\n",
    "    rgs.intercept_list,\n",
    "    rgs.best_intercept_,\n",
    "    pause_second=0.001,\n",
    "    step=10,\n",
    "    max_iter=20\n",
    ")"
   ]
  },
  {
   "cell_type": "markdown",
   "metadata": {},
   "source": [
    "#### 3.3.1 深拷贝和浅拷贝"
   ]
  },
  {
   "cell_type": "markdown",
   "metadata": {},
   "source": [
    "**可变类型和不可变类型**"
   ]
  },
  {
   "cell_type": "code",
   "execution_count": 27,
   "metadata": {},
   "outputs": [
    {
     "data": {
      "text/plain": [
       "[1, 'b', 'c']"
      ]
     },
     "execution_count": 27,
     "metadata": {},
     "output_type": "execute_result"
    }
   ],
   "source": [
    "ls = ['a', 'b', 'c']\n",
    "ls[0] = 1\n",
    "ls"
   ]
  },
  {
   "cell_type": "code",
   "execution_count": 28,
   "metadata": {},
   "outputs": [
    {
     "ename": "TypeError",
     "evalue": "'str' object does not support item assignment",
     "output_type": "error",
     "traceback": [
      "\u001b[0;31m---------------------------------------------------------------------------\u001b[0m",
      "\u001b[0;31mTypeError\u001b[0m                                 Traceback (most recent call last)",
      "\u001b[0;32m<ipython-input-28-a3a6fd9b9bfc>\u001b[0m in \u001b[0;36m<module>\u001b[0;34m\u001b[0m\n\u001b[1;32m      1\u001b[0m \u001b[0mstring\u001b[0m \u001b[0;34m=\u001b[0m \u001b[0;34m\"abc\"\u001b[0m\u001b[0;34m\u001b[0m\u001b[0;34m\u001b[0m\u001b[0m\n\u001b[0;32m----> 2\u001b[0;31m \u001b[0mstring\u001b[0m\u001b[0;34m[\u001b[0m\u001b[0;36m0\u001b[0m\u001b[0;34m]\u001b[0m \u001b[0;34m=\u001b[0m \u001b[0;36m1\u001b[0m\u001b[0;34m\u001b[0m\u001b[0;34m\u001b[0m\u001b[0m\n\u001b[0m",
      "\u001b[0;31mTypeError\u001b[0m: 'str' object does not support item assignment"
     ]
    }
   ],
   "source": [
    "string = \"abc\"\n",
    "string[0] = 1"
   ]
  },
  {
   "cell_type": "code",
   "execution_count": 29,
   "metadata": {},
   "outputs": [
    {
     "ename": "TypeError",
     "evalue": "'tuple' object does not support item assignment",
     "output_type": "error",
     "traceback": [
      "\u001b[0;31m---------------------------------------------------------------------------\u001b[0m",
      "\u001b[0;31mTypeError\u001b[0m                                 Traceback (most recent call last)",
      "\u001b[0;32m<ipython-input-29-8373947047e1>\u001b[0m in \u001b[0;36m<module>\u001b[0;34m\u001b[0m\n\u001b[1;32m      1\u001b[0m \u001b[0mtup\u001b[0m \u001b[0;34m=\u001b[0m \u001b[0;34m(\u001b[0m\u001b[0;36m1\u001b[0m\u001b[0;34m,\u001b[0m \u001b[0;36m2\u001b[0m\u001b[0;34m,\u001b[0m \u001b[0;36m3\u001b[0m\u001b[0;34m,\u001b[0m\u001b[0;34m)\u001b[0m\u001b[0;34m\u001b[0m\u001b[0;34m\u001b[0m\u001b[0m\n\u001b[0;32m----> 2\u001b[0;31m \u001b[0mtup\u001b[0m\u001b[0;34m[\u001b[0m\u001b[0;36m0\u001b[0m\u001b[0;34m]\u001b[0m \u001b[0;34m=\u001b[0m \u001b[0;36m1\u001b[0m\u001b[0;34m\u001b[0m\u001b[0;34m\u001b[0m\u001b[0m\n\u001b[0m",
      "\u001b[0;31mTypeError\u001b[0m: 'tuple' object does not support item assignment"
     ]
    }
   ],
   "source": [
    "tup = (1, 2, 3,)\n",
    "tup[0] = 1"
   ]
  },
  {
   "cell_type": "markdown",
   "metadata": {},
   "source": [
    "可变类型：list, dict, set  \n",
    "不可变类型：tuple, str, number"
   ]
  },
  {
   "cell_type": "code",
   "execution_count": 30,
   "metadata": {},
   "outputs": [
    {
     "name": "stdout",
     "output_type": "stream",
     "text": [
      "[[1]]\n",
      "[[2], [2]]\n",
      "[[3], [3], [3]]\n",
      "[[4], [4], [4], [4]]\n",
      "[[5], [5], [5], [5], [5]]\n",
      "[[6], [6], [6], [6], [6], [6]]\n",
      "[[7], [7], [7], [7], [7], [7], [7]]\n",
      "[[8], [8], [8], [8], [8], [8], [8], [8]]\n",
      "[[9], [9], [9], [9], [9], [9], [9], [9], [9]]\n",
      "[[10], [10], [10], [10], [10], [10], [10], [10], [10], [10]]\n"
     ]
    }
   ],
   "source": [
    "a = [0]\n",
    "b = []\n",
    "for i in range(10):\n",
    "    a[0] += 1\n",
    "    b.append(a)\n",
    "    print(b)"
   ]
  },
  {
   "cell_type": "code",
   "execution_count": 31,
   "metadata": {},
   "outputs": [
    {
     "name": "stdout",
     "output_type": "stream",
     "text": [
      "[[1]]\n",
      "[[1], [2]]\n",
      "[[1], [2], [3]]\n",
      "[[1], [2], [3], [4]]\n",
      "[[1], [2], [3], [4], [5]]\n",
      "[[1], [2], [3], [4], [5], [6]]\n",
      "[[1], [2], [3], [4], [5], [6], [7]]\n",
      "[[1], [2], [3], [4], [5], [6], [7], [8]]\n",
      "[[1], [2], [3], [4], [5], [6], [7], [8], [9]]\n",
      "[[1], [2], [3], [4], [5], [6], [7], [8], [9], [10]]\n"
     ]
    }
   ],
   "source": [
    "import copy\n",
    "\n",
    "a = [0]\n",
    "b = []\n",
    "for i in range(10):\n",
    "    a[0] += 1\n",
    "    b.append(copy.deepcopy(a))\n",
    "    print(b)"
   ]
  },
  {
   "cell_type": "code",
   "execution_count": 32,
   "metadata": {},
   "outputs": [
    {
     "name": "stdout",
     "output_type": "stream",
     "text": [
      "[[1]]\n",
      "[[1], [2]]\n",
      "[[1], [2], [3]]\n",
      "[[1], [2], [3], [4]]\n",
      "[[1], [2], [3], [4], [5]]\n",
      "[[1], [2], [3], [4], [5], [6]]\n",
      "[[1], [2], [3], [4], [5], [6], [7]]\n",
      "[[1], [2], [3], [4], [5], [6], [7], [8]]\n",
      "[[1], [2], [3], [4], [5], [6], [7], [8], [9]]\n",
      "[[1], [2], [3], [4], [5], [6], [7], [8], [9], [10]]\n"
     ]
    }
   ],
   "source": [
    "import copy\n",
    "\n",
    "a = [0]\n",
    "b = []\n",
    "for i in range(10):\n",
    "    a[0] += 1\n",
    "    b.append(a[:])\n",
    "    print(b)"
   ]
  },
  {
   "cell_type": "markdown",
   "metadata": {},
   "source": [
    "#### 3.3.2 波士顿房价"
   ]
  },
  {
   "cell_type": "code",
   "execution_count": 33,
   "metadata": {},
   "outputs": [],
   "source": [
    "X_data, y_data = load_boston(return_X_y=True)\n",
    "X_train, X_test, y_train, y_test = train_test_split(X_data, y_data, random_state=12)"
   ]
  },
  {
   "cell_type": "code",
   "execution_count": 34,
   "metadata": {},
   "outputs": [
    {
     "name": "stdout",
     "output_type": "stream",
     "text": [
      "Epoch 1000: valid_data loss: 36.98657526514078\n",
      "Actual iter epoch: 1614, best epoch: 1586, best loss: 17.056591788295442, best coef: [ -1.52813598   1.52584018   1.79505171   2.49387562  -3.80666039\n",
      "  17.22614771   5.43289587   0.33234538   0.87898424  -2.0866713\n",
      "  -4.64548923   4.14296111 -15.36128939], best intercept: 14.3372027976651\n"
     ]
    },
    {
     "data": {
      "text/plain": [
       "<__main__.NumpySGDRegressor at 0x12623ab70>"
      ]
     },
     "execution_count": 34,
     "metadata": {},
     "output_type": "execute_result"
    }
   ],
   "source": [
    "from sklearn.preprocessing import MinMaxScaler\n",
    "\n",
    "scaler = MinMaxScaler()\n",
    "X_train = scaler.fit_transform(X_train)\n",
    "X_test = scaler.transform(X_test)\n",
    "\n",
    "rgs = NumpySGDRegressor(\n",
    "    epochs=10000,\n",
    "    print_step=1000,\n",
    "    early_stopping=True,\n",
    "    toc=0.001,\n",
    "    patient=6,\n",
    "    learning_rate=0.008,\n",
    "    random_state=11384,\n",
    "    regularize='l2',\n",
    "    alpha=0.001\n",
    ")\n",
    "rgs.fit(X_train, y_train)"
   ]
  },
  {
   "cell_type": "markdown",
   "metadata": {},
   "source": [
    "#### 3.3.3 绘制训练过程损失变化图"
   ]
  },
  {
   "cell_type": "code",
   "execution_count": 35,
   "metadata": {},
   "outputs": [],
   "source": [
    "def show_regressor_loss(train_loss, valid_loss, x_magnification=1, y_magnification=1):\n",
    "    \"\"\"show regressor loss of the train process.\n",
    "\n",
    "    Args:\n",
    "        train_loss: list of train loss. train loss's type is np.ndarray float number.\n",
    "        valid_loss: list of valid loss. valid loss's type is np.ndarray float number.\n",
    "        x_magnification: magnification for x axis, a positive number, default = 1.\n",
    "        y_magnification: magnification for y axis, a positive number, default = 1.\n",
    "    \"\"\"\n",
    "    plt.figure(figsize=[10 * x_magnification, 5 * y_magnification])\n",
    "    x = range(len(train_loss))\n",
    "    plt.xlabel(\"epochs\")\n",
    "    plt.ylabel(\"loss\")\n",
    "    plt.plot(x, train_loss, color=\"darkorange\", label=\"train_loss\")\n",
    "    plt.plot(x, valid_loss, label=\"valid_loss\")\n",
    "    plt.legend()\n",
    "    plt.show()"
   ]
  },
  {
   "cell_type": "code",
   "execution_count": 36,
   "metadata": {},
   "outputs": [
    {
     "data": {
      "image/png": "[encoded data removed]",
      "text/plain": [
       "<Figure size 720x360 with 1 Axes>"
      ]
     },
     "metadata": {
      "needs_background": "light"
     },
     "output_type": "display_data"
    }
   ],
   "source": [
    "show_regressor_loss(rgs.train_loss[:], rgs.valid_loss[:])"
   ]
  },
  {
   "cell_type": "code",
   "execution_count": 37,
   "metadata": {},
   "outputs": [
    {
     "data": {
      "text/plain": [
       "0.6209019823629415"
      ]
     },
     "execution_count": 37,
     "metadata": {},
     "output_type": "execute_result"
    }
   ],
   "source": [
    "rgs.score(X_test, y_test)"
   ]
  },
  {
   "cell_type": "code",
   "execution_count": 38,
   "metadata": {},
   "outputs": [
    {
     "data": {
      "text/plain": [
       "0.7487680397194808"
      ]
     },
     "execution_count": 38,
     "metadata": {},
     "output_type": "execute_result"
    }
   ],
   "source": [
    "rgs = NumpyLinearRegressor()\n",
    "rgs.fit(X_train, y_train)\n",
    "rgs.score(X_test, y_test)"
   ]
  },
  {
   "cell_type": "markdown",
   "metadata": {},
   "source": [
    "## 4. Numpy实现多项式回归"
   ]
  },
  {
   "cell_type": "code",
   "execution_count": 39,
   "metadata": {},
   "outputs": [
    {
     "data": {
      "text/plain": [
       "[1, 2, 3]"
      ]
     },
     "execution_count": 39,
     "metadata": {},
     "output_type": "execute_result"
    }
   ],
   "source": [
    "a = [1,1,2,3]\n",
    "a.pop(0)\n",
    "a"
   ]
  },
  {
   "cell_type": "code",
   "execution_count": 40,
   "metadata": {},
   "outputs": [
    {
     "data": {
      "text/plain": [
       "['1',\n",
       " 'x0',\n",
       " 'x1',\n",
       " 'x2',\n",
       " 'x3',\n",
       " 'x4',\n",
       " 'x5',\n",
       " 'x6',\n",
       " 'x7',\n",
       " 'x8',\n",
       " 'x9',\n",
       " 'x10',\n",
       " 'x11',\n",
       " 'x12',\n",
       " 'x0^2',\n",
       " 'x0 x1',\n",
       " 'x0 x2',\n",
       " 'x0 x3',\n",
       " 'x0 x4',\n",
       " 'x0 x5',\n",
       " 'x0 x6',\n",
       " 'x0 x7',\n",
       " 'x0 x8',\n",
       " 'x0 x9',\n",
       " 'x0 x10',\n",
       " 'x0 x11',\n",
       " 'x0 x12',\n",
       " 'x1^2',\n",
       " 'x1 x2',\n",
       " 'x1 x3',\n",
       " 'x1 x4',\n",
       " 'x1 x5',\n",
       " 'x1 x6',\n",
       " 'x1 x7',\n",
       " 'x1 x8',\n",
       " 'x1 x9',\n",
       " 'x1 x10',\n",
       " 'x1 x11',\n",
       " 'x1 x12',\n",
       " 'x2^2',\n",
       " 'x2 x3',\n",
       " 'x2 x4',\n",
       " 'x2 x5',\n",
       " 'x2 x6',\n",
       " 'x2 x7',\n",
       " 'x2 x8',\n",
       " 'x2 x9',\n",
       " 'x2 x10',\n",
       " 'x2 x11',\n",
       " 'x2 x12',\n",
       " 'x3^2',\n",
       " 'x3 x4',\n",
       " 'x3 x5',\n",
       " 'x3 x6',\n",
       " 'x3 x7',\n",
       " 'x3 x8',\n",
       " 'x3 x9',\n",
       " 'x3 x10',\n",
       " 'x3 x11',\n",
       " 'x3 x12',\n",
       " 'x4^2',\n",
       " 'x4 x5',\n",
       " 'x4 x6',\n",
       " 'x4 x7',\n",
       " 'x4 x8',\n",
       " 'x4 x9',\n",
       " 'x4 x10',\n",
       " 'x4 x11',\n",
       " 'x4 x12',\n",
       " 'x5^2',\n",
       " 'x5 x6',\n",
       " 'x5 x7',\n",
       " 'x5 x8',\n",
       " 'x5 x9',\n",
       " 'x5 x10',\n",
       " 'x5 x11',\n",
       " 'x5 x12',\n",
       " 'x6^2',\n",
       " 'x6 x7',\n",
       " 'x6 x8',\n",
       " 'x6 x9',\n",
       " 'x6 x10',\n",
       " 'x6 x11',\n",
       " 'x6 x12',\n",
       " 'x7^2',\n",
       " 'x7 x8',\n",
       " 'x7 x9',\n",
       " 'x7 x10',\n",
       " 'x7 x11',\n",
       " 'x7 x12',\n",
       " 'x8^2',\n",
       " 'x8 x9',\n",
       " 'x8 x10',\n",
       " 'x8 x11',\n",
       " 'x8 x12',\n",
       " 'x9^2',\n",
       " 'x9 x10',\n",
       " 'x9 x11',\n",
       " 'x9 x12',\n",
       " 'x10^2',\n",
       " 'x10 x11',\n",
       " 'x10 x12',\n",
       " 'x11^2',\n",
       " 'x11 x12',\n",
       " 'x12^2']"
      ]
     },
     "execution_count": 40,
     "metadata": {},
     "output_type": "execute_result"
    }
   ],
   "source": [
    "from sklearn.preprocessing import PolynomialFeatures\n",
    "\n",
    "poly = PolynomialFeatures(degree=2, interaction_only=False)\n",
    "poly.fit(X_train)\n",
    "poly.get_feature_names()"
   ]
  },
  {
   "cell_type": "markdown",
   "metadata": {},
   "source": [
    "### 4.1 NumpyPolynomialFeatures"
   ]
  },
  {
   "cell_type": "code",
   "execution_count": 41,
   "metadata": {},
   "outputs": [],
   "source": [
    "class NumpyPolynomialFeatures:\n",
    "    \"\"\"Polynomial Features transformor with Numpy.\n",
    "    \n",
    "    Attributes:\n",
    "        degree: degree of power. A positive int number and \n",
    "            must be greater than 1, default = 2.\n",
    "        interaction_only: if only transform to the interaction. \n",
    "            A bool value, default = False.\n",
    "        include_bias: if include bias(intercept). A bool value,\n",
    "            default = true.\n",
    "    \"\"\"\n",
    "    def __init__(self, degree=2, interaction_only=False, include_bias=True):\n",
    "        \"\"\"NumpyPolynomialFeatures initial method.\n",
    "        \n",
    "        Args:\n",
    "            degree: degree of power. A positive int number and \n",
    "                must be greater than 1, default = 2.\n",
    "            interaction_only: if only transform to the interaction. \n",
    "                A bool value, default = False.\n",
    "            include_bias: if include bias(intercept). A bool value,\n",
    "                default = true.\n",
    "        \"\"\"\n",
    "        self.degree, self.interaction_only, self.include_bias = self._init_validation(degree, interaction_only, include_bias)\n",
    "        self._feature_func_dict = {}\n",
    "        self._is_fitted = False\n",
    "    \n",
    "    def fit(self, X_train):\n",
    "        \"\"\"fit method.\n",
    "        \n",
    "        Args:\n",
    "            X_train: A np.ndarray matrix of (n_samples, n_features) shape, \n",
    "                data type must be continuous value type. \n",
    "        Returns:\n",
    "            return self object.\n",
    "        \"\"\"\n",
    "        X_train = self._X_validation(X_train)\n",
    "        if self._is_fitted:\n",
    "            self.__init__(self.degree, self.interaction_only, self.include_bias)\n",
    "        for i in range(X_train.shape[1]):\n",
    "            self._feature_func_dict[(i, )] = lambda X: X[:, i].reshape([-1, 1])\n",
    "        last_end = 0\n",
    "        for loop in range(self.degree - 1):\n",
    "            for j in range(last_end, len(self._feature_func_dict)):\n",
    "                for k in range(0, X_train.shape[1]):\n",
    "                    key_list = [*self._feature_func_dict]\n",
    "                    if not (key_list[k][0] in key_list[j] and self.interaction_only):\n",
    "                        new_key = self._sorted_insert_tuple(key_list[k][0], key_list[j])\n",
    "                        if new_key not in self._feature_func_dict:\n",
    "                            self._feature_func_dict[new_key] = lambda X: reduce(lambda x, y: (X_train[:, x] if isinstance(x, int) else x) * X_train[:, y], new_key).reshape([-1, 1]) \n",
    "                last_end += 1\n",
    "        if self.include_bias:\n",
    "            self._feature_func_dict[\"bias\"] = lambda X: np.ones([X.shape[0], 1])\n",
    "        self._is_fitted = True\n",
    "        return self\n",
    "        \n",
    "    def transform(self, X, _miss_valid=False):\n",
    "        \"\"\"transform the data.\n",
    "        \n",
    "        Args:\n",
    "            X: A np.ndarray matrix of (n_samples, n_features) shape, \n",
    "                data type must be continuous value type. \n",
    "        Returns:\n",
    "            return a new X, a np.ndarray matrix of (n_samples, \n",
    "                new_n_features) shape.\n",
    "        \"\"\"\n",
    "        if not _miss_valid:\n",
    "            X = self._X_validation(X)\n",
    "        new_X = np.array([[] for _ in range(X.shape[0])])\n",
    "        for key in self._feature_func_dict:\n",
    "            new_X = np.c_[new_X, self._feature_func_dict[key](X)]\n",
    "        return new_X         \n",
    "    \n",
    "    def fit_transform(self, X_train):\n",
    "        \"\"\"fit transformer and transform data.\n",
    "        \n",
    "        Args:\n",
    "            X_train: A np.ndarray matrix of (n_samples, n_features) shape, \n",
    "                data type must be continuous value type. \n",
    "        Returns:\n",
    "            return a new X, a np.ndarray matrix of (n_samples, \n",
    "                new_n_features) shape.\n",
    "        \"\"\"\n",
    "        self.fit(X_train)\n",
    "        return self.transform(X_train, _miss_valid=True)\n",
    "        \n",
    "    def get_feature_names(self):\n",
    "        \"\"\"get the new features' name\n",
    "        \n",
    "        Returns:\n",
    "            return a list with the tuples of old feature's num. \n",
    "                e.g: [(0,), (0, 0)], [(0,), (1,), (0, 0), (0, 1), (1, 1)].\n",
    "        \"\"\"\n",
    "        return [*self._feature_func_dict]\n",
    "    \n",
    "    def _init_validation(self, degree, interaction_only, include_bias):\n",
    "        assert isinstance(degree, int) and degree >= 1\n",
    "        assert isinstance(interaction_only, bool)\n",
    "        assert isinstance(include_bias, bool)\n",
    "        return degree, interaction_only, include_bias\n",
    "    \n",
    "    def _X_validation(self, X):\n",
    "        assert isinstance(X, Iterable)\n",
    "        if not isinstance(X, np.ndarray):\n",
    "            X = np.array(X)\n",
    "        assert X.ndim == 2\n",
    "        return X\n",
    "    \n",
    "    def _sorted_insert_tuple(self, item, tuple_):\n",
    "        idx = len(tuple_)\n",
    "        for i in range(len(tuple_)):\n",
    "            if tuple_[i] < item:\n",
    "                i += 1\n",
    "            else:\n",
    "                idx = i\n",
    "                break\n",
    "        tuple_ = tuple_[:idx] + (item,) + tuple_[idx:]\n",
    "        return tuple_"
   ]
  },
  {
   "cell_type": "markdown",
   "metadata": {},
   "source": [
    "#### 4.1.1 reduce"
   ]
  },
  {
   "cell_type": "code",
   "execution_count": 42,
   "metadata": {},
   "outputs": [
    {
     "data": {
      "text/plain": [
       "10"
      ]
     },
     "execution_count": 42,
     "metadata": {},
     "output_type": "execute_result"
    }
   ],
   "source": [
    "from functools import reduce\n",
    "\n",
    "sum_ = lambda lst: reduce(lambda x, y: x + y, lst)\n",
    "sum_([1,2,3,4])"
   ]
  },
  {
   "cell_type": "markdown",
   "metadata": {},
   "source": [
    "#### 4.2 从公式加载数据"
   ]
  },
  {
   "cell_type": "code",
   "execution_count": 43,
   "metadata": {},
   "outputs": [
    {
     "data": {
      "text/plain": [
       "((500, 1), (500,))"
      ]
     },
     "execution_count": 43,
     "metadata": {},
     "output_type": "execute_result"
    }
   ],
   "source": [
    "def load_data_from_func(func=lambda X_data: 2.1084 * np.square(X_data) - 0.1932 * X_data + 10.813,\n",
    "                        x_min=0, x_max=10, n_samples=500, loc=0, scale=1, random_state=None):\n",
    "    \"\"\"load point data from a function\n",
    "\n",
    "    Args:\n",
    "        func: Function for creating data.A Function object, default = lambda X_data:\n",
    "            2.1084 *  np.square(X_data) - 0.1932 * X_data + 10.813.\n",
    "        x_min: min value of x. A number, x_min must be less ther x_max, default = 0.\n",
    "        x_max: max value of x. A number, x_max must be greater ther x_min, default = 0.\n",
    "        n_samples: sample count. A int number, default = 500.\n",
    "        loc: loc of noise's destribution. A float number, default = 0.\n",
    "        scale: scale of noise's destribution. A float number, default = 1.\n",
    "        random_state: random seed. A positive int number, default = None.\n",
    "    \n",
    "    Returns:\n",
    "        A tuple of x and y. x's shape is (n_samples, 1), y's shape is (n_samples, ).\n",
    "    \"\"\"\n",
    "    if random_state is not None and isinstance(random_state, int):\n",
    "        np.random.seed(random_state)\n",
    "    x = np.random.uniform(x_min, x_max, n_samples)\n",
    "    y = func(x)\n",
    "    noise = np.random.normal(loc=loc, scale=scale, size=n_samples)\n",
    "    y += noise\n",
    "    return x.reshape([-1, 1]), y\n",
    "x, y = load_data_from_func(x_max=100, scale=1)\n",
    "x.shape, y.shape"
   ]
  },
  {
   "cell_type": "code",
   "execution_count": 44,
   "metadata": {},
   "outputs": [],
   "source": [
    "def show_linear_point(X_data, y_data, s=12):\n",
    "    \"\"\"Plot linear point\n",
    "\n",
    "    Args:\n",
    "         X_data: X_data with (sample_count, 1) shape.\n",
    "         y_data: y_data with (sample_count, 1) shape.\n",
    "    \"\"\"\n",
    "    plt.figure(figsize=[10, 5])\n",
    "    plt.xlabel(\"x\")\n",
    "    plt.ylabel(\"y\")\n",
    "    plt.scatter(X_data, y_data, s=s)\n",
    "    plt.show()"
   ]
  },
  {
   "cell_type": "code",
   "execution_count": 45,
   "metadata": {},
   "outputs": [
    {
     "data": {
      "image/png": "[encoded data removed]",
      "text/plain": [
       "<Figure size 720x360 with 1 Axes>"
      ]
     },
     "metadata": {
      "needs_background": "light"
     },
     "output_type": "display_data"
    }
   ],
   "source": [
    "show_linear_point(x, y)"
   ]
  },
  {
   "cell_type": "code",
   "execution_count": 46,
   "metadata": {},
   "outputs": [],
   "source": [
    "np_poly = NumpyPolynomialFeatures(include_bias=False)\n",
    "x_poly_numpy = np_poly.fit_transform(x)"
   ]
  },
  {
   "cell_type": "code",
   "execution_count": 47,
   "metadata": {},
   "outputs": [
    {
     "data": {
      "text/plain": [
       "[(0,), (0, 0)]"
      ]
     },
     "execution_count": 47,
     "metadata": {},
     "output_type": "execute_result"
    }
   ],
   "source": [
    "np_poly.get_feature_names()"
   ]
  },
  {
   "cell_type": "code",
   "execution_count": 48,
   "metadata": {},
   "outputs": [],
   "source": [
    "from sklearn.preprocessing import PolynomialFeatures\n",
    "\n",
    "poly = PolynomialFeatures(include_bias=False)\n",
    "x_poly = poly.fit_transform(x)"
   ]
  },
  {
   "cell_type": "code",
   "execution_count": 49,
   "metadata": {},
   "outputs": [
    {
     "data": {
      "text/plain": [
       "['x0', 'x0^2']"
      ]
     },
     "execution_count": 49,
     "metadata": {},
     "output_type": "execute_result"
    }
   ],
   "source": [
    "poly.get_feature_names()"
   ]
  },
  {
   "cell_type": "code",
   "execution_count": 50,
   "metadata": {},
   "outputs": [
    {
     "data": {
      "text/plain": [
       "array([[4.49601864e+01, 2.02141837e+03],\n",
       "       [6.22596794e+01, 3.87626768e+03],\n",
       "       [3.04498278e+01, 9.27192015e+02],\n",
       "       [3.54289356e+01, 1.25520948e+03],\n",
       "       [6.56513314e+01, 4.31009732e+03],\n",
       "       [1.41186557e+01, 1.99336439e+02],\n",
       "       [5.03662236e+01, 2.53675648e+03],\n",
       "       [3.43300964e+01, 1.17855552e+03],\n",
       "       [7.52583689e+01, 5.66382210e+03],\n",
       "       [1.69168757e+01, 2.86180683e+02],\n",
       "       [9.28814316e+00, 8.62696033e+01],\n",
       "       [9.49787993e+01, 9.02097232e+03],\n",
       "       [9.31843900e+01, 8.68333054e+03],\n",
       "       [7.58852847e+01, 5.75857643e+03],\n",
       "       [2.59316245e+01, 6.72449151e+02],\n",
       "       [3.77060456e+01, 1.42174587e+03],\n",
       "       [6.28644172e+00, 3.95193496e+01],\n",
       "       [6.04959832e+00, 3.65976399e+01],\n",
       "       [1.22024755e+00, 1.48900409e+00],\n",
       "       [4.40397703e+01, 1.93950137e+03]])"
      ]
     },
     "execution_count": 50,
     "metadata": {},
     "output_type": "execute_result"
    }
   ],
   "source": [
    "x_poly_numpy[:20]"
   ]
  },
  {
   "cell_type": "code",
   "execution_count": 51,
   "metadata": {},
   "outputs": [
    {
     "data": {
      "text/plain": [
       "array([[4.49601864e+01, 2.02141837e+03],\n",
       "       [6.22596794e+01, 3.87626768e+03],\n",
       "       [3.04498278e+01, 9.27192015e+02],\n",
       "       [3.54289356e+01, 1.25520948e+03],\n",
       "       [6.56513314e+01, 4.31009732e+03],\n",
       "       [1.41186557e+01, 1.99336439e+02],\n",
       "       [5.03662236e+01, 2.53675648e+03],\n",
       "       [3.43300964e+01, 1.17855552e+03],\n",
       "       [7.52583689e+01, 5.66382210e+03],\n",
       "       [1.69168757e+01, 2.86180683e+02],\n",
       "       [9.28814316e+00, 8.62696033e+01],\n",
       "       [9.49787993e+01, 9.02097232e+03],\n",
       "       [9.31843900e+01, 8.68333054e+03],\n",
       "       [7.58852847e+01, 5.75857643e+03],\n",
       "       [2.59316245e+01, 6.72449151e+02],\n",
       "       [3.77060456e+01, 1.42174587e+03],\n",
       "       [6.28644172e+00, 3.95193496e+01],\n",
       "       [6.04959832e+00, 3.65976399e+01],\n",
       "       [1.22024755e+00, 1.48900409e+00],\n",
       "       [4.40397703e+01, 1.93950137e+03]])"
      ]
     },
     "execution_count": 51,
     "metadata": {},
     "output_type": "execute_result"
    }
   ],
   "source": [
    "x_poly[:20]"
   ]
  },
  {
   "cell_type": "code",
   "execution_count": 52,
   "metadata": {},
   "outputs": [
    {
     "data": {
      "text/plain": [
       "array([[ True,  True],\n",
       "       [ True,  True],\n",
       "       [ True,  True],\n",
       "       [ True,  True],\n",
       "       [ True,  True],\n",
       "       [ True,  True],\n",
       "       [ True,  True],\n",
       "       [ True,  True],\n",
       "       [ True,  True],\n",
       "       [ True,  True],\n",
       "       [ True,  True],\n",
       "       [ True,  True],\n",
       "       [ True,  True],\n",
       "       [ True,  True],\n",
       "       [ True,  True],\n",
       "       [ True,  True],\n",
       "       [ True,  True],\n",
       "       [ True,  True],\n",
       "       [ True,  True],\n",
       "       [ True,  True],\n",
       "       [ True,  True],\n",
       "       [ True,  True],\n",
       "       [ True,  True],\n",
       "       [ True,  True],\n",
       "       [ True,  True],\n",
       "       [ True,  True],\n",
       "       [ True,  True],\n",
       "       [ True,  True],\n",
       "       [ True,  True],\n",
       "       [ True,  True],\n",
       "       [ True,  True],\n",
       "       [ True,  True],\n",
       "       [ True,  True],\n",
       "       [ True,  True],\n",
       "       [ True,  True],\n",
       "       [ True,  True],\n",
       "       [ True,  True],\n",
       "       [ True,  True],\n",
       "       [ True,  True],\n",
       "       [ True,  True],\n",
       "       [ True,  True],\n",
       "       [ True,  True],\n",
       "       [ True,  True],\n",
       "       [ True,  True],\n",
       "       [ True,  True],\n",
       "       [ True,  True],\n",
       "       [ True,  True],\n",
       "       [ True,  True],\n",
       "       [ True,  True],\n",
       "       [ True,  True],\n",
       "       [ True,  True],\n",
       "       [ True,  True],\n",
       "       [ True,  True],\n",
       "       [ True,  True],\n",
       "       [ True,  True],\n",
       "       [ True,  True],\n",
       "       [ True,  True],\n",
       "       [ True,  True],\n",
       "       [ True,  True],\n",
       "       [ True,  True],\n",
       "       [ True,  True],\n",
       "       [ True,  True],\n",
       "       [ True,  True],\n",
       "       [ True,  True],\n",
       "       [ True,  True],\n",
       "       [ True,  True],\n",
       "       [ True,  True],\n",
       "       [ True,  True],\n",
       "       [ True,  True],\n",
       "       [ True,  True],\n",
       "       [ True,  True],\n",
       "       [ True,  True],\n",
       "       [ True,  True],\n",
       "       [ True,  True],\n",
       "       [ True,  True],\n",
       "       [ True,  True],\n",
       "       [ True,  True],\n",
       "       [ True,  True],\n",
       "       [ True,  True],\n",
       "       [ True,  True],\n",
       "       [ True,  True],\n",
       "       [ True,  True],\n",
       "       [ True,  True],\n",
       "       [ True,  True],\n",
       "       [ True,  True],\n",
       "       [ True,  True],\n",
       "       [ True,  True],\n",
       "       [ True,  True],\n",
       "       [ True,  True],\n",
       "       [ True,  True],\n",
       "       [ True,  True],\n",
       "       [ True,  True],\n",
       "       [ True,  True],\n",
       "       [ True,  True],\n",
       "       [ True,  True],\n",
       "       [ True,  True],\n",
       "       [ True,  True],\n",
       "       [ True,  True],\n",
       "       [ True,  True],\n",
       "       [ True,  True],\n",
       "       [ True,  True],\n",
       "       [ True,  True],\n",
       "       [ True,  True],\n",
       "       [ True,  True],\n",
       "       [ True,  True],\n",
       "       [ True,  True],\n",
       "       [ True,  True],\n",
       "       [ True,  True],\n",
       "       [ True,  True],\n",
       "       [ True,  True],\n",
       "       [ True,  True],\n",
       "       [ True,  True],\n",
       "       [ True,  True],\n",
       "       [ True,  True],\n",
       "       [ True,  True],\n",
       "       [ True,  True],\n",
       "       [ True,  True],\n",
       "       [ True,  True],\n",
       "       [ True,  True],\n",
       "       [ True,  True],\n",
       "       [ True,  True],\n",
       "       [ True,  True],\n",
       "       [ True,  True],\n",
       "       [ True,  True],\n",
       "       [ True,  True],\n",
       "       [ True,  True],\n",
       "       [ True,  True],\n",
       "       [ True,  True],\n",
       "       [ True,  True],\n",
       "       [ True,  True],\n",
       "       [ True,  True],\n",
       "       [ True,  True],\n",
       "       [ True,  True],\n",
       "       [ True,  True],\n",
       "       [ True,  True],\n",
       "       [ True,  True],\n",
       "       [ True,  True],\n",
       "       [ True,  True],\n",
       "       [ True,  True],\n",
       "       [ True,  True],\n",
       "       [ True,  True],\n",
       "       [ True,  True],\n",
       "       [ True,  True],\n",
       "       [ True,  True],\n",
       "       [ True,  True],\n",
       "       [ True,  True],\n",
       "       [ True,  True],\n",
       "       [ True,  True],\n",
       "       [ True,  True],\n",
       "       [ True,  True],\n",
       "       [ True,  True],\n",
       "       [ True,  True],\n",
       "       [ True,  True],\n",
       "       [ True,  True],\n",
       "       [ True,  True],\n",
       "       [ True,  True],\n",
       "       [ True,  True],\n",
       "       [ True,  True],\n",
       "       [ True,  True],\n",
       "       [ True,  True],\n",
       "       [ True,  True],\n",
       "       [ True,  True],\n",
       "       [ True,  True],\n",
       "       [ True,  True],\n",
       "       [ True,  True],\n",
       "       [ True,  True],\n",
       "       [ True,  True],\n",
       "       [ True,  True],\n",
       "       [ True,  True],\n",
       "       [ True,  True],\n",
       "       [ True,  True],\n",
       "       [ True,  True],\n",
       "       [ True,  True],\n",
       "       [ True,  True],\n",
       "       [ True,  True],\n",
       "       [ True,  True],\n",
       "       [ True,  True],\n",
       "       [ True,  True],\n",
       "       [ True,  True],\n",
       "       [ True,  True],\n",
       "       [ True,  True],\n",
       "       [ True,  True],\n",
       "       [ True,  True],\n",
       "       [ True,  True],\n",
       "       [ True,  True],\n",
       "       [ True,  True],\n",
       "       [ True,  True],\n",
       "       [ True,  True],\n",
       "       [ True,  True],\n",
       "       [ True,  True],\n",
       "       [ True,  True],\n",
       "       [ True,  True],\n",
       "       [ True,  True],\n",
       "       [ True,  True],\n",
       "       [ True,  True],\n",
       "       [ True,  True],\n",
       "       [ True,  True],\n",
       "       [ True,  True],\n",
       "       [ True,  True],\n",
       "       [ True,  True],\n",
       "       [ True,  True],\n",
       "       [ True,  True],\n",
       "       [ True,  True],\n",
       "       [ True,  True],\n",
       "       [ True,  True],\n",
       "       [ True,  True],\n",
       "       [ True,  True],\n",
       "       [ True,  True],\n",
       "       [ True,  True],\n",
       "       [ True,  True],\n",
       "       [ True,  True],\n",
       "       [ True,  True],\n",
       "       [ True,  True],\n",
       "       [ True,  True],\n",
       "       [ True,  True],\n",
       "       [ True,  True],\n",
       "       [ True,  True],\n",
       "       [ True,  True],\n",
       "       [ True,  True],\n",
       "       [ True,  True],\n",
       "       [ True,  True],\n",
       "       [ True,  True],\n",
       "       [ True,  True],\n",
       "       [ True,  True],\n",
       "       [ True,  True],\n",
       "       [ True,  True],\n",
       "       [ True,  True],\n",
       "       [ True,  True],\n",
       "       [ True,  True],\n",
       "       [ True,  True],\n",
       "       [ True,  True],\n",
       "       [ True,  True],\n",
       "       [ True,  True],\n",
       "       [ True,  True],\n",
       "       [ True,  True],\n",
       "       [ True,  True],\n",
       "       [ True,  True],\n",
       "       [ True,  True],\n",
       "       [ True,  True],\n",
       "       [ True,  True],\n",
       "       [ True,  True],\n",
       "       [ True,  True],\n",
       "       [ True,  True],\n",
       "       [ True,  True],\n",
       "       [ True,  True],\n",
       "       [ True,  True],\n",
       "       [ True,  True],\n",
       "       [ True,  True],\n",
       "       [ True,  True],\n",
       "       [ True,  True],\n",
       "       [ True,  True],\n",
       "       [ True,  True],\n",
       "       [ True,  True],\n",
       "       [ True,  True],\n",
       "       [ True,  True],\n",
       "       [ True,  True],\n",
       "       [ True,  True],\n",
       "       [ True,  True],\n",
       "       [ True,  True],\n",
       "       [ True,  True],\n",
       "       [ True,  True],\n",
       "       [ True,  True],\n",
       "       [ True,  True],\n",
       "       [ True,  True],\n",
       "       [ True,  True],\n",
       "       [ True,  True],\n",
       "       [ True,  True],\n",
       "       [ True,  True],\n",
       "       [ True,  True],\n",
       "       [ True,  True],\n",
       "       [ True,  True],\n",
       "       [ True,  True],\n",
       "       [ True,  True],\n",
       "       [ True,  True],\n",
       "       [ True,  True],\n",
       "       [ True,  True],\n",
       "       [ True,  True],\n",
       "       [ True,  True],\n",
       "       [ True,  True],\n",
       "       [ True,  True],\n",
       "       [ True,  True],\n",
       "       [ True,  True],\n",
       "       [ True,  True],\n",
       "       [ True,  True],\n",
       "       [ True,  True],\n",
       "       [ True,  True],\n",
       "       [ True,  True],\n",
       "       [ True,  True],\n",
       "       [ True,  True],\n",
       "       [ True,  True],\n",
       "       [ True,  True],\n",
       "       [ True,  True],\n",
       "       [ True,  True],\n",
       "       [ True,  True],\n",
       "       [ True,  True],\n",
       "       [ True,  True],\n",
       "       [ True,  True],\n",
       "       [ True,  True],\n",
       "       [ True,  True],\n",
       "       [ True,  True],\n",
       "       [ True,  True],\n",
       "       [ True,  True],\n",
       "       [ True,  True],\n",
       "       [ True,  True],\n",
       "       [ True,  True],\n",
       "       [ True,  True],\n",
       "       [ True,  True],\n",
       "       [ True,  True],\n",
       "       [ True,  True],\n",
       "       [ True,  True],\n",
       "       [ True,  True],\n",
       "       [ True,  True],\n",
       "       [ True,  True],\n",
       "       [ True,  True],\n",
       "       [ True,  True],\n",
       "       [ True,  True],\n",
       "       [ True,  True],\n",
       "       [ True,  True],\n",
       "       [ True,  True],\n",
       "       [ True,  True],\n",
       "       [ True,  True],\n",
       "       [ True,  True],\n",
       "       [ True,  True],\n",
       "       [ True,  True],\n",
       "       [ True,  True],\n",
       "       [ True,  True],\n",
       "       [ True,  True],\n",
       "       [ True,  True],\n",
       "       [ True,  True],\n",
       "       [ True,  True],\n",
       "       [ True,  True],\n",
       "       [ True,  True],\n",
       "       [ True,  True],\n",
       "       [ True,  True],\n",
       "       [ True,  True],\n",
       "       [ True,  True],\n",
       "       [ True,  True],\n",
       "       [ True,  True],\n",
       "       [ True,  True],\n",
       "       [ True,  True],\n",
       "       [ True,  True],\n",
       "       [ True,  True],\n",
       "       [ True,  True],\n",
       "       [ True,  True],\n",
       "       [ True,  True],\n",
       "       [ True,  True],\n",
       "       [ True,  True],\n",
       "       [ True,  True],\n",
       "       [ True,  True],\n",
       "       [ True,  True],\n",
       "       [ True,  True],\n",
       "       [ True,  True],\n",
       "       [ True,  True],\n",
       "       [ True,  True],\n",
       "       [ True,  True],\n",
       "       [ True,  True],\n",
       "       [ True,  True],\n",
       "       [ True,  True],\n",
       "       [ True,  True],\n",
       "       [ True,  True],\n",
       "       [ True,  True],\n",
       "       [ True,  True],\n",
       "       [ True,  True],\n",
       "       [ True,  True],\n",
       "       [ True,  True],\n",
       "       [ True,  True],\n",
       "       [ True,  True],\n",
       "       [ True,  True],\n",
       "       [ True,  True],\n",
       "       [ True,  True],\n",
       "       [ True,  True],\n",
       "       [ True,  True],\n",
       "       [ True,  True],\n",
       "       [ True,  True],\n",
       "       [ True,  True],\n",
       "       [ True,  True],\n",
       "       [ True,  True],\n",
       "       [ True,  True],\n",
       "       [ True,  True],\n",
       "       [ True,  True],\n",
       "       [ True,  True],\n",
       "       [ True,  True],\n",
       "       [ True,  True],\n",
       "       [ True,  True],\n",
       "       [ True,  True],\n",
       "       [ True,  True],\n",
       "       [ True,  True],\n",
       "       [ True,  True],\n",
       "       [ True,  True],\n",
       "       [ True,  True],\n",
       "       [ True,  True],\n",
       "       [ True,  True],\n",
       "       [ True,  True],\n",
       "       [ True,  True],\n",
       "       [ True,  True],\n",
       "       [ True,  True],\n",
       "       [ True,  True],\n",
       "       [ True,  True],\n",
       "       [ True,  True],\n",
       "       [ True,  True],\n",
       "       [ True,  True],\n",
       "       [ True,  True],\n",
       "       [ True,  True],\n",
       "       [ True,  True],\n",
       "       [ True,  True],\n",
       "       [ True,  True],\n",
       "       [ True,  True],\n",
       "       [ True,  True],\n",
       "       [ True,  True],\n",
       "       [ True,  True],\n",
       "       [ True,  True],\n",
       "       [ True,  True],\n",
       "       [ True,  True],\n",
       "       [ True,  True],\n",
       "       [ True,  True],\n",
       "       [ True,  True],\n",
       "       [ True,  True],\n",
       "       [ True,  True],\n",
       "       [ True,  True],\n",
       "       [ True,  True],\n",
       "       [ True,  True],\n",
       "       [ True,  True],\n",
       "       [ True,  True],\n",
       "       [ True,  True],\n",
       "       [ True,  True],\n",
       "       [ True,  True],\n",
       "       [ True,  True],\n",
       "       [ True,  True],\n",
       "       [ True,  True],\n",
       "       [ True,  True],\n",
       "       [ True,  True],\n",
       "       [ True,  True],\n",
       "       [ True,  True],\n",
       "       [ True,  True],\n",
       "       [ True,  True],\n",
       "       [ True,  True],\n",
       "       [ True,  True],\n",
       "       [ True,  True],\n",
       "       [ True,  True],\n",
       "       [ True,  True],\n",
       "       [ True,  True],\n",
       "       [ True,  True],\n",
       "       [ True,  True],\n",
       "       [ True,  True],\n",
       "       [ True,  True],\n",
       "       [ True,  True],\n",
       "       [ True,  True],\n",
       "       [ True,  True],\n",
       "       [ True,  True],\n",
       "       [ True,  True],\n",
       "       [ True,  True],\n",
       "       [ True,  True],\n",
       "       [ True,  True],\n",
       "       [ True,  True],\n",
       "       [ True,  True],\n",
       "       [ True,  True],\n",
       "       [ True,  True],\n",
       "       [ True,  True],\n",
       "       [ True,  True],\n",
       "       [ True,  True],\n",
       "       [ True,  True],\n",
       "       [ True,  True],\n",
       "       [ True,  True],\n",
       "       [ True,  True],\n",
       "       [ True,  True],\n",
       "       [ True,  True],\n",
       "       [ True,  True],\n",
       "       [ True,  True],\n",
       "       [ True,  True],\n",
       "       [ True,  True],\n",
       "       [ True,  True],\n",
       "       [ True,  True],\n",
       "       [ True,  True],\n",
       "       [ True,  True],\n",
       "       [ True,  True],\n",
       "       [ True,  True],\n",
       "       [ True,  True],\n",
       "       [ True,  True],\n",
       "       [ True,  True],\n",
       "       [ True,  True],\n",
       "       [ True,  True],\n",
       "       [ True,  True],\n",
       "       [ True,  True],\n",
       "       [ True,  True],\n",
       "       [ True,  True],\n",
       "       [ True,  True],\n",
       "       [ True,  True],\n",
       "       [ True,  True],\n",
       "       [ True,  True],\n",
       "       [ True,  True],\n",
       "       [ True,  True],\n",
       "       [ True,  True],\n",
       "       [ True,  True],\n",
       "       [ True,  True],\n",
       "       [ True,  True],\n",
       "       [ True,  True],\n",
       "       [ True,  True],\n",
       "       [ True,  True],\n",
       "       [ True,  True],\n",
       "       [ True,  True]])"
      ]
     },
     "execution_count": 52,
     "metadata": {},
     "output_type": "execute_result"
    }
   ],
   "source": [
    "x_poly == x_poly_numpy"
   ]
  },
  {
   "cell_type": "code",
   "execution_count": 53,
   "metadata": {},
   "outputs": [
    {
     "data": {
      "text/plain": [
       "(array([-0.18914699,  2.10838344]), 10.778435171768251)"
      ]
     },
     "execution_count": 53,
     "metadata": {},
     "output_type": "execute_result"
    }
   ],
   "source": [
    "from sklearn.linear_model import LinearRegression, Ridge\n",
    "rgs = LinearRegression().fit(x_poly_numpy, y)\n",
    "rgs.coef_, rgs.intercept_"
   ]
  },
  {
   "cell_type": "code",
   "execution_count": 54,
   "metadata": {},
   "outputs": [
    {
     "data": {
      "text/plain": [
       "(array([-0.18914699,  2.10838344]), 10.778435171720943)"
      ]
     },
     "execution_count": 54,
     "metadata": {},
     "output_type": "execute_result"
    }
   ],
   "source": [
    "rgs = NumpyLinearRegressor().fit(x_poly_numpy, y)\n",
    "rgs.coef_, rgs.intercept_"
   ]
  },
  {
   "cell_type": "code",
   "execution_count": 55,
   "metadata": {},
   "outputs": [
    {
     "data": {
      "text/plain": [
       "(array([-0.18914699,  2.10838344]), 10.778435171720943)"
      ]
     },
     "execution_count": 55,
     "metadata": {},
     "output_type": "execute_result"
    }
   ],
   "source": [
    "rgs = NumpyLinearRegressor().fit(x_poly, y)\n",
    "rgs.coef_, rgs.intercept_"
   ]
  },
  {
   "cell_type": "markdown",
   "metadata": {},
   "source": [
    "## 5. Numpy实现LWLR"
   ]
  },
  {
   "cell_type": "markdown",
   "metadata": {},
   "source": [
    "$\\begin{align}\n",
    "w(i, i)=\\exp \\left(\\frac{||x^{(i)}-x||_{2} ^ 2}{-2 k^{2}}\\right)\n",
    "\\end{align}$\n",
    "\n",
    "$\n",
    "\\begin{align}\n",
    "J(a, b)= \\sum_{i=1}^{N} w_{i}\\left(y_{i}-a x_{i}-b\\right)^{2}\n",
    "\\end{align}\n",
    "$  \n",
    "\n",
    "$\\begin{align}\n",
    "\\hat{a}^*=\\left( X ^{ T } W X \\right)^{-1} X ^{ T } W y\n",
    "\\end{align}$"
   ]
  },
  {
   "cell_type": "markdown",
   "metadata": {},
   "source": [
    "### 5.1 LWLR"
   ]
  },
  {
   "cell_type": "code",
   "execution_count": 56,
   "metadata": {},
   "outputs": [],
   "source": [
    "class NumpyLWLR(NumpyBaseLinearRegressor):\n",
    "    \"\"\"Locally Weighted Linear Regression model with Numpy, explicitly inherits \n",
    "        from NumpyBaseLinearRegressor already.\n",
    "    \n",
    "    Attributes:\n",
    "        _X_train: feature data for training. A np.ndarray matrix of (n_samples, n_features)\n",
    "            shape, data type must be continuous value type. \n",
    "        _y_train: label data for training. A np.ndarray array of (n_samples, ) shape, \n",
    "            data type must be continuous value.\n",
    "        k: the k of gaussian kernal. A float number not 0, default = 1.0\n",
    "    \"\"\"\n",
    "    def __init__(self, k=1.0, fit_intercept=True, random_state=None):\n",
    "        \"\"\"NumpyLWLR initial method\n",
    "        \n",
    "        Args:\n",
    "            k: the k of gaussian kernal. A float number, default = 1.0\n",
    "            fit_intercept: if fit intercept. A bool value, default = True.\n",
    "            random_state: random seed. A int number if random_state is \n",
    "                not None else None, default = None.\n",
    "        \"\"\"\n",
    "        super().__init__(fit_intercept=fit_intercept, random_state=random_state)\n",
    "        self.k = self._init_validation_self(k)\n",
    "    \n",
    "    def fit(self, X_train, y_train):\n",
    "        \"\"\"method for training model. \n",
    "        \n",
    "        Args:\n",
    "            X_train: A np.ndarray matrix of (n_samples, n_features) shape, data type \n",
    "                must be continuous value type. \n",
    "            y_train: A np.ndarray array of (n_samples, ) shape.\n",
    "            \n",
    "        Returns:\n",
    "            self object.\n",
    "        \"\"\"\n",
    "        self._X_train, self._y_train = self._fit_validation(X_train, y_train)\n",
    "        return self\n",
    "    \n",
    "    def predict(self, X_test, _miss_valid=False):\n",
    "        \"\"\"predict test data.\n",
    "        \n",
    "        Args:\n",
    "            X_test: A np.ndarray matrix of (n_samples, n_features) shape, \n",
    "                or a np.ndarray array of (n_features, ) shape.\n",
    "        \n",
    "        Returns:\n",
    "            result of predict. A np.ndarray array of (n_samples, ) shape,\n",
    "                or a float number.\n",
    "        \"\"\"\n",
    "        if not _miss_valid:\n",
    "            X_test = self._predict_validation(X_test)\n",
    "        if self.intercept_ is not None:\n",
    "            self._X_train = np.c_[self._X_train, np.ones(shape=(self._X_train.shape[0], 1), dtype=np.float32)]\n",
    "            X_test = np.c_[X_test, np.ones((X_test.shape[0], 1))]\n",
    "        if X_test.ndim == 1:\n",
    "            result = self._predict_one(X_test)\n",
    "            if self.intercept_ is not None:\n",
    "                self._X_train = np.delete(self._X_train, -1, axis=1)\n",
    "            return result\n",
    "        else:\n",
    "            results = []\n",
    "            for x_test in X_test:\n",
    "                results.append(self._predict_one(x_test))\n",
    "            if self.intercept_ is not None:\n",
    "                self._X_train = np.delete(self._X_train, -1, axis=1)\n",
    "            return np.array(results)\n",
    "    \n",
    "    def _predict_one(self, x_test):\n",
    "        w = self._calculate_weight(x_test)\n",
    "        xtx = self._X_train.T @ (w @ self._X_train)\n",
    "        try:\n",
    "            xtx_inv = np.linalg.inv(xtx)\n",
    "        except np.linalg.LinAlgError as ex:\n",
    "            raise ex\n",
    "        self.coef_ = xtx_inv @ self._X_train.T @ w @ self._y_train\n",
    "        return x_test @ self.coef_\n",
    "    \n",
    "    def _init_validation_self(self, k):\n",
    "        assert isinstance(k, (int, float))\n",
    "        return k\n",
    "    \n",
    "    def _calculate_weight(self, x_test):\n",
    "        w = np.eye(self._X_train.shape[0])\n",
    "        for i in range(self._X_train.shape[0]):\n",
    "            diff = self._X_train[i] - x_test\n",
    "            w[i, i] = np.exp(diff @ diff.T / (-2 * self.k ** 2))\n",
    "        return w"
   ]
  },
  {
   "cell_type": "code",
   "execution_count": 57,
   "metadata": {},
   "outputs": [
    {
     "name": "stdout",
     "output_type": "stream",
     "text": [
      "15\n"
     ]
    },
    {
     "ename": "TypeError",
     "evalue": "can only concatenate str (not \"int\") to str",
     "output_type": "error",
     "traceback": [
      "\u001b[0;31m---------------------------------------------------------------------------\u001b[0m",
      "\u001b[0;31mTypeError\u001b[0m                                 Traceback (most recent call last)",
      "\u001b[0;32m<ipython-input-57-51edcfc4170d>\u001b[0m in \u001b[0;36m<module>\u001b[0;34m\u001b[0m\n\u001b[1;32m     14\u001b[0m         \u001b[0mprint\u001b[0m\u001b[0;34m(\u001b[0m\u001b[0mage\u001b[0m \u001b[0;34m+\u001b[0m \u001b[0;36m1\u001b[0m\u001b[0;34m)\u001b[0m\u001b[0;34m\u001b[0m\u001b[0;34m\u001b[0m\u001b[0m\n\u001b[1;32m     15\u001b[0m \u001b[0;34m\u001b[0m\u001b[0m\n\u001b[0;32m---> 16\u001b[0;31m \u001b[0mB\u001b[0m\u001b[0;34m(\u001b[0m\u001b[0;34m'Alice'\u001b[0m\u001b[0;34m,\u001b[0m \u001b[0;36m14\u001b[0m\u001b[0;34m)\u001b[0m\u001b[0;34m\u001b[0m\u001b[0;34m\u001b[0m\u001b[0m\n\u001b[0m",
      "\u001b[0;32m<ipython-input-57-51edcfc4170d>\u001b[0m in \u001b[0;36m__init__\u001b[0;34m(self, name, age)\u001b[0m\n\u001b[1;32m      9\u001b[0m     \u001b[0;32mdef\u001b[0m \u001b[0m__init__\u001b[0m\u001b[0;34m(\u001b[0m\u001b[0mself\u001b[0m\u001b[0;34m,\u001b[0m \u001b[0mname\u001b[0m\u001b[0;34m,\u001b[0m \u001b[0mage\u001b[0m\u001b[0;34m)\u001b[0m\u001b[0;34m:\u001b[0m\u001b[0;34m\u001b[0m\u001b[0;34m\u001b[0m\u001b[0m\n\u001b[1;32m     10\u001b[0m         \u001b[0mself\u001b[0m\u001b[0;34m.\u001b[0m\u001b[0mcall_name\u001b[0m\u001b[0;34m(\u001b[0m\u001b[0mage\u001b[0m\u001b[0;34m)\u001b[0m\u001b[0;34m\u001b[0m\u001b[0;34m\u001b[0m\u001b[0m\n\u001b[0;32m---> 11\u001b[0;31m         \u001b[0msuper\u001b[0m\u001b[0;34m(\u001b[0m\u001b[0;34m)\u001b[0m\u001b[0;34m.\u001b[0m\u001b[0m__init__\u001b[0m\u001b[0;34m(\u001b[0m\u001b[0mname\u001b[0m\u001b[0;34m)\u001b[0m\u001b[0;34m\u001b[0m\u001b[0;34m\u001b[0m\u001b[0m\n\u001b[0m\u001b[1;32m     12\u001b[0m \u001b[0;34m\u001b[0m\u001b[0m\n\u001b[1;32m     13\u001b[0m     \u001b[0;32mdef\u001b[0m \u001b[0mcall_name\u001b[0m\u001b[0;34m(\u001b[0m\u001b[0mself\u001b[0m\u001b[0;34m,\u001b[0m \u001b[0mage\u001b[0m\u001b[0;34m)\u001b[0m\u001b[0;34m:\u001b[0m\u001b[0;34m\u001b[0m\u001b[0;34m\u001b[0m\u001b[0m\n",
      "\u001b[0;32m<ipython-input-57-51edcfc4170d>\u001b[0m in \u001b[0;36m__init__\u001b[0;34m(self, name)\u001b[0m\n\u001b[1;32m      1\u001b[0m \u001b[0;32mclass\u001b[0m \u001b[0mA\u001b[0m\u001b[0;34m:\u001b[0m\u001b[0;34m\u001b[0m\u001b[0;34m\u001b[0m\u001b[0m\n\u001b[1;32m      2\u001b[0m     \u001b[0;32mdef\u001b[0m \u001b[0m__init__\u001b[0m\u001b[0;34m(\u001b[0m\u001b[0mself\u001b[0m\u001b[0;34m,\u001b[0m \u001b[0mname\u001b[0m\u001b[0;34m)\u001b[0m\u001b[0;34m:\u001b[0m\u001b[0;34m\u001b[0m\u001b[0;34m\u001b[0m\u001b[0m\n\u001b[0;32m----> 3\u001b[0;31m         \u001b[0mself\u001b[0m\u001b[0;34m.\u001b[0m\u001b[0mcall_name\u001b[0m\u001b[0;34m(\u001b[0m\u001b[0mname\u001b[0m\u001b[0;34m)\u001b[0m\u001b[0;34m\u001b[0m\u001b[0;34m\u001b[0m\u001b[0m\n\u001b[0m\u001b[1;32m      4\u001b[0m \u001b[0;34m\u001b[0m\u001b[0m\n\u001b[1;32m      5\u001b[0m     \u001b[0;32mdef\u001b[0m \u001b[0mcall_name\u001b[0m\u001b[0;34m(\u001b[0m\u001b[0mself\u001b[0m\u001b[0;34m,\u001b[0m \u001b[0mname\u001b[0m\u001b[0;34m)\u001b[0m\u001b[0;34m:\u001b[0m\u001b[0;34m\u001b[0m\u001b[0;34m\u001b[0m\u001b[0m\n",
      "\u001b[0;32m<ipython-input-57-51edcfc4170d>\u001b[0m in \u001b[0;36mcall_name\u001b[0;34m(self, age)\u001b[0m\n\u001b[1;32m     12\u001b[0m \u001b[0;34m\u001b[0m\u001b[0m\n\u001b[1;32m     13\u001b[0m     \u001b[0;32mdef\u001b[0m \u001b[0mcall_name\u001b[0m\u001b[0;34m(\u001b[0m\u001b[0mself\u001b[0m\u001b[0;34m,\u001b[0m \u001b[0mage\u001b[0m\u001b[0;34m)\u001b[0m\u001b[0;34m:\u001b[0m\u001b[0;34m\u001b[0m\u001b[0;34m\u001b[0m\u001b[0m\n\u001b[0;32m---> 14\u001b[0;31m         \u001b[0mprint\u001b[0m\u001b[0;34m(\u001b[0m\u001b[0mage\u001b[0m \u001b[0;34m+\u001b[0m \u001b[0;36m1\u001b[0m\u001b[0;34m)\u001b[0m\u001b[0;34m\u001b[0m\u001b[0;34m\u001b[0m\u001b[0m\n\u001b[0m\u001b[1;32m     15\u001b[0m \u001b[0;34m\u001b[0m\u001b[0m\n\u001b[1;32m     16\u001b[0m \u001b[0mB\u001b[0m\u001b[0;34m(\u001b[0m\u001b[0;34m'Alice'\u001b[0m\u001b[0;34m,\u001b[0m \u001b[0;36m14\u001b[0m\u001b[0;34m)\u001b[0m\u001b[0;34m\u001b[0m\u001b[0;34m\u001b[0m\u001b[0m\n",
      "\u001b[0;31mTypeError\u001b[0m: can only concatenate str (not \"int\") to str"
     ]
    }
   ],
   "source": [
    "class A:\n",
    "    def __init__(self, name):\n",
    "        self.call_name(name)\n",
    "    \n",
    "    def call_name(self, name):\n",
    "        print(name)\n",
    "        \n",
    "class B(A):\n",
    "    def __init__(self, name, age):\n",
    "        self.call_name(age)\n",
    "        super().__init__(name)\n",
    "        \n",
    "    def call_name(self, age):\n",
    "        print(age + 1)\n",
    "\n",
    "B('Alice', 14)"
   ]
  },
  {
   "cell_type": "code",
   "execution_count": 58,
   "metadata": {},
   "outputs": [],
   "source": [
    "x, y = load_data_from_func(func=lambda x: 10 * np.sin(x) - 0.134 * x**2 + 4.0872 * x, scale=1, random_state=1091)\n",
    "X_train, X_test, y_train, y_test = train_test_split(x, y, random_state=1832)"
   ]
  },
  {
   "cell_type": "code",
   "execution_count": 59,
   "metadata": {},
   "outputs": [
    {
     "data": {
      "text/plain": [
       "0.9897665708601325"
      ]
     },
     "execution_count": 59,
     "metadata": {},
     "output_type": "execute_result"
    }
   ],
   "source": [
    "rgs = NumpyLWLR(k=0.1)\n",
    "rgs.fit(X_train, y_train)\n",
    "rgs.score(X_test, y_test)"
   ]
  },
  {
   "cell_type": "markdown",
   "metadata": {},
   "source": [
    "### 5.2 绘制回归曲线"
   ]
  },
  {
   "cell_type": "code",
   "execution_count": 60,
   "metadata": {},
   "outputs": [],
   "source": [
    "def show_regression_line(X_data, y_data, y_pred):\n",
    "    \"\"\"show regression line no only linear regression.\n",
    "\n",
    "    Args:\n",
    "        X_data: A np.ndarray matrix of (point_count, 1) shape,\n",
    "            data type must be continuous value type.\n",
    "        y_data: A np.ndarray array of (point_count, ) shape.\n",
    "        y_pred: A np.ndarray array of (point_count, ) shape.\n",
    "    \"\"\"\n",
    "    plt.figure(figsize=[10, 5])\n",
    "    if X_data.ndim == 2:\n",
    "        X_data = X_data.reshape(-1)\n",
    "    plt.scatter(X_data, y_data)\n",
    "    idx = np.argsort(X_data)\n",
    "    X_data = X_data[idx]\n",
    "    y_pred = y_pred[idx]\n",
    "    plt.plot(X_data, y_pred, color=\"darkorange\")\n",
    "    plt.show()"
   ]
  },
  {
   "cell_type": "code",
   "execution_count": 61,
   "metadata": {},
   "outputs": [
    {
     "data": {
      "image/png": "[encoded data removed]",
      "text/plain": [
       "<Figure size 720x360 with 1 Axes>"
      ]
     },
     "metadata": {
      "needs_background": "light"
     },
     "output_type": "display_data"
    }
   ],
   "source": [
    "y_pred = rgs.predict(X_test)\n",
    "show_regression_line(X_test, y_test, y_pred)"
   ]
  },
  {
   "cell_type": "markdown",
   "metadata": {},
   "source": [
    "## 总结"
   ]
  },
  {
   "cell_type": "markdown",
   "metadata": {},
   "source": [
    "1. API  \n",
    "    > * 1.1 np.linalg.inv(a)  \n",
    "        >> * 求矩阵的逆矩阵  \n",
    "        >> * 如果矩阵是奇异矩阵不可逆  \n",
    "    > * 1.2 np.random.seed(seed)\n",
    "        >> * 设置随机数种子，保证多次执行代码，得到的随机结果一致\n",
    "    > * 1.3 np.random.randn(d0, d1, ... , dn)\n",
    "        >> * 用标准正态分布随机生成数据\n",
    "    > * 1.4 np.random.uniform(low=0.0, high=1.0, size=None)\n",
    "        >> * 均匀分布生成数据\n",
    "    > * 1.5 np.random.choice(a, size=None)\n",
    "        >> * 从a中随机选择size大小的数据\n",
    "    > * 1.6 np.c_[]\n",
    "        >> * 按列合并多个矩阵\n",
    "        >> * 是**方括号**，不是**圆括号**  \n",
    "    > * 1.7 np.delete(arr, obj, axis=None)\n",
    "        >> * 按axis删除数据\n",
    "    > * 1.8 np.identity(n)\n",
    "        >> * 生成单位矩阵(方阵)\n",
    "    > * 1.9 np.eye(N, M=None, k=0)  \n",
    "        >> * 生成对角矩阵  \n",
    "        >> * 不一定是方阵，默认M = N为方阵  \n",
    "        >> * k是对角线向右的偏移量\n",
    "\n",
    "2. 抽象类  \n",
    "    > * 2.1 NumpyBaseEstimator  \n",
    "        >> * 抽象出各种方法的参数验证方法，_fit_validation(X, y), _predict_validation(X_test), _score_validation(X_test, y_test)  \n",
    "    > * 2.2 NumpyRegressorMixin\n",
    "        >> * Regressor实现的score方法都一样，调用predict方法得到预测值，然后计算R^2指标  \n",
    "        >> * 可将score方法抽象成Regressor的Mixin类，每个Regressor继承该类即可继承score方法。  \n",
    "        >> * Mixin设计模式：只将方法抽象出来，Mixin类不可被实例化，且没有属性。  \n",
    "    > * 2.3 NumpyBaseLinearRegressor  \n",
    "        >> * LinearRegressor 和 Ridge只是计算coef_闭式解的公式不同  \n",
    "        >> * 抽象出NumpyBaseLinearRegressor类，LinearRegressor和Ridge只需单独修改计算coef闭式解的方法即可  \n",
    "    > * 2.4 NumpySGDBaseEstimator  \n",
    "        >> * SGD无论是分类还是回归，大部分代码都类似，抽象出NumpySGDBaseEstimator，减少写回归SGD时的代码量  \n",
    "\n",
    "3. SGD流程\n",
    "    >```python\n",
    "    \"\"\"\n",
    "    for epoch in arange(epoch):\n",
    "        for batch in batch_ganerator(X_train, y_train):\n",
    "            1. 计算预测值y_pred_batch\n",
    "            2. 计算loss\n",
    "            3. 计算导数\n",
    "            4. 计算累计平均损失，并输出\n",
    "            5. 更新参数\n",
    "        for batch in batch_ganerator(X_valid, y_valid, shuffle=False):\n",
    "            1. 计算valid累计平均损失\n",
    "        1. 输出valid的累计平均损失  \n",
    "        2. 保存最优参数  \n",
    "        3. 判断early stopping  \n",
    "    \"\"\"\n",
    "    > ```\n",
    "    \n",
    "4. Python指南\n",
    "    > * 4.1 深拷贝\n",
    "        >> import copy\n",
    "        >> copy.deepcopy(x)\n",
    "    > * 4.2 reduce\n",
    "        >> from functools import reduce\n",
    "        >> sum_ = lambda lst: reduce(lambda x, y: x + y, lst)\n",
    "    > * 4.3 继承\n",
    "        >> * 子类重写父类的某个方法，若父类的另一个方法也调用了他，调用的也会变成重写的方法。  \n",
    "        >> * 多继承中，先继承的类 方法优先。  "
   ]
  },
  {
   "cell_type": "markdown",
   "metadata": {},
   "source": [
    "## 作业"
   ]
  },
  {
   "cell_type": "markdown",
   "metadata": {},
   "source": [
    "1. 惯例，敲两遍以上  \n",
    "2. 熟悉各个API的输入输出  \n",
    "3. 查找Lasso的numpy实现  \n",
    "4. numpy实现StandardScaler  "
   ]
  },
  {
   "cell_type": "markdown",
   "metadata": {},
   "source": [
    "## 相关链接   \n",
    "\n",
    "<a href=\"./02.1.LinearRegression.ipynb\" style=\"\"> 2.1 线性回归、岭回归、Lasso、SGD、局部加权线性回归原理</a>    \n",
    "<a href=\"./02.2.LinearRegression-sklearn.ipynb\" style=\"\"> 2.2 sklearn中使用线性回归、岭回归、Lasso、SGD、多项式回归  </a>  \n",
    "   \n",
    "<a href=\"./02.4.LinearRegression-tf2.ipynb\"> 2.4 TensorFlow2实现线性回归、岭回归、SGD回归、LWLR </a>  \n",
    "<a href=\"./02.5.LinearRegression-torch1.ipynb\"> 2.5 PyTorch1实现线性回归、岭回归、SGD回归 、LWLR</a>  "
   ]
  },
  {
   "cell_type": "markdown",
   "metadata": {},
   "source": [
    "## 项目源码  \n",
    "\n",
    "https://github.com/LossJ     \n",
    "进入后点击Statistic-Machine-Learning"
   ]
  }
 ],
 "metadata": {
  "kernelspec": {
   "display_name": "Python 3",
   "language": "python",
   "name": "python3"
  },
  "language_info": {
   "codemirror_mode": {
    "name": "ipython",
    "version": 3
   },
   "file_extension": ".py",
   "mimetype": "text/x-python",
   "name": "python",
   "nbconvert_exporter": "python",
   "pygments_lexer": "ipython3",
   "version": "3.7.2"
  }
 },
 "nbformat": 4,
 "nbformat_minor": 4
}
