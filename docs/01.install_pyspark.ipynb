{
 "cells": [
  {
   "cell_type": "markdown",
   "metadata": {},
   "source": [
    "# Mac、Linux安装PySpark"
   ]
  },
  {
   "cell_type": "markdown",
   "metadata": {},
   "source": [
    "## 1. 安装Spark"
   ]
  },
  {
   "cell_type": "markdown",
   "metadata": {},
   "source": [
    "http://spark.apache.org/downloads.html"
   ]
  },
  {
   "cell_type": "markdown",
   "metadata": {},
   "source": [
    "<img src=\"./imgs/01.spark1.png\" width=\"800px\">"
   ]
  },
  {
   "cell_type": "markdown",
   "metadata": {},
   "source": [
    "1. 选择Spark 3.0.1, Hadoop 3.2  \n",
    "2. 点击spark-3.0.1-bin-hadoop3.2.tgz下载  \n",
    "3. 将压缩包移动到/usr/local下：sudo mv spark-3.0.1-bin-hadoop3.2.tgz /usr/local  \n",
    "4. 解压：cd /usr/local && tar -zvxf spark-3.0.1-bin-hadoop3.2.tgz  \n",
    "5. 编辑环境配置文件：vim ~/.bash_profile\n",
    "    >```shell\n",
    "    export SPARK_HOME=/usr/local/spark-3.0.1-bin-hadoop3.2\n",
    "    export PATH=$PATH:$SPARK_HOME/bin\n",
    "    export PYSPARK_PYTHON=python3.7\n",
    "    export PYSPARK_DRIVER_PYTHON=ipython\n",
    "    export PYSPARK_DRIVER_PYTHON_OPTS=\"notebook\"\n",
    "    >```\n",
    "    > 注意PYSPARK_PYTHON填写自己的python环境\n",
    "    > PYSPARK_DRIVER_PYTHON填写驱动，用jupyter则填ipython\n",
    "    > PYSPARK_DRIVER_PYTHON_OPTS如果用jupyter则填notebook\n",
    "6. 让环境配置生效：source ~/.bash_profile\n",
    "7. 编辑spark环境配置文件\n",
    "    > * 7.1 进入/usr/local/spark-3.0.1-bin-hadoop3.2/conf，找到spark-env.sh.template文件，拷贝一份到该目录，并重命名为spark-env.sh  \n",
    "    > * 7.2 编辑spark-env.sh，写入：\n",
    "        >> ```shell\n",
    "        PYSPARK_PYTHON=python3.7\n",
    "        PYSPARK_DRIVER_PYTHON=ipython\n",
    "        PYSPARK_DRIVER_PYTHON_OPTS=\"notebook\"\n",
    "        >>``` \n",
    "    > * 可能要重启电脑才能生效"
   ]
  },
  {
   "cell_type": "markdown",
   "metadata": {},
   "source": [
    "8. 输入spark-shell，验证是否安装成功"
   ]
  },
  {
   "cell_type": "markdown",
   "metadata": {},
   "source": [
    "<img src=\"./imgs/01.spark-shell.png\" width=\"800px\">"
   ]
  },
  {
   "cell_type": "markdown",
   "metadata": {},
   "source": [
    "9. 输入:quit退出"
   ]
  },
  {
   "cell_type": "markdown",
   "metadata": {},
   "source": [
    "## 2. 安装pyspark"
   ]
  },
  {
   "cell_type": "markdown",
   "metadata": {},
   "source": [
    "1. 安装命令：\n",
    "```shell\n",
    "pip3.7 install pyspark -i https://pypi.douban.com/simple\n",
    "```"
   ]
  }
 ],
 "metadata": {
  "kernelspec": {
   "display_name": "Python 3",
   "language": "python",
   "name": "python3"
  },
  "language_info": {
   "codemirror_mode": {
    "name": "ipython",
    "version": 3
   },
   "file_extension": ".py",
   "mimetype": "text/x-python",
   "name": "python",
   "nbconvert_exporter": "python",
   "pygments_lexer": "ipython3",
   "version": "3.7.2"
  }
 },
 "nbformat": 4,
 "nbformat_minor": 4
}
